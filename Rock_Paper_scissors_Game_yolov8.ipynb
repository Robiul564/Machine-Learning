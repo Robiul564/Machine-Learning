{
  "nbformat": 4,
  "nbformat_minor": 0,
  "metadata": {
    "colab": {
      "provenance": [],
      "gpuType": "T4",
      "authorship_tag": "ABX9TyPs+WwU/TZRyt1a4xmStUAJ",
      "include_colab_link": true
    },
    "kernelspec": {
      "name": "python3",
      "display_name": "Python 3"
    },
    "language_info": {
      "name": "python"
    },
    "accelerator": "GPU"
  },
  "cells": [
    {
      "cell_type": "markdown",
      "metadata": {
        "id": "view-in-github",
        "colab_type": "text"
      },
      "source": [
        "<a href=\"https://colab.research.google.com/github/Robiul564/Machine-Learning/blob/main/Rock_Paper_scissors_Game_yolov8.ipynb\" target=\"_parent\"><img src=\"https://colab.research.google.com/assets/colab-badge.svg\" alt=\"Open In Colab\"/></a>"
      ]
    },
    {
      "cell_type": "code",
      "execution_count": 1,
      "metadata": {
        "colab": {
          "base_uri": "https://localhost:8080/"
        },
        "id": "nm9tRR0s66Yw",
        "outputId": "f4a9472c-c9c9-4025-d0e0-7b2c42687cc3"
      },
      "outputs": [
        {
          "output_type": "stream",
          "name": "stdout",
          "text": [
            "Collecting ultralytics\n",
            "  Downloading ultralytics-8.3.167-py3-none-any.whl.metadata (37 kB)\n",
            "Collecting roboflow\n",
            "  Downloading roboflow-1.2.1-py3-none-any.whl.metadata (9.7 kB)\n",
            "Requirement already satisfied: numpy>=1.23.0 in /usr/local/lib/python3.11/dist-packages (from ultralytics) (2.0.2)\n",
            "Requirement already satisfied: matplotlib>=3.3.0 in /usr/local/lib/python3.11/dist-packages (from ultralytics) (3.10.0)\n",
            "Requirement already satisfied: opencv-python>=4.6.0 in /usr/local/lib/python3.11/dist-packages (from ultralytics) (4.11.0.86)\n",
            "Requirement already satisfied: pillow>=7.1.2 in /usr/local/lib/python3.11/dist-packages (from ultralytics) (11.2.1)\n",
            "Requirement already satisfied: pyyaml>=5.3.1 in /usr/local/lib/python3.11/dist-packages (from ultralytics) (6.0.2)\n",
            "Requirement already satisfied: requests>=2.23.0 in /usr/local/lib/python3.11/dist-packages (from ultralytics) (2.32.3)\n",
            "Requirement already satisfied: scipy>=1.4.1 in /usr/local/lib/python3.11/dist-packages (from ultralytics) (1.15.3)\n",
            "Requirement already satisfied: torch>=1.8.0 in /usr/local/lib/python3.11/dist-packages (from ultralytics) (2.6.0+cu124)\n",
            "Requirement already satisfied: torchvision>=0.9.0 in /usr/local/lib/python3.11/dist-packages (from ultralytics) (0.21.0+cu124)\n",
            "Requirement already satisfied: tqdm>=4.64.0 in /usr/local/lib/python3.11/dist-packages (from ultralytics) (4.67.1)\n",
            "Requirement already satisfied: psutil in /usr/local/lib/python3.11/dist-packages (from ultralytics) (5.9.5)\n",
            "Requirement already satisfied: py-cpuinfo in /usr/local/lib/python3.11/dist-packages (from ultralytics) (9.0.0)\n",
            "Requirement already satisfied: pandas>=1.1.4 in /usr/local/lib/python3.11/dist-packages (from ultralytics) (2.2.2)\n",
            "Collecting ultralytics-thop>=2.0.0 (from ultralytics)\n",
            "  Downloading ultralytics_thop-2.0.14-py3-none-any.whl.metadata (9.4 kB)\n",
            "Requirement already satisfied: certifi in /usr/local/lib/python3.11/dist-packages (from roboflow) (2025.7.9)\n",
            "Collecting idna==3.7 (from roboflow)\n",
            "  Downloading idna-3.7-py3-none-any.whl.metadata (9.9 kB)\n",
            "Requirement already satisfied: cycler in /usr/local/lib/python3.11/dist-packages (from roboflow) (0.12.1)\n",
            "Requirement already satisfied: kiwisolver>=1.3.1 in /usr/local/lib/python3.11/dist-packages (from roboflow) (1.4.8)\n",
            "Collecting opencv-python-headless==4.10.0.84 (from roboflow)\n",
            "  Downloading opencv_python_headless-4.10.0.84-cp37-abi3-manylinux_2_17_x86_64.manylinux2014_x86_64.whl.metadata (20 kB)\n",
            "Collecting pillow-heif<2 (from roboflow)\n",
            "  Downloading pillow_heif-1.0.0-cp311-cp311-manylinux_2_17_x86_64.manylinux2014_x86_64.whl.metadata (9.6 kB)\n",
            "Collecting pillow-avif-plugin<2 (from roboflow)\n",
            "  Downloading pillow_avif_plugin-1.5.2-cp311-cp311-manylinux_2_28_x86_64.whl.metadata (2.1 kB)\n",
            "Requirement already satisfied: python-dateutil in /usr/local/lib/python3.11/dist-packages (from roboflow) (2.9.0.post0)\n",
            "Collecting python-dotenv (from roboflow)\n",
            "  Downloading python_dotenv-1.1.1-py3-none-any.whl.metadata (24 kB)\n",
            "Requirement already satisfied: six in /usr/local/lib/python3.11/dist-packages (from roboflow) (1.17.0)\n",
            "Requirement already satisfied: urllib3>=1.26.6 in /usr/local/lib/python3.11/dist-packages (from roboflow) (2.4.0)\n",
            "Requirement already satisfied: requests-toolbelt in /usr/local/lib/python3.11/dist-packages (from roboflow) (1.0.0)\n",
            "Collecting filetype (from roboflow)\n",
            "  Downloading filetype-1.2.0-py2.py3-none-any.whl.metadata (6.5 kB)\n",
            "Requirement already satisfied: contourpy>=1.0.1 in /usr/local/lib/python3.11/dist-packages (from matplotlib>=3.3.0->ultralytics) (1.3.2)\n",
            "Requirement already satisfied: fonttools>=4.22.0 in /usr/local/lib/python3.11/dist-packages (from matplotlib>=3.3.0->ultralytics) (4.58.5)\n",
            "Requirement already satisfied: packaging>=20.0 in /usr/local/lib/python3.11/dist-packages (from matplotlib>=3.3.0->ultralytics) (24.2)\n",
            "Requirement already satisfied: pyparsing>=2.3.1 in /usr/local/lib/python3.11/dist-packages (from matplotlib>=3.3.0->ultralytics) (3.2.3)\n",
            "Requirement already satisfied: pytz>=2020.1 in /usr/local/lib/python3.11/dist-packages (from pandas>=1.1.4->ultralytics) (2025.2)\n",
            "Requirement already satisfied: tzdata>=2022.7 in /usr/local/lib/python3.11/dist-packages (from pandas>=1.1.4->ultralytics) (2025.2)\n",
            "Requirement already satisfied: charset-normalizer<4,>=2 in /usr/local/lib/python3.11/dist-packages (from requests>=2.23.0->ultralytics) (3.4.2)\n",
            "Requirement already satisfied: filelock in /usr/local/lib/python3.11/dist-packages (from torch>=1.8.0->ultralytics) (3.18.0)\n",
            "Requirement already satisfied: typing-extensions>=4.10.0 in /usr/local/lib/python3.11/dist-packages (from torch>=1.8.0->ultralytics) (4.14.1)\n",
            "Requirement already satisfied: networkx in /usr/local/lib/python3.11/dist-packages (from torch>=1.8.0->ultralytics) (3.5)\n",
            "Requirement already satisfied: jinja2 in /usr/local/lib/python3.11/dist-packages (from torch>=1.8.0->ultralytics) (3.1.6)\n",
            "Requirement already satisfied: fsspec in /usr/local/lib/python3.11/dist-packages (from torch>=1.8.0->ultralytics) (2025.3.2)\n",
            "Collecting nvidia-cuda-nvrtc-cu12==12.4.127 (from torch>=1.8.0->ultralytics)\n",
            "  Downloading nvidia_cuda_nvrtc_cu12-12.4.127-py3-none-manylinux2014_x86_64.whl.metadata (1.5 kB)\n",
            "Collecting nvidia-cuda-runtime-cu12==12.4.127 (from torch>=1.8.0->ultralytics)\n",
            "  Downloading nvidia_cuda_runtime_cu12-12.4.127-py3-none-manylinux2014_x86_64.whl.metadata (1.5 kB)\n",
            "Collecting nvidia-cuda-cupti-cu12==12.4.127 (from torch>=1.8.0->ultralytics)\n",
            "  Downloading nvidia_cuda_cupti_cu12-12.4.127-py3-none-manylinux2014_x86_64.whl.metadata (1.6 kB)\n",
            "Collecting nvidia-cudnn-cu12==9.1.0.70 (from torch>=1.8.0->ultralytics)\n",
            "  Downloading nvidia_cudnn_cu12-9.1.0.70-py3-none-manylinux2014_x86_64.whl.metadata (1.6 kB)\n",
            "Collecting nvidia-cublas-cu12==12.4.5.8 (from torch>=1.8.0->ultralytics)\n",
            "  Downloading nvidia_cublas_cu12-12.4.5.8-py3-none-manylinux2014_x86_64.whl.metadata (1.5 kB)\n",
            "Collecting nvidia-cufft-cu12==11.2.1.3 (from torch>=1.8.0->ultralytics)\n",
            "  Downloading nvidia_cufft_cu12-11.2.1.3-py3-none-manylinux2014_x86_64.whl.metadata (1.5 kB)\n",
            "Collecting nvidia-curand-cu12==10.3.5.147 (from torch>=1.8.0->ultralytics)\n",
            "  Downloading nvidia_curand_cu12-10.3.5.147-py3-none-manylinux2014_x86_64.whl.metadata (1.5 kB)\n",
            "Collecting nvidia-cusolver-cu12==11.6.1.9 (from torch>=1.8.0->ultralytics)\n",
            "  Downloading nvidia_cusolver_cu12-11.6.1.9-py3-none-manylinux2014_x86_64.whl.metadata (1.6 kB)\n",
            "Collecting nvidia-cusparse-cu12==12.3.1.170 (from torch>=1.8.0->ultralytics)\n",
            "  Downloading nvidia_cusparse_cu12-12.3.1.170-py3-none-manylinux2014_x86_64.whl.metadata (1.6 kB)\n",
            "Requirement already satisfied: nvidia-cusparselt-cu12==0.6.2 in /usr/local/lib/python3.11/dist-packages (from torch>=1.8.0->ultralytics) (0.6.2)\n",
            "Requirement already satisfied: nvidia-nccl-cu12==2.21.5 in /usr/local/lib/python3.11/dist-packages (from torch>=1.8.0->ultralytics) (2.21.5)\n",
            "Requirement already satisfied: nvidia-nvtx-cu12==12.4.127 in /usr/local/lib/python3.11/dist-packages (from torch>=1.8.0->ultralytics) (12.4.127)\n",
            "Collecting nvidia-nvjitlink-cu12==12.4.127 (from torch>=1.8.0->ultralytics)\n",
            "  Downloading nvidia_nvjitlink_cu12-12.4.127-py3-none-manylinux2014_x86_64.whl.metadata (1.5 kB)\n",
            "Requirement already satisfied: triton==3.2.0 in /usr/local/lib/python3.11/dist-packages (from torch>=1.8.0->ultralytics) (3.2.0)\n",
            "Requirement already satisfied: sympy==1.13.1 in /usr/local/lib/python3.11/dist-packages (from torch>=1.8.0->ultralytics) (1.13.1)\n",
            "Requirement already satisfied: mpmath<1.4,>=1.1.0 in /usr/local/lib/python3.11/dist-packages (from sympy==1.13.1->torch>=1.8.0->ultralytics) (1.3.0)\n",
            "Requirement already satisfied: MarkupSafe>=2.0 in /usr/local/lib/python3.11/dist-packages (from jinja2->torch>=1.8.0->ultralytics) (3.0.2)\n",
            "Downloading ultralytics-8.3.167-py3-none-any.whl (1.0 MB)\n",
            "\u001b[2K   \u001b[90m━━━━━━━━━━━━━━━━━━━━━━━━━━━━━━━━━━━━━━━━\u001b[0m \u001b[32m1.0/1.0 MB\u001b[0m \u001b[31m27.9 MB/s\u001b[0m eta \u001b[36m0:00:00\u001b[0m\n",
            "\u001b[?25hDownloading roboflow-1.2.1-py3-none-any.whl (86 kB)\n",
            "\u001b[2K   \u001b[90m━━━━━━━━━━━━━━━━━━━━━━━━━━━━━━━━━━━━━━━━\u001b[0m \u001b[32m86.9/86.9 kB\u001b[0m \u001b[31m9.3 MB/s\u001b[0m eta \u001b[36m0:00:00\u001b[0m\n",
            "\u001b[?25hDownloading idna-3.7-py3-none-any.whl (66 kB)\n",
            "\u001b[2K   \u001b[90m━━━━━━━━━━━━━━━━━━━━━━━━━━━━━━━━━━━━━━━━\u001b[0m \u001b[32m66.8/66.8 kB\u001b[0m \u001b[31m7.5 MB/s\u001b[0m eta \u001b[36m0:00:00\u001b[0m\n",
            "\u001b[?25hDownloading opencv_python_headless-4.10.0.84-cp37-abi3-manylinux_2_17_x86_64.manylinux2014_x86_64.whl (49.9 MB)\n",
            "\u001b[2K   \u001b[90m━━━━━━━━━━━━━━━━━━━━━━━━━━━━━━━━━━━━━━━━\u001b[0m \u001b[32m49.9/49.9 MB\u001b[0m \u001b[31m14.0 MB/s\u001b[0m eta \u001b[36m0:00:00\u001b[0m\n",
            "\u001b[?25hDownloading pillow_avif_plugin-1.5.2-cp311-cp311-manylinux_2_28_x86_64.whl (4.2 MB)\n",
            "\u001b[2K   \u001b[90m━━━━━━━━━━━━━━━━━━━━━━━━━━━━━━━━━━━━━━━━\u001b[0m \u001b[32m4.2/4.2 MB\u001b[0m \u001b[31m98.0 MB/s\u001b[0m eta \u001b[36m0:00:00\u001b[0m\n",
            "\u001b[?25hDownloading pillow_heif-1.0.0-cp311-cp311-manylinux_2_17_x86_64.manylinux2014_x86_64.whl (4.9 MB)\n",
            "\u001b[2K   \u001b[90m━━━━━━━━━━━━━━━━━━━━━━━━━━━━━━━━━━━━━━━━\u001b[0m \u001b[32m4.9/4.9 MB\u001b[0m \u001b[31m93.1 MB/s\u001b[0m eta \u001b[36m0:00:00\u001b[0m\n",
            "\u001b[?25hDownloading nvidia_cublas_cu12-12.4.5.8-py3-none-manylinux2014_x86_64.whl (363.4 MB)\n",
            "\u001b[2K   \u001b[90m━━━━━━━━━━━━━━━━━━━━━━━━━━━━━━━━━━━━━━━━\u001b[0m \u001b[32m363.4/363.4 MB\u001b[0m \u001b[31m4.8 MB/s\u001b[0m eta \u001b[36m0:00:00\u001b[0m\n",
            "\u001b[?25hDownloading nvidia_cuda_cupti_cu12-12.4.127-py3-none-manylinux2014_x86_64.whl (13.8 MB)\n",
            "\u001b[2K   \u001b[90m━━━━━━━━━━━━━━━━━━━━━━━━━━━━━━━━━━━━━━━━\u001b[0m \u001b[32m13.8/13.8 MB\u001b[0m \u001b[31m120.1 MB/s\u001b[0m eta \u001b[36m0:00:00\u001b[0m\n",
            "\u001b[?25hDownloading nvidia_cuda_nvrtc_cu12-12.4.127-py3-none-manylinux2014_x86_64.whl (24.6 MB)\n",
            "\u001b[2K   \u001b[90m━━━━━━━━━━━━━━━━━━━━━━━━━━━━━━━━━━━━━━━━\u001b[0m \u001b[32m24.6/24.6 MB\u001b[0m \u001b[31m92.2 MB/s\u001b[0m eta \u001b[36m0:00:00\u001b[0m\n",
            "\u001b[?25hDownloading nvidia_cuda_runtime_cu12-12.4.127-py3-none-manylinux2014_x86_64.whl (883 kB)\n",
            "\u001b[2K   \u001b[90m━━━━━━━━━━━━━━━━━━━━━━━━━━━━━━━━━━━━━━━━\u001b[0m \u001b[32m883.7/883.7 kB\u001b[0m \u001b[31m64.4 MB/s\u001b[0m eta \u001b[36m0:00:00\u001b[0m\n",
            "\u001b[?25hDownloading nvidia_cudnn_cu12-9.1.0.70-py3-none-manylinux2014_x86_64.whl (664.8 MB)\n",
            "\u001b[2K   \u001b[90m━━━━━━━━━━━━━━━━━━━━━━━━━━━━━━━━━━━━━━━━\u001b[0m \u001b[32m664.8/664.8 MB\u001b[0m \u001b[31m1.3 MB/s\u001b[0m eta \u001b[36m0:00:00\u001b[0m\n",
            "\u001b[?25hDownloading nvidia_cufft_cu12-11.2.1.3-py3-none-manylinux2014_x86_64.whl (211.5 MB)\n",
            "\u001b[2K   \u001b[90m━━━━━━━━━━━━━━━━━━━━━━━━━━━━━━━━━━━━━━━━\u001b[0m \u001b[32m211.5/211.5 MB\u001b[0m \u001b[31m5.5 MB/s\u001b[0m eta \u001b[36m0:00:00\u001b[0m\n",
            "\u001b[?25hDownloading nvidia_curand_cu12-10.3.5.147-py3-none-manylinux2014_x86_64.whl (56.3 MB)\n",
            "\u001b[2K   \u001b[90m━━━━━━━━━━━━━━━━━━━━━━━━━━━━━━━━━━━━━━━━\u001b[0m \u001b[32m56.3/56.3 MB\u001b[0m \u001b[31m11.8 MB/s\u001b[0m eta \u001b[36m0:00:00\u001b[0m\n",
            "\u001b[?25hDownloading nvidia_cusolver_cu12-11.6.1.9-py3-none-manylinux2014_x86_64.whl (127.9 MB)\n",
            "\u001b[2K   \u001b[90m━━━━━━━━━━━━━━━━━━━━━━━━━━━━━━━━━━━━━━━━\u001b[0m \u001b[32m127.9/127.9 MB\u001b[0m \u001b[31m7.6 MB/s\u001b[0m eta \u001b[36m0:00:00\u001b[0m\n",
            "\u001b[?25hDownloading nvidia_cusparse_cu12-12.3.1.170-py3-none-manylinux2014_x86_64.whl (207.5 MB)\n",
            "\u001b[2K   \u001b[90m━━━━━━━━━━━━━━━━━━━━━━━━━━━━━━━━━━━━━━━━\u001b[0m \u001b[32m207.5/207.5 MB\u001b[0m \u001b[31m5.5 MB/s\u001b[0m eta \u001b[36m0:00:00\u001b[0m\n",
            "\u001b[?25hDownloading nvidia_nvjitlink_cu12-12.4.127-py3-none-manylinux2014_x86_64.whl (21.1 MB)\n",
            "\u001b[2K   \u001b[90m━━━━━━━━━━━━━━━━━━━━━━━━━━━━━━━━━━━━━━━━\u001b[0m \u001b[32m21.1/21.1 MB\u001b[0m \u001b[31m111.0 MB/s\u001b[0m eta \u001b[36m0:00:00\u001b[0m\n",
            "\u001b[?25hDownloading ultralytics_thop-2.0.14-py3-none-any.whl (26 kB)\n",
            "Downloading filetype-1.2.0-py2.py3-none-any.whl (19 kB)\n",
            "Downloading python_dotenv-1.1.1-py3-none-any.whl (20 kB)\n",
            "Installing collected packages: pillow-avif-plugin, filetype, python-dotenv, pillow-heif, opencv-python-headless, nvidia-nvjitlink-cu12, nvidia-curand-cu12, nvidia-cufft-cu12, nvidia-cuda-runtime-cu12, nvidia-cuda-nvrtc-cu12, nvidia-cuda-cupti-cu12, nvidia-cublas-cu12, idna, nvidia-cusparse-cu12, nvidia-cudnn-cu12, nvidia-cusolver-cu12, roboflow, ultralytics-thop, ultralytics\n",
            "  Attempting uninstall: opencv-python-headless\n",
            "    Found existing installation: opencv-python-headless 4.12.0.88\n",
            "    Uninstalling opencv-python-headless-4.12.0.88:\n",
            "      Successfully uninstalled opencv-python-headless-4.12.0.88\n",
            "  Attempting uninstall: nvidia-nvjitlink-cu12\n",
            "    Found existing installation: nvidia-nvjitlink-cu12 12.5.82\n",
            "    Uninstalling nvidia-nvjitlink-cu12-12.5.82:\n",
            "      Successfully uninstalled nvidia-nvjitlink-cu12-12.5.82\n",
            "  Attempting uninstall: nvidia-curand-cu12\n",
            "    Found existing installation: nvidia-curand-cu12 10.3.6.82\n",
            "    Uninstalling nvidia-curand-cu12-10.3.6.82:\n",
            "      Successfully uninstalled nvidia-curand-cu12-10.3.6.82\n",
            "  Attempting uninstall: nvidia-cufft-cu12\n",
            "    Found existing installation: nvidia-cufft-cu12 11.2.3.61\n",
            "    Uninstalling nvidia-cufft-cu12-11.2.3.61:\n",
            "      Successfully uninstalled nvidia-cufft-cu12-11.2.3.61\n",
            "  Attempting uninstall: nvidia-cuda-runtime-cu12\n",
            "    Found existing installation: nvidia-cuda-runtime-cu12 12.5.82\n",
            "    Uninstalling nvidia-cuda-runtime-cu12-12.5.82:\n",
            "      Successfully uninstalled nvidia-cuda-runtime-cu12-12.5.82\n",
            "  Attempting uninstall: nvidia-cuda-nvrtc-cu12\n",
            "    Found existing installation: nvidia-cuda-nvrtc-cu12 12.5.82\n",
            "    Uninstalling nvidia-cuda-nvrtc-cu12-12.5.82:\n",
            "      Successfully uninstalled nvidia-cuda-nvrtc-cu12-12.5.82\n",
            "  Attempting uninstall: nvidia-cuda-cupti-cu12\n",
            "    Found existing installation: nvidia-cuda-cupti-cu12 12.5.82\n",
            "    Uninstalling nvidia-cuda-cupti-cu12-12.5.82:\n",
            "      Successfully uninstalled nvidia-cuda-cupti-cu12-12.5.82\n",
            "  Attempting uninstall: nvidia-cublas-cu12\n",
            "    Found existing installation: nvidia-cublas-cu12 12.5.3.2\n",
            "    Uninstalling nvidia-cublas-cu12-12.5.3.2:\n",
            "      Successfully uninstalled nvidia-cublas-cu12-12.5.3.2\n",
            "  Attempting uninstall: idna\n",
            "    Found existing installation: idna 3.10\n",
            "    Uninstalling idna-3.10:\n",
            "      Successfully uninstalled idna-3.10\n",
            "  Attempting uninstall: nvidia-cusparse-cu12\n",
            "    Found existing installation: nvidia-cusparse-cu12 12.5.1.3\n",
            "    Uninstalling nvidia-cusparse-cu12-12.5.1.3:\n",
            "      Successfully uninstalled nvidia-cusparse-cu12-12.5.1.3\n",
            "  Attempting uninstall: nvidia-cudnn-cu12\n",
            "    Found existing installation: nvidia-cudnn-cu12 9.3.0.75\n",
            "    Uninstalling nvidia-cudnn-cu12-9.3.0.75:\n",
            "      Successfully uninstalled nvidia-cudnn-cu12-9.3.0.75\n",
            "  Attempting uninstall: nvidia-cusolver-cu12\n",
            "    Found existing installation: nvidia-cusolver-cu12 11.6.3.83\n",
            "    Uninstalling nvidia-cusolver-cu12-11.6.3.83:\n",
            "      Successfully uninstalled nvidia-cusolver-cu12-11.6.3.83\n",
            "Successfully installed filetype-1.2.0 idna-3.7 nvidia-cublas-cu12-12.4.5.8 nvidia-cuda-cupti-cu12-12.4.127 nvidia-cuda-nvrtc-cu12-12.4.127 nvidia-cuda-runtime-cu12-12.4.127 nvidia-cudnn-cu12-9.1.0.70 nvidia-cufft-cu12-11.2.1.3 nvidia-curand-cu12-10.3.5.147 nvidia-cusolver-cu12-11.6.1.9 nvidia-cusparse-cu12-12.3.1.170 nvidia-nvjitlink-cu12-12.4.127 opencv-python-headless-4.10.0.84 pillow-avif-plugin-1.5.2 pillow-heif-1.0.0 python-dotenv-1.1.1 roboflow-1.2.1 ultralytics-8.3.167 ultralytics-thop-2.0.14\n"
          ]
        }
      ],
      "source": [
        "!pip install ultralytics roboflow"
      ]
    },
    {
      "cell_type": "code",
      "source": [
        "from roboflow import Roboflow\n",
        "rf = Roboflow(api_key=\"7lgbTQbLmRZmmJB4pWeS\")\n",
        "project = rf.workspace(\"robiul-awoul-robin-bfbb5\").project(\"rock-paper-scissors-sxsw-j9ilq\")\n",
        "version = project.version(1)\n",
        "dataset = version.download(\"yolov8\")"
      ],
      "metadata": {
        "colab": {
          "base_uri": "https://localhost:8080/"
        },
        "id": "VUdaQy3i7D8h",
        "outputId": "26b3c425-e044-45c1-b341-650aac9f8c9c"
      },
      "execution_count": 2,
      "outputs": [
        {
          "output_type": "stream",
          "name": "stdout",
          "text": [
            "loading Roboflow workspace...\n",
            "loading Roboflow project...\n"
          ]
        },
        {
          "output_type": "stream",
          "name": "stderr",
          "text": [
            "Downloading Dataset Version Zip in rock-paper-scissors-1 to yolov8:: 100%|██████████| 200776/200776 [00:06<00:00, 32505.27it/s]"
          ]
        },
        {
          "output_type": "stream",
          "name": "stdout",
          "text": [
            "\n"
          ]
        },
        {
          "output_type": "stream",
          "name": "stderr",
          "text": [
            "\n",
            "Extracting Dataset Version Zip to rock-paper-scissors-1 in yolov8:: 100%|██████████| 6270/6270 [00:01<00:00, 3609.83it/s]\n"
          ]
        },
        {
          "output_type": "stream",
          "name": "stdout",
          "text": [
            "Creating new Ultralytics Settings v0.0.6 file ✅ \n",
            "View Ultralytics Settings with 'yolo settings' or at '/root/.config/Ultralytics/settings.json'\n",
            "Update Settings with 'yolo settings key=value', i.e. 'yolo settings runs_dir=path/to/dir'. For help see https://docs.ultralytics.com/quickstart/#ultralytics-settings.\n"
          ]
        }
      ]
    },
    {
      "cell_type": "code",
      "source": [
        "from ultralytics import YOLO\n",
        "\n",
        "# Load base model\n",
        "model = YOLO(\"yolov8n.pt\")\n",
        "\n",
        "# Train with data.yaml path\n",
        "model.train(data=\"rock-paper-scissors-1/data.yaml\", epochs=30, imgsz=640)"
      ],
      "metadata": {
        "colab": {
          "base_uri": "https://localhost:8080/"
        },
        "id": "A4qZF1kZ7I34",
        "outputId": "bf0a5260-46c2-4ffa-e053-3c51b8a9612c"
      },
      "execution_count": 3,
      "outputs": [
        {
          "output_type": "stream",
          "name": "stdout",
          "text": [
            "Downloading https://github.com/ultralytics/assets/releases/download/v8.3.0/yolov8n.pt to 'yolov8n.pt'...\n"
          ]
        },
        {
          "output_type": "stream",
          "name": "stderr",
          "text": [
            "100%|██████████| 6.25M/6.25M [00:00<00:00, 86.6MB/s]\n"
          ]
        },
        {
          "output_type": "stream",
          "name": "stdout",
          "text": [
            "Ultralytics 8.3.167 🚀 Python-3.11.13 torch-2.6.0+cu124 CUDA:0 (Tesla T4, 15095MiB)\n",
            "\u001b[34m\u001b[1mengine/trainer: \u001b[0magnostic_nms=False, amp=True, augment=False, auto_augment=randaugment, batch=16, bgr=0.0, box=7.5, cache=False, cfg=None, classes=None, close_mosaic=10, cls=0.5, conf=None, copy_paste=0.0, copy_paste_mode=flip, cos_lr=False, cutmix=0.0, data=rock-paper-scissors-1/data.yaml, degrees=0.0, deterministic=True, device=None, dfl=1.5, dnn=False, dropout=0.0, dynamic=False, embed=None, epochs=30, erasing=0.4, exist_ok=False, fliplr=0.5, flipud=0.0, format=torchscript, fraction=1.0, freeze=None, half=False, hsv_h=0.015, hsv_s=0.7, hsv_v=0.4, imgsz=640, int8=False, iou=0.7, keras=False, kobj=1.0, line_width=None, lr0=0.01, lrf=0.01, mask_ratio=4, max_det=300, mixup=0.0, mode=train, model=yolov8n.pt, momentum=0.937, mosaic=1.0, multi_scale=False, name=train, nbs=64, nms=False, opset=None, optimize=False, optimizer=auto, overlap_mask=True, patience=100, perspective=0.0, plots=True, pose=12.0, pretrained=True, profile=False, project=None, rect=False, resume=False, retina_masks=False, save=True, save_conf=False, save_crop=False, save_dir=runs/detect/train, save_frames=False, save_json=False, save_period=-1, save_txt=False, scale=0.5, seed=0, shear=0.0, show=False, show_boxes=True, show_conf=True, show_labels=True, simplify=True, single_cls=False, source=None, split=val, stream_buffer=False, task=detect, time=None, tracker=botsort.yaml, translate=0.1, val=True, verbose=True, vid_stride=1, visualize=False, warmup_bias_lr=0.1, warmup_epochs=3.0, warmup_momentum=0.8, weight_decay=0.0005, workers=8, workspace=None\n",
            "Downloading https://ultralytics.com/assets/Arial.ttf to '/root/.config/Ultralytics/Arial.ttf'...\n"
          ]
        },
        {
          "output_type": "stream",
          "name": "stderr",
          "text": [
            "100%|██████████| 755k/755k [00:00<00:00, 24.1MB/s]"
          ]
        },
        {
          "output_type": "stream",
          "name": "stdout",
          "text": [
            "Overriding model.yaml nc=80 with nc=3\n",
            "\n",
            "                   from  n    params  module                                       arguments                     \n",
            "  0                  -1  1       464  ultralytics.nn.modules.conv.Conv             [3, 16, 3, 2]                 \n",
            "  1                  -1  1      4672  ultralytics.nn.modules.conv.Conv             [16, 32, 3, 2]                \n",
            "  2                  -1  1      7360  ultralytics.nn.modules.block.C2f             [32, 32, 1, True]             \n",
            "  3                  -1  1     18560  ultralytics.nn.modules.conv.Conv             [32, 64, 3, 2]                \n",
            "  4                  -1  2     49664  ultralytics.nn.modules.block.C2f             [64, 64, 2, True]             \n",
            "  5                  -1  1     73984  ultralytics.nn.modules.conv.Conv             [64, 128, 3, 2]               \n",
            "  6                  -1  2    197632  ultralytics.nn.modules.block.C2f             [128, 128, 2, True]           \n",
            "  7                  -1  1    295424  ultralytics.nn.modules.conv.Conv             [128, 256, 3, 2]              \n",
            "  8                  -1  1    460288  ultralytics.nn.modules.block.C2f             [256, 256, 1, True]           \n",
            "  9                  -1  1    164608  ultralytics.nn.modules.block.SPPF            [256, 256, 5]                 \n",
            " 10                  -1  1         0  torch.nn.modules.upsampling.Upsample         [None, 2, 'nearest']          \n",
            " 11             [-1, 6]  1         0  ultralytics.nn.modules.conv.Concat           [1]                           \n",
            " 12                  -1  1    148224  ultralytics.nn.modules.block.C2f             [384, 128, 1]                 \n",
            " 13                  -1  1         0  torch.nn.modules.upsampling.Upsample         [None, 2, 'nearest']          \n",
            " 14             [-1, 4]  1         0  ultralytics.nn.modules.conv.Concat           [1]                           \n",
            " 15                  -1  1     37248  ultralytics.nn.modules.block.C2f             [192, 64, 1]                  \n",
            " 16                  -1  1     36992  ultralytics.nn.modules.conv.Conv             [64, 64, 3, 2]                \n",
            " 17            [-1, 12]  1         0  ultralytics.nn.modules.conv.Concat           [1]                           \n",
            " 18                  -1  1    123648  ultralytics.nn.modules.block.C2f             [192, 128, 1]                 \n",
            " 19                  -1  1    147712  ultralytics.nn.modules.conv.Conv             [128, 128, 3, 2]              \n",
            " 20             [-1, 9]  1         0  ultralytics.nn.modules.conv.Concat           [1]                           \n",
            " 21                  -1  1    493056  ultralytics.nn.modules.block.C2f             [384, 256, 1]                 \n",
            " 22        [15, 18, 21]  1    751897  ultralytics.nn.modules.head.Detect           [3, [64, 128, 256]]           \n"
          ]
        },
        {
          "output_type": "stream",
          "name": "stderr",
          "text": [
            "\n"
          ]
        },
        {
          "output_type": "stream",
          "name": "stdout",
          "text": [
            "Model summary: 129 layers, 3,011,433 parameters, 3,011,417 gradients, 8.2 GFLOPs\n",
            "\n",
            "Transferred 319/355 items from pretrained weights\n",
            "Freezing layer 'model.22.dfl.conv.weight'\n",
            "\u001b[34m\u001b[1mAMP: \u001b[0mrunning Automatic Mixed Precision (AMP) checks...\n",
            "Downloading https://github.com/ultralytics/assets/releases/download/v8.3.0/yolo11n.pt to 'yolo11n.pt'...\n"
          ]
        },
        {
          "output_type": "stream",
          "name": "stderr",
          "text": [
            "100%|██████████| 5.35M/5.35M [00:00<00:00, 105MB/s]\n"
          ]
        },
        {
          "output_type": "stream",
          "name": "stdout",
          "text": [
            "\u001b[34m\u001b[1mAMP: \u001b[0mchecks passed ✅\n",
            "\u001b[34m\u001b[1mtrain: \u001b[0mFast image access ✅ (ping: 0.0±0.0 ms, read: 793.8±669.8 MB/s, size: 37.7 KB)\n"
          ]
        },
        {
          "output_type": "stream",
          "name": "stderr",
          "text": [
            "\u001b[34m\u001b[1mtrain: \u001b[0mScanning /content/rock-paper-scissors-1/train/labels... 2196 images, 856 backgrounds, 0 corrupt: 100%|██████████| 2196/2196 [00:01<00:00, 1867.07it/s]\n"
          ]
        },
        {
          "output_type": "stream",
          "name": "stdout",
          "text": [
            "\u001b[34m\u001b[1mtrain: \u001b[0mNew cache created: /content/rock-paper-scissors-1/train/labels.cache\n",
            "\u001b[34m\u001b[1malbumentations: \u001b[0mBlur(p=0.01, blur_limit=(3, 7)), MedianBlur(p=0.01, blur_limit=(3, 7)), ToGray(p=0.01, method='weighted_average', num_output_channels=3), CLAHE(p=0.01, clip_limit=(1.0, 4.0), tile_grid_size=(8, 8))\n",
            "\u001b[34m\u001b[1mval: \u001b[0mFast image access ✅ (ping: 0.0±0.0 ms, read: 540.9±148.5 MB/s, size: 46.2 KB)\n"
          ]
        },
        {
          "output_type": "stream",
          "name": "stderr",
          "text": [
            "\u001b[34m\u001b[1mval: \u001b[0mScanning /content/rock-paper-scissors-1/valid/labels... 604 images, 251 backgrounds, 0 corrupt: 100%|██████████| 604/604 [00:00<00:00, 1469.68it/s]"
          ]
        },
        {
          "output_type": "stream",
          "name": "stdout",
          "text": [
            "\u001b[34m\u001b[1mval: \u001b[0mNew cache created: /content/rock-paper-scissors-1/valid/labels.cache\n"
          ]
        },
        {
          "output_type": "stream",
          "name": "stderr",
          "text": [
            "\n"
          ]
        },
        {
          "output_type": "stream",
          "name": "stdout",
          "text": [
            "Plotting labels to runs/detect/train/labels.jpg... \n",
            "\u001b[34m\u001b[1moptimizer:\u001b[0m 'optimizer=auto' found, ignoring 'lr0=0.01' and 'momentum=0.937' and determining best 'optimizer', 'lr0' and 'momentum' automatically... \n",
            "\u001b[34m\u001b[1moptimizer:\u001b[0m AdamW(lr=0.001429, momentum=0.9) with parameter groups 57 weight(decay=0.0), 64 weight(decay=0.0005), 63 bias(decay=0.0)\n",
            "Image sizes 640 train, 640 val\n",
            "Using 2 dataloader workers\n",
            "Logging results to \u001b[1mruns/detect/train\u001b[0m\n",
            "Starting training for 30 epochs...\n",
            "\n",
            "      Epoch    GPU_mem   box_loss   cls_loss   dfl_loss  Instances       Size\n"
          ]
        },
        {
          "output_type": "stream",
          "name": "stderr",
          "text": [
            "       1/30      2.11G      1.277      3.168      1.386          8        640: 100%|██████████| 138/138 [00:46<00:00,  2.97it/s]\n",
            "                 Class     Images  Instances      Box(P          R      mAP50  mAP50-95): 100%|██████████| 19/19 [00:06<00:00,  3.13it/s]"
          ]
        },
        {
          "output_type": "stream",
          "name": "stdout",
          "text": [
            "                   all        604        418      0.503      0.423      0.451      0.261\n"
          ]
        },
        {
          "output_type": "stream",
          "name": "stderr",
          "text": [
            "\n"
          ]
        },
        {
          "output_type": "stream",
          "name": "stdout",
          "text": [
            "\n",
            "      Epoch    GPU_mem   box_loss   cls_loss   dfl_loss  Instances       Size\n"
          ]
        },
        {
          "output_type": "stream",
          "name": "stderr",
          "text": [
            "       2/30      2.63G      1.303      2.365      1.383          2        640: 100%|██████████| 138/138 [00:44<00:00,  3.10it/s]\n",
            "                 Class     Images  Instances      Box(P          R      mAP50  mAP50-95): 100%|██████████| 19/19 [00:05<00:00,  3.78it/s]\n"
          ]
        },
        {
          "output_type": "stream",
          "name": "stdout",
          "text": [
            "                   all        604        418      0.454      0.462      0.425       0.24\n",
            "\n",
            "      Epoch    GPU_mem   box_loss   cls_loss   dfl_loss  Instances       Size\n"
          ]
        },
        {
          "output_type": "stream",
          "name": "stderr",
          "text": [
            "       3/30      2.64G      1.328      2.034      1.407          8        640: 100%|██████████| 138/138 [00:41<00:00,  3.33it/s]\n",
            "                 Class     Images  Instances      Box(P          R      mAP50  mAP50-95): 100%|██████████| 19/19 [00:05<00:00,  3.18it/s]\n"
          ]
        },
        {
          "output_type": "stream",
          "name": "stdout",
          "text": [
            "                   all        604        418      0.556      0.555      0.533      0.306\n",
            "\n",
            "      Epoch    GPU_mem   box_loss   cls_loss   dfl_loss  Instances       Size\n"
          ]
        },
        {
          "output_type": "stream",
          "name": "stderr",
          "text": [
            "       4/30      2.67G      1.316      1.798      1.384          3        640: 100%|██████████| 138/138 [00:40<00:00,  3.41it/s]\n",
            "                 Class     Images  Instances      Box(P          R      mAP50  mAP50-95): 100%|██████████| 19/19 [00:05<00:00,  3.65it/s]"
          ]
        },
        {
          "output_type": "stream",
          "name": "stdout",
          "text": [
            "                   all        604        418        0.6       0.58      0.597      0.385\n"
          ]
        },
        {
          "output_type": "stream",
          "name": "stderr",
          "text": [
            "\n"
          ]
        },
        {
          "output_type": "stream",
          "name": "stdout",
          "text": [
            "\n",
            "      Epoch    GPU_mem   box_loss   cls_loss   dfl_loss  Instances       Size\n"
          ]
        },
        {
          "output_type": "stream",
          "name": "stderr",
          "text": [
            "       5/30      2.68G      1.276      1.609      1.342          6        640: 100%|██████████| 138/138 [00:40<00:00,  3.39it/s]\n",
            "                 Class     Images  Instances      Box(P          R      mAP50  mAP50-95): 100%|██████████| 19/19 [00:05<00:00,  3.41it/s]"
          ]
        },
        {
          "output_type": "stream",
          "name": "stdout",
          "text": [
            "                   all        604        418      0.745      0.756      0.794      0.531\n"
          ]
        },
        {
          "output_type": "stream",
          "name": "stderr",
          "text": [
            "\n"
          ]
        },
        {
          "output_type": "stream",
          "name": "stdout",
          "text": [
            "\n",
            "      Epoch    GPU_mem   box_loss   cls_loss   dfl_loss  Instances       Size\n"
          ]
        },
        {
          "output_type": "stream",
          "name": "stderr",
          "text": [
            "       6/30      2.71G      1.232      1.417      1.311         11        640: 100%|██████████| 138/138 [00:40<00:00,  3.40it/s]\n",
            "                 Class     Images  Instances      Box(P          R      mAP50  mAP50-95): 100%|██████████| 19/19 [00:05<00:00,  3.77it/s]"
          ]
        },
        {
          "output_type": "stream",
          "name": "stdout",
          "text": [
            "                   all        604        418      0.763      0.703      0.767      0.519\n"
          ]
        },
        {
          "output_type": "stream",
          "name": "stderr",
          "text": [
            "\n"
          ]
        },
        {
          "output_type": "stream",
          "name": "stdout",
          "text": [
            "\n",
            "      Epoch    GPU_mem   box_loss   cls_loss   dfl_loss  Instances       Size\n"
          ]
        },
        {
          "output_type": "stream",
          "name": "stderr",
          "text": [
            "       7/30      2.71G      1.214      1.408      1.315         10        640: 100%|██████████| 138/138 [00:41<00:00,  3.30it/s]\n",
            "                 Class     Images  Instances      Box(P          R      mAP50  mAP50-95): 100%|██████████| 19/19 [00:04<00:00,  4.03it/s]"
          ]
        },
        {
          "output_type": "stream",
          "name": "stdout",
          "text": [
            "                   all        604        418      0.768      0.734       0.77      0.537\n"
          ]
        },
        {
          "output_type": "stream",
          "name": "stderr",
          "text": [
            "\n"
          ]
        },
        {
          "output_type": "stream",
          "name": "stdout",
          "text": [
            "\n",
            "      Epoch    GPU_mem   box_loss   cls_loss   dfl_loss  Instances       Size\n"
          ]
        },
        {
          "output_type": "stream",
          "name": "stderr",
          "text": [
            "       8/30      2.74G      1.147       1.26      1.276          3        640: 100%|██████████| 138/138 [00:40<00:00,  3.40it/s]\n",
            "                 Class     Images  Instances      Box(P          R      mAP50  mAP50-95): 100%|██████████| 19/19 [00:06<00:00,  3.05it/s]"
          ]
        },
        {
          "output_type": "stream",
          "name": "stdout",
          "text": [
            "                   all        604        418      0.806      0.702       0.79      0.547\n"
          ]
        },
        {
          "output_type": "stream",
          "name": "stderr",
          "text": [
            "\n"
          ]
        },
        {
          "output_type": "stream",
          "name": "stdout",
          "text": [
            "\n",
            "      Epoch    GPU_mem   box_loss   cls_loss   dfl_loss  Instances       Size\n"
          ]
        },
        {
          "output_type": "stream",
          "name": "stderr",
          "text": [
            "       9/30      2.75G       1.11      1.227      1.248         12        640: 100%|██████████| 138/138 [00:40<00:00,  3.38it/s]\n",
            "                 Class     Images  Instances      Box(P          R      mAP50  mAP50-95): 100%|██████████| 19/19 [00:04<00:00,  3.92it/s]"
          ]
        },
        {
          "output_type": "stream",
          "name": "stdout",
          "text": [
            "                   all        604        418      0.824      0.785       0.83      0.586\n"
          ]
        },
        {
          "output_type": "stream",
          "name": "stderr",
          "text": [
            "\n"
          ]
        },
        {
          "output_type": "stream",
          "name": "stdout",
          "text": [
            "\n",
            "      Epoch    GPU_mem   box_loss   cls_loss   dfl_loss  Instances       Size\n"
          ]
        },
        {
          "output_type": "stream",
          "name": "stderr",
          "text": [
            "      10/30      2.77G      1.092      1.142      1.233          5        640: 100%|██████████| 138/138 [00:41<00:00,  3.32it/s]\n",
            "                 Class     Images  Instances      Box(P          R      mAP50  mAP50-95): 100%|██████████| 19/19 [00:05<00:00,  3.29it/s]"
          ]
        },
        {
          "output_type": "stream",
          "name": "stdout",
          "text": [
            "                   all        604        418      0.829      0.798      0.859      0.633\n"
          ]
        },
        {
          "output_type": "stream",
          "name": "stderr",
          "text": [
            "\n"
          ]
        },
        {
          "output_type": "stream",
          "name": "stdout",
          "text": [
            "\n",
            "      Epoch    GPU_mem   box_loss   cls_loss   dfl_loss  Instances       Size\n"
          ]
        },
        {
          "output_type": "stream",
          "name": "stderr",
          "text": [
            "      11/30      2.78G      1.073       1.11      1.225          8        640: 100%|██████████| 138/138 [00:40<00:00,  3.37it/s]\n",
            "                 Class     Images  Instances      Box(P          R      mAP50  mAP50-95): 100%|██████████| 19/19 [00:05<00:00,  3.19it/s]"
          ]
        },
        {
          "output_type": "stream",
          "name": "stdout",
          "text": [
            "                   all        604        418      0.862      0.837      0.884      0.644\n"
          ]
        },
        {
          "output_type": "stream",
          "name": "stderr",
          "text": [
            "\n"
          ]
        },
        {
          "output_type": "stream",
          "name": "stdout",
          "text": [
            "\n",
            "      Epoch    GPU_mem   box_loss   cls_loss   dfl_loss  Instances       Size\n"
          ]
        },
        {
          "output_type": "stream",
          "name": "stderr",
          "text": [
            "      12/30      2.81G      1.063      1.078      1.218          7        640: 100%|██████████| 138/138 [00:40<00:00,  3.43it/s]\n",
            "                 Class     Images  Instances      Box(P          R      mAP50  mAP50-95): 100%|██████████| 19/19 [00:04<00:00,  3.96it/s]"
          ]
        },
        {
          "output_type": "stream",
          "name": "stdout",
          "text": [
            "                   all        604        418      0.878       0.81      0.878      0.642\n"
          ]
        },
        {
          "output_type": "stream",
          "name": "stderr",
          "text": [
            "\n"
          ]
        },
        {
          "output_type": "stream",
          "name": "stdout",
          "text": [
            "\n",
            "      Epoch    GPU_mem   box_loss   cls_loss   dfl_loss  Instances       Size\n"
          ]
        },
        {
          "output_type": "stream",
          "name": "stderr",
          "text": [
            "      13/30      2.81G      1.048      1.012       1.21          7        640: 100%|██████████| 138/138 [00:40<00:00,  3.41it/s]\n",
            "                 Class     Images  Instances      Box(P          R      mAP50  mAP50-95): 100%|██████████| 19/19 [00:06<00:00,  3.15it/s]"
          ]
        },
        {
          "output_type": "stream",
          "name": "stdout",
          "text": [
            "                   all        604        418      0.897      0.839       0.89      0.659\n"
          ]
        },
        {
          "output_type": "stream",
          "name": "stderr",
          "text": [
            "\n"
          ]
        },
        {
          "output_type": "stream",
          "name": "stdout",
          "text": [
            "\n",
            "      Epoch    GPU_mem   box_loss   cls_loss   dfl_loss  Instances       Size\n"
          ]
        },
        {
          "output_type": "stream",
          "name": "stderr",
          "text": [
            "      14/30      2.84G      1.011     0.9813      1.181          7        640: 100%|██████████| 138/138 [00:40<00:00,  3.41it/s]\n",
            "                 Class     Images  Instances      Box(P          R      mAP50  mAP50-95): 100%|██████████| 19/19 [00:04<00:00,  3.85it/s]"
          ]
        },
        {
          "output_type": "stream",
          "name": "stdout",
          "text": [
            "                   all        604        418      0.905      0.843      0.899      0.661\n"
          ]
        },
        {
          "output_type": "stream",
          "name": "stderr",
          "text": [
            "\n"
          ]
        },
        {
          "output_type": "stream",
          "name": "stdout",
          "text": [
            "\n",
            "      Epoch    GPU_mem   box_loss   cls_loss   dfl_loss  Instances       Size\n"
          ]
        },
        {
          "output_type": "stream",
          "name": "stderr",
          "text": [
            "      15/30      2.85G      1.021     0.9361      1.203          5        640: 100%|██████████| 138/138 [00:40<00:00,  3.38it/s]\n",
            "                 Class     Images  Instances      Box(P          R      mAP50  mAP50-95): 100%|██████████| 19/19 [00:05<00:00,  3.43it/s]\n"
          ]
        },
        {
          "output_type": "stream",
          "name": "stdout",
          "text": [
            "                   all        604        418       0.89      0.857      0.905      0.676\n",
            "\n",
            "      Epoch    GPU_mem   box_loss   cls_loss   dfl_loss  Instances       Size\n"
          ]
        },
        {
          "output_type": "stream",
          "name": "stderr",
          "text": [
            "      16/30      2.88G     0.9854     0.9385      1.174          8        640: 100%|██████████| 138/138 [00:41<00:00,  3.35it/s]\n",
            "                 Class     Images  Instances      Box(P          R      mAP50  mAP50-95): 100%|██████████| 19/19 [00:05<00:00,  3.26it/s]"
          ]
        },
        {
          "output_type": "stream",
          "name": "stdout",
          "text": [
            "                   all        604        418       0.91      0.886      0.916      0.699\n"
          ]
        },
        {
          "output_type": "stream",
          "name": "stderr",
          "text": [
            "\n"
          ]
        },
        {
          "output_type": "stream",
          "name": "stdout",
          "text": [
            "\n",
            "      Epoch    GPU_mem   box_loss   cls_loss   dfl_loss  Instances       Size\n"
          ]
        },
        {
          "output_type": "stream",
          "name": "stderr",
          "text": [
            "      17/30      2.88G     0.9523     0.8798      1.153          9        640: 100%|██████████| 138/138 [00:40<00:00,  3.38it/s]\n",
            "                 Class     Images  Instances      Box(P          R      mAP50  mAP50-95): 100%|██████████| 19/19 [00:04<00:00,  4.04it/s]"
          ]
        },
        {
          "output_type": "stream",
          "name": "stdout",
          "text": [
            "                   all        604        418       0.92      0.896      0.923      0.698\n"
          ]
        },
        {
          "output_type": "stream",
          "name": "stderr",
          "text": [
            "\n"
          ]
        },
        {
          "output_type": "stream",
          "name": "stdout",
          "text": [
            "\n",
            "      Epoch    GPU_mem   box_loss   cls_loss   dfl_loss  Instances       Size\n"
          ]
        },
        {
          "output_type": "stream",
          "name": "stderr",
          "text": [
            "      18/30      2.91G     0.9345     0.8505      1.141          5        640: 100%|██████████| 138/138 [00:40<00:00,  3.39it/s]\n",
            "                 Class     Images  Instances      Box(P          R      mAP50  mAP50-95): 100%|██████████| 19/19 [00:06<00:00,  3.15it/s]\n"
          ]
        },
        {
          "output_type": "stream",
          "name": "stdout",
          "text": [
            "                   all        604        418      0.846      0.855      0.906      0.674\n",
            "\n",
            "      Epoch    GPU_mem   box_loss   cls_loss   dfl_loss  Instances       Size\n"
          ]
        },
        {
          "output_type": "stream",
          "name": "stderr",
          "text": [
            "      19/30      2.92G      0.925     0.8318      1.142          7        640: 100%|██████████| 138/138 [00:40<00:00,  3.38it/s]\n",
            "                 Class     Images  Instances      Box(P          R      mAP50  mAP50-95): 100%|██████████| 19/19 [00:04<00:00,  3.85it/s]"
          ]
        },
        {
          "output_type": "stream",
          "name": "stdout",
          "text": [
            "                   all        604        418      0.911      0.906      0.926      0.713\n"
          ]
        },
        {
          "output_type": "stream",
          "name": "stderr",
          "text": [
            "\n"
          ]
        },
        {
          "output_type": "stream",
          "name": "stdout",
          "text": [
            "\n",
            "      Epoch    GPU_mem   box_loss   cls_loss   dfl_loss  Instances       Size\n"
          ]
        },
        {
          "output_type": "stream",
          "name": "stderr",
          "text": [
            "      20/30      2.94G     0.9463     0.8358      1.139         12        640: 100%|██████████| 138/138 [00:41<00:00,  3.36it/s]\n",
            "                 Class     Images  Instances      Box(P          R      mAP50  mAP50-95): 100%|██████████| 19/19 [00:04<00:00,  3.81it/s]"
          ]
        },
        {
          "output_type": "stream",
          "name": "stdout",
          "text": [
            "                   all        604        418      0.934      0.856      0.912      0.697\n"
          ]
        },
        {
          "output_type": "stream",
          "name": "stderr",
          "text": [
            "\n"
          ]
        },
        {
          "output_type": "stream",
          "name": "stdout",
          "text": [
            "Closing dataloader mosaic\n",
            "\u001b[34m\u001b[1malbumentations: \u001b[0mBlur(p=0.01, blur_limit=(3, 7)), MedianBlur(p=0.01, blur_limit=(3, 7)), ToGray(p=0.01, method='weighted_average', num_output_channels=3), CLAHE(p=0.01, clip_limit=(1.0, 4.0), tile_grid_size=(8, 8))\n",
            "\n",
            "      Epoch    GPU_mem   box_loss   cls_loss   dfl_loss  Instances       Size\n"
          ]
        },
        {
          "output_type": "stream",
          "name": "stderr",
          "text": [
            "      21/30      2.95G     0.8321     0.6455      1.081          3        640: 100%|██████████| 138/138 [00:41<00:00,  3.33it/s]\n",
            "                 Class     Images  Instances      Box(P          R      mAP50  mAP50-95): 100%|██████████| 19/19 [00:05<00:00,  3.27it/s]"
          ]
        },
        {
          "output_type": "stream",
          "name": "stdout",
          "text": [
            "                   all        604        418      0.919      0.855      0.919      0.703\n"
          ]
        },
        {
          "output_type": "stream",
          "name": "stderr",
          "text": [
            "\n"
          ]
        },
        {
          "output_type": "stream",
          "name": "stdout",
          "text": [
            "\n",
            "      Epoch    GPU_mem   box_loss   cls_loss   dfl_loss  Instances       Size\n"
          ]
        },
        {
          "output_type": "stream",
          "name": "stderr",
          "text": [
            "      22/30      2.98G     0.8355     0.6174      1.079          1        640: 100%|██████████| 138/138 [00:39<00:00,  3.51it/s]\n",
            "                 Class     Images  Instances      Box(P          R      mAP50  mAP50-95): 100%|██████████| 19/19 [00:04<00:00,  3.99it/s]"
          ]
        },
        {
          "output_type": "stream",
          "name": "stdout",
          "text": [
            "                   all        604        418      0.928      0.875      0.921      0.715\n"
          ]
        },
        {
          "output_type": "stream",
          "name": "stderr",
          "text": [
            "\n"
          ]
        },
        {
          "output_type": "stream",
          "name": "stdout",
          "text": [
            "\n",
            "      Epoch    GPU_mem   box_loss   cls_loss   dfl_loss  Instances       Size\n"
          ]
        },
        {
          "output_type": "stream",
          "name": "stderr",
          "text": [
            "      23/30      2.99G     0.7987     0.5603      1.073          4        640: 100%|██████████| 138/138 [00:39<00:00,  3.53it/s]\n",
            "                 Class     Images  Instances      Box(P          R      mAP50  mAP50-95): 100%|██████████| 19/19 [00:05<00:00,  3.24it/s]"
          ]
        },
        {
          "output_type": "stream",
          "name": "stdout",
          "text": [
            "                   all        604        418      0.931       0.88      0.929      0.712\n"
          ]
        },
        {
          "output_type": "stream",
          "name": "stderr",
          "text": [
            "\n"
          ]
        },
        {
          "output_type": "stream",
          "name": "stdout",
          "text": [
            "\n",
            "      Epoch    GPU_mem   box_loss   cls_loss   dfl_loss  Instances       Size\n"
          ]
        },
        {
          "output_type": "stream",
          "name": "stderr",
          "text": [
            "      24/30      3.01G     0.7708     0.5333       1.04          1        640: 100%|██████████| 138/138 [00:39<00:00,  3.48it/s]\n",
            "                 Class     Images  Instances      Box(P          R      mAP50  mAP50-95): 100%|██████████| 19/19 [00:04<00:00,  4.05it/s]"
          ]
        },
        {
          "output_type": "stream",
          "name": "stdout",
          "text": [
            "                   all        604        418       0.95      0.881      0.933      0.739\n"
          ]
        },
        {
          "output_type": "stream",
          "name": "stderr",
          "text": [
            "\n"
          ]
        },
        {
          "output_type": "stream",
          "name": "stdout",
          "text": [
            "\n",
            "      Epoch    GPU_mem   box_loss   cls_loss   dfl_loss  Instances       Size\n"
          ]
        },
        {
          "output_type": "stream",
          "name": "stderr",
          "text": [
            "      25/30      3.02G     0.7578     0.5114      1.035          3        640: 100%|██████████| 138/138 [00:39<00:00,  3.53it/s]\n",
            "                 Class     Images  Instances      Box(P          R      mAP50  mAP50-95): 100%|██████████| 19/19 [00:05<00:00,  3.34it/s]"
          ]
        },
        {
          "output_type": "stream",
          "name": "stdout",
          "text": [
            "                   all        604        418      0.953      0.907      0.946       0.74\n"
          ]
        },
        {
          "output_type": "stream",
          "name": "stderr",
          "text": [
            "\n"
          ]
        },
        {
          "output_type": "stream",
          "name": "stdout",
          "text": [
            "\n",
            "      Epoch    GPU_mem   box_loss   cls_loss   dfl_loss  Instances       Size\n"
          ]
        },
        {
          "output_type": "stream",
          "name": "stderr",
          "text": [
            "      26/30      3.04G     0.7385     0.4908       1.03          3        640: 100%|██████████| 138/138 [00:39<00:00,  3.52it/s]\n",
            "                 Class     Images  Instances      Box(P          R      mAP50  mAP50-95): 100%|██████████| 19/19 [00:04<00:00,  3.87it/s]"
          ]
        },
        {
          "output_type": "stream",
          "name": "stdout",
          "text": [
            "                   all        604        418       0.92       0.92      0.944      0.741\n"
          ]
        },
        {
          "output_type": "stream",
          "name": "stderr",
          "text": [
            "\n"
          ]
        },
        {
          "output_type": "stream",
          "name": "stdout",
          "text": [
            "\n",
            "      Epoch    GPU_mem   box_loss   cls_loss   dfl_loss  Instances       Size\n"
          ]
        },
        {
          "output_type": "stream",
          "name": "stderr",
          "text": [
            "      27/30      3.05G     0.7244     0.4838      1.016          4        640: 100%|██████████| 138/138 [00:39<00:00,  3.50it/s]\n",
            "                 Class     Images  Instances      Box(P          R      mAP50  mAP50-95): 100%|██████████| 19/19 [00:05<00:00,  3.42it/s]"
          ]
        },
        {
          "output_type": "stream",
          "name": "stdout",
          "text": [
            "                   all        604        418      0.953      0.905      0.948       0.75\n"
          ]
        },
        {
          "output_type": "stream",
          "name": "stderr",
          "text": [
            "\n"
          ]
        },
        {
          "output_type": "stream",
          "name": "stdout",
          "text": [
            "\n",
            "      Epoch    GPU_mem   box_loss   cls_loss   dfl_loss  Instances       Size\n"
          ]
        },
        {
          "output_type": "stream",
          "name": "stderr",
          "text": [
            "      28/30      3.08G     0.6967      0.453      1.002          3        640: 100%|██████████| 138/138 [00:38<00:00,  3.57it/s]\n",
            "                 Class     Images  Instances      Box(P          R      mAP50  mAP50-95): 100%|██████████| 19/19 [00:04<00:00,  4.02it/s]"
          ]
        },
        {
          "output_type": "stream",
          "name": "stdout",
          "text": [
            "                   all        604        418      0.953      0.911       0.95      0.753\n"
          ]
        },
        {
          "output_type": "stream",
          "name": "stderr",
          "text": [
            "\n"
          ]
        },
        {
          "output_type": "stream",
          "name": "stdout",
          "text": [
            "\n",
            "      Epoch    GPU_mem   box_loss   cls_loss   dfl_loss  Instances       Size\n"
          ]
        },
        {
          "output_type": "stream",
          "name": "stderr",
          "text": [
            "      29/30      3.09G       0.67     0.4254     0.9906          4        640: 100%|██████████| 138/138 [00:38<00:00,  3.55it/s]\n",
            "                 Class     Images  Instances      Box(P          R      mAP50  mAP50-95): 100%|██████████| 19/19 [00:04<00:00,  4.06it/s]"
          ]
        },
        {
          "output_type": "stream",
          "name": "stdout",
          "text": [
            "                   all        604        418      0.964      0.901       0.95      0.758\n"
          ]
        },
        {
          "output_type": "stream",
          "name": "stderr",
          "text": [
            "\n"
          ]
        },
        {
          "output_type": "stream",
          "name": "stdout",
          "text": [
            "\n",
            "      Epoch    GPU_mem   box_loss   cls_loss   dfl_loss  Instances       Size\n"
          ]
        },
        {
          "output_type": "stream",
          "name": "stderr",
          "text": [
            "      30/30      3.11G     0.6625     0.4187     0.9847          5        640: 100%|██████████| 138/138 [00:38<00:00,  3.56it/s]\n",
            "                 Class     Images  Instances      Box(P          R      mAP50  mAP50-95): 100%|██████████| 19/19 [00:05<00:00,  3.33it/s]"
          ]
        },
        {
          "output_type": "stream",
          "name": "stdout",
          "text": [
            "                   all        604        418      0.956      0.907      0.951      0.763\n"
          ]
        },
        {
          "output_type": "stream",
          "name": "stderr",
          "text": [
            "\n"
          ]
        },
        {
          "output_type": "stream",
          "name": "stdout",
          "text": [
            "\n",
            "30 epochs completed in 0.388 hours.\n",
            "Optimizer stripped from runs/detect/train/weights/last.pt, 6.2MB\n",
            "Optimizer stripped from runs/detect/train/weights/best.pt, 6.2MB\n",
            "\n",
            "Validating runs/detect/train/weights/best.pt...\n",
            "Ultralytics 8.3.167 🚀 Python-3.11.13 torch-2.6.0+cu124 CUDA:0 (Tesla T4, 15095MiB)\n",
            "Model summary (fused): 72 layers, 3,006,233 parameters, 0 gradients, 8.1 GFLOPs\n"
          ]
        },
        {
          "output_type": "stream",
          "name": "stderr",
          "text": [
            "                 Class     Images  Instances      Box(P          R      mAP50  mAP50-95): 100%|██████████| 19/19 [00:05<00:00,  3.47it/s]\n"
          ]
        },
        {
          "output_type": "stream",
          "name": "stdout",
          "text": [
            "                   all        604        418      0.956      0.907      0.951      0.763\n",
            "                 Paper        139        146      0.953      0.904      0.951      0.772\n",
            "                  Rock        128        150      0.948      0.907      0.951      0.741\n",
            "              Scissors        118        122      0.965      0.911      0.953      0.778\n",
            "Speed: 0.2ms preprocess, 2.1ms inference, 0.0ms loss, 2.4ms postprocess per image\n",
            "Results saved to \u001b[1mruns/detect/train\u001b[0m\n"
          ]
        },
        {
          "output_type": "execute_result",
          "data": {
            "text/plain": [
              "ultralytics.utils.metrics.DetMetrics object with attributes:\n",
              "\n",
              "ap_class_index: array([0, 1, 2])\n",
              "box: ultralytics.utils.metrics.Metric object\n",
              "confusion_matrix: <ultralytics.utils.metrics.ConfusionMatrix object at 0x7ff1ac5633d0>\n",
              "curves: ['Precision-Recall(B)', 'F1-Confidence(B)', 'Precision-Confidence(B)', 'Recall-Confidence(B)']\n",
              "curves_results: [[array([          0,    0.001001,    0.002002,    0.003003,    0.004004,    0.005005,    0.006006,    0.007007,    0.008008,    0.009009,     0.01001,    0.011011,    0.012012,    0.013013,    0.014014,    0.015015,    0.016016,    0.017017,    0.018018,    0.019019,     0.02002,    0.021021,    0.022022,    0.023023,\n",
              "          0.024024,    0.025025,    0.026026,    0.027027,    0.028028,    0.029029,     0.03003,    0.031031,    0.032032,    0.033033,    0.034034,    0.035035,    0.036036,    0.037037,    0.038038,    0.039039,     0.04004,    0.041041,    0.042042,    0.043043,    0.044044,    0.045045,    0.046046,    0.047047,\n",
              "          0.048048,    0.049049,     0.05005,    0.051051,    0.052052,    0.053053,    0.054054,    0.055055,    0.056056,    0.057057,    0.058058,    0.059059,     0.06006,    0.061061,    0.062062,    0.063063,    0.064064,    0.065065,    0.066066,    0.067067,    0.068068,    0.069069,     0.07007,    0.071071,\n",
              "          0.072072,    0.073073,    0.074074,    0.075075,    0.076076,    0.077077,    0.078078,    0.079079,     0.08008,    0.081081,    0.082082,    0.083083,    0.084084,    0.085085,    0.086086,    0.087087,    0.088088,    0.089089,     0.09009,    0.091091,    0.092092,    0.093093,    0.094094,    0.095095,\n",
              "          0.096096,    0.097097,    0.098098,    0.099099,      0.1001,      0.1011,      0.1021,      0.1031,      0.1041,     0.10511,     0.10611,     0.10711,     0.10811,     0.10911,     0.11011,     0.11111,     0.11211,     0.11311,     0.11411,     0.11512,     0.11612,     0.11712,     0.11812,     0.11912,\n",
              "           0.12012,     0.12112,     0.12212,     0.12312,     0.12412,     0.12513,     0.12613,     0.12713,     0.12813,     0.12913,     0.13013,     0.13113,     0.13213,     0.13313,     0.13413,     0.13514,     0.13614,     0.13714,     0.13814,     0.13914,     0.14014,     0.14114,     0.14214,     0.14314,\n",
              "           0.14414,     0.14515,     0.14615,     0.14715,     0.14815,     0.14915,     0.15015,     0.15115,     0.15215,     0.15315,     0.15415,     0.15516,     0.15616,     0.15716,     0.15816,     0.15916,     0.16016,     0.16116,     0.16216,     0.16316,     0.16416,     0.16517,     0.16617,     0.16717,\n",
              "           0.16817,     0.16917,     0.17017,     0.17117,     0.17217,     0.17317,     0.17417,     0.17518,     0.17618,     0.17718,     0.17818,     0.17918,     0.18018,     0.18118,     0.18218,     0.18318,     0.18418,     0.18519,     0.18619,     0.18719,     0.18819,     0.18919,     0.19019,     0.19119,\n",
              "           0.19219,     0.19319,     0.19419,      0.1952,      0.1962,      0.1972,      0.1982,      0.1992,      0.2002,      0.2012,      0.2022,      0.2032,      0.2042,     0.20521,     0.20621,     0.20721,     0.20821,     0.20921,     0.21021,     0.21121,     0.21221,     0.21321,     0.21421,     0.21522,\n",
              "           0.21622,     0.21722,     0.21822,     0.21922,     0.22022,     0.22122,     0.22222,     0.22322,     0.22422,     0.22523,     0.22623,     0.22723,     0.22823,     0.22923,     0.23023,     0.23123,     0.23223,     0.23323,     0.23423,     0.23524,     0.23624,     0.23724,     0.23824,     0.23924,\n",
              "           0.24024,     0.24124,     0.24224,     0.24324,     0.24424,     0.24525,     0.24625,     0.24725,     0.24825,     0.24925,     0.25025,     0.25125,     0.25225,     0.25325,     0.25425,     0.25526,     0.25626,     0.25726,     0.25826,     0.25926,     0.26026,     0.26126,     0.26226,     0.26326,\n",
              "           0.26426,     0.26527,     0.26627,     0.26727,     0.26827,     0.26927,     0.27027,     0.27127,     0.27227,     0.27327,     0.27427,     0.27528,     0.27628,     0.27728,     0.27828,     0.27928,     0.28028,     0.28128,     0.28228,     0.28328,     0.28428,     0.28529,     0.28629,     0.28729,\n",
              "           0.28829,     0.28929,     0.29029,     0.29129,     0.29229,     0.29329,     0.29429,      0.2953,      0.2963,      0.2973,      0.2983,      0.2993,      0.3003,      0.3013,      0.3023,      0.3033,      0.3043,     0.30531,     0.30631,     0.30731,     0.30831,     0.30931,     0.31031,     0.31131,\n",
              "           0.31231,     0.31331,     0.31431,     0.31532,     0.31632,     0.31732,     0.31832,     0.31932,     0.32032,     0.32132,     0.32232,     0.32332,     0.32432,     0.32533,     0.32633,     0.32733,     0.32833,     0.32933,     0.33033,     0.33133,     0.33233,     0.33333,     0.33433,     0.33534,\n",
              "           0.33634,     0.33734,     0.33834,     0.33934,     0.34034,     0.34134,     0.34234,     0.34334,     0.34434,     0.34535,     0.34635,     0.34735,     0.34835,     0.34935,     0.35035,     0.35135,     0.35235,     0.35335,     0.35435,     0.35536,     0.35636,     0.35736,     0.35836,     0.35936,\n",
              "           0.36036,     0.36136,     0.36236,     0.36336,     0.36436,     0.36537,     0.36637,     0.36737,     0.36837,     0.36937,     0.37037,     0.37137,     0.37237,     0.37337,     0.37437,     0.37538,     0.37638,     0.37738,     0.37838,     0.37938,     0.38038,     0.38138,     0.38238,     0.38338,\n",
              "           0.38438,     0.38539,     0.38639,     0.38739,     0.38839,     0.38939,     0.39039,     0.39139,     0.39239,     0.39339,     0.39439,      0.3954,      0.3964,      0.3974,      0.3984,      0.3994,      0.4004,      0.4014,      0.4024,      0.4034,      0.4044,     0.40541,     0.40641,     0.40741,\n",
              "           0.40841,     0.40941,     0.41041,     0.41141,     0.41241,     0.41341,     0.41441,     0.41542,     0.41642,     0.41742,     0.41842,     0.41942,     0.42042,     0.42142,     0.42242,     0.42342,     0.42442,     0.42543,     0.42643,     0.42743,     0.42843,     0.42943,     0.43043,     0.43143,\n",
              "           0.43243,     0.43343,     0.43443,     0.43544,     0.43644,     0.43744,     0.43844,     0.43944,     0.44044,     0.44144,     0.44244,     0.44344,     0.44444,     0.44545,     0.44645,     0.44745,     0.44845,     0.44945,     0.45045,     0.45145,     0.45245,     0.45345,     0.45445,     0.45546,\n",
              "           0.45646,     0.45746,     0.45846,     0.45946,     0.46046,     0.46146,     0.46246,     0.46346,     0.46446,     0.46547,     0.46647,     0.46747,     0.46847,     0.46947,     0.47047,     0.47147,     0.47247,     0.47347,     0.47447,     0.47548,     0.47648,     0.47748,     0.47848,     0.47948,\n",
              "           0.48048,     0.48148,     0.48248,     0.48348,     0.48448,     0.48549,     0.48649,     0.48749,     0.48849,     0.48949,     0.49049,     0.49149,     0.49249,     0.49349,     0.49449,      0.4955,      0.4965,      0.4975,      0.4985,      0.4995,      0.5005,      0.5015,      0.5025,      0.5035,\n",
              "            0.5045,     0.50551,     0.50651,     0.50751,     0.50851,     0.50951,     0.51051,     0.51151,     0.51251,     0.51351,     0.51451,     0.51552,     0.51652,     0.51752,     0.51852,     0.51952,     0.52052,     0.52152,     0.52252,     0.52352,     0.52452,     0.52553,     0.52653,     0.52753,\n",
              "           0.52853,     0.52953,     0.53053,     0.53153,     0.53253,     0.53353,     0.53453,     0.53554,     0.53654,     0.53754,     0.53854,     0.53954,     0.54054,     0.54154,     0.54254,     0.54354,     0.54454,     0.54555,     0.54655,     0.54755,     0.54855,     0.54955,     0.55055,     0.55155,\n",
              "           0.55255,     0.55355,     0.55455,     0.55556,     0.55656,     0.55756,     0.55856,     0.55956,     0.56056,     0.56156,     0.56256,     0.56356,     0.56456,     0.56557,     0.56657,     0.56757,     0.56857,     0.56957,     0.57057,     0.57157,     0.57257,     0.57357,     0.57457,     0.57558,\n",
              "           0.57658,     0.57758,     0.57858,     0.57958,     0.58058,     0.58158,     0.58258,     0.58358,     0.58458,     0.58559,     0.58659,     0.58759,     0.58859,     0.58959,     0.59059,     0.59159,     0.59259,     0.59359,     0.59459,      0.5956,      0.5966,      0.5976,      0.5986,      0.5996,\n",
              "            0.6006,      0.6016,      0.6026,      0.6036,      0.6046,     0.60561,     0.60661,     0.60761,     0.60861,     0.60961,     0.61061,     0.61161,     0.61261,     0.61361,     0.61461,     0.61562,     0.61662,     0.61762,     0.61862,     0.61962,     0.62062,     0.62162,     0.62262,     0.62362,\n",
              "           0.62462,     0.62563,     0.62663,     0.62763,     0.62863,     0.62963,     0.63063,     0.63163,     0.63263,     0.63363,     0.63463,     0.63564,     0.63664,     0.63764,     0.63864,     0.63964,     0.64064,     0.64164,     0.64264,     0.64364,     0.64464,     0.64565,     0.64665,     0.64765,\n",
              "           0.64865,     0.64965,     0.65065,     0.65165,     0.65265,     0.65365,     0.65465,     0.65566,     0.65666,     0.65766,     0.65866,     0.65966,     0.66066,     0.66166,     0.66266,     0.66366,     0.66466,     0.66567,     0.66667,     0.66767,     0.66867,     0.66967,     0.67067,     0.67167,\n",
              "           0.67267,     0.67367,     0.67467,     0.67568,     0.67668,     0.67768,     0.67868,     0.67968,     0.68068,     0.68168,     0.68268,     0.68368,     0.68468,     0.68569,     0.68669,     0.68769,     0.68869,     0.68969,     0.69069,     0.69169,     0.69269,     0.69369,     0.69469,      0.6957,\n",
              "            0.6967,      0.6977,      0.6987,      0.6997,      0.7007,      0.7017,      0.7027,      0.7037,      0.7047,     0.70571,     0.70671,     0.70771,     0.70871,     0.70971,     0.71071,     0.71171,     0.71271,     0.71371,     0.71471,     0.71572,     0.71672,     0.71772,     0.71872,     0.71972,\n",
              "           0.72072,     0.72172,     0.72272,     0.72372,     0.72472,     0.72573,     0.72673,     0.72773,     0.72873,     0.72973,     0.73073,     0.73173,     0.73273,     0.73373,     0.73473,     0.73574,     0.73674,     0.73774,     0.73874,     0.73974,     0.74074,     0.74174,     0.74274,     0.74374,\n",
              "           0.74474,     0.74575,     0.74675,     0.74775,     0.74875,     0.74975,     0.75075,     0.75175,     0.75275,     0.75375,     0.75475,     0.75576,     0.75676,     0.75776,     0.75876,     0.75976,     0.76076,     0.76176,     0.76276,     0.76376,     0.76476,     0.76577,     0.76677,     0.76777,\n",
              "           0.76877,     0.76977,     0.77077,     0.77177,     0.77277,     0.77377,     0.77477,     0.77578,     0.77678,     0.77778,     0.77878,     0.77978,     0.78078,     0.78178,     0.78278,     0.78378,     0.78478,     0.78579,     0.78679,     0.78779,     0.78879,     0.78979,     0.79079,     0.79179,\n",
              "           0.79279,     0.79379,     0.79479,      0.7958,      0.7968,      0.7978,      0.7988,      0.7998,      0.8008,      0.8018,      0.8028,      0.8038,      0.8048,     0.80581,     0.80681,     0.80781,     0.80881,     0.80981,     0.81081,     0.81181,     0.81281,     0.81381,     0.81481,     0.81582,\n",
              "           0.81682,     0.81782,     0.81882,     0.81982,     0.82082,     0.82182,     0.82282,     0.82382,     0.82482,     0.82583,     0.82683,     0.82783,     0.82883,     0.82983,     0.83083,     0.83183,     0.83283,     0.83383,     0.83483,     0.83584,     0.83684,     0.83784,     0.83884,     0.83984,\n",
              "           0.84084,     0.84184,     0.84284,     0.84384,     0.84484,     0.84585,     0.84685,     0.84785,     0.84885,     0.84985,     0.85085,     0.85185,     0.85285,     0.85385,     0.85485,     0.85586,     0.85686,     0.85786,     0.85886,     0.85986,     0.86086,     0.86186,     0.86286,     0.86386,\n",
              "           0.86486,     0.86587,     0.86687,     0.86787,     0.86887,     0.86987,     0.87087,     0.87187,     0.87287,     0.87387,     0.87487,     0.87588,     0.87688,     0.87788,     0.87888,     0.87988,     0.88088,     0.88188,     0.88288,     0.88388,     0.88488,     0.88589,     0.88689,     0.88789,\n",
              "           0.88889,     0.88989,     0.89089,     0.89189,     0.89289,     0.89389,     0.89489,      0.8959,      0.8969,      0.8979,      0.8989,      0.8999,      0.9009,      0.9019,      0.9029,      0.9039,      0.9049,     0.90591,     0.90691,     0.90791,     0.90891,     0.90991,     0.91091,     0.91191,\n",
              "           0.91291,     0.91391,     0.91491,     0.91592,     0.91692,     0.91792,     0.91892,     0.91992,     0.92092,     0.92192,     0.92292,     0.92392,     0.92492,     0.92593,     0.92693,     0.92793,     0.92893,     0.92993,     0.93093,     0.93193,     0.93293,     0.93393,     0.93493,     0.93594,\n",
              "           0.93694,     0.93794,     0.93894,     0.93994,     0.94094,     0.94194,     0.94294,     0.94394,     0.94494,     0.94595,     0.94695,     0.94795,     0.94895,     0.94995,     0.95095,     0.95195,     0.95295,     0.95395,     0.95495,     0.95596,     0.95696,     0.95796,     0.95896,     0.95996,\n",
              "           0.96096,     0.96196,     0.96296,     0.96396,     0.96496,     0.96597,     0.96697,     0.96797,     0.96897,     0.96997,     0.97097,     0.97197,     0.97297,     0.97397,     0.97497,     0.97598,     0.97698,     0.97798,     0.97898,     0.97998,     0.98098,     0.98198,     0.98298,     0.98398,\n",
              "           0.98498,     0.98599,     0.98699,     0.98799,     0.98899,     0.98999,     0.99099,     0.99199,     0.99299,     0.99399,     0.99499,       0.996,       0.997,       0.998,       0.999,           1]), array([[          1,           1,           1, ...,   0.0092097,   0.0046048,           0],\n",
              "       [          1,           1,           1, ...,    0.046755,    0.023378,           0],\n",
              "       [          1,           1,           1, ...,    0.017785,   0.0088924,           0]]), 'Recall', 'Precision'], [array([          0,    0.001001,    0.002002,    0.003003,    0.004004,    0.005005,    0.006006,    0.007007,    0.008008,    0.009009,     0.01001,    0.011011,    0.012012,    0.013013,    0.014014,    0.015015,    0.016016,    0.017017,    0.018018,    0.019019,     0.02002,    0.021021,    0.022022,    0.023023,\n",
              "          0.024024,    0.025025,    0.026026,    0.027027,    0.028028,    0.029029,     0.03003,    0.031031,    0.032032,    0.033033,    0.034034,    0.035035,    0.036036,    0.037037,    0.038038,    0.039039,     0.04004,    0.041041,    0.042042,    0.043043,    0.044044,    0.045045,    0.046046,    0.047047,\n",
              "          0.048048,    0.049049,     0.05005,    0.051051,    0.052052,    0.053053,    0.054054,    0.055055,    0.056056,    0.057057,    0.058058,    0.059059,     0.06006,    0.061061,    0.062062,    0.063063,    0.064064,    0.065065,    0.066066,    0.067067,    0.068068,    0.069069,     0.07007,    0.071071,\n",
              "          0.072072,    0.073073,    0.074074,    0.075075,    0.076076,    0.077077,    0.078078,    0.079079,     0.08008,    0.081081,    0.082082,    0.083083,    0.084084,    0.085085,    0.086086,    0.087087,    0.088088,    0.089089,     0.09009,    0.091091,    0.092092,    0.093093,    0.094094,    0.095095,\n",
              "          0.096096,    0.097097,    0.098098,    0.099099,      0.1001,      0.1011,      0.1021,      0.1031,      0.1041,     0.10511,     0.10611,     0.10711,     0.10811,     0.10911,     0.11011,     0.11111,     0.11211,     0.11311,     0.11411,     0.11512,     0.11612,     0.11712,     0.11812,     0.11912,\n",
              "           0.12012,     0.12112,     0.12212,     0.12312,     0.12412,     0.12513,     0.12613,     0.12713,     0.12813,     0.12913,     0.13013,     0.13113,     0.13213,     0.13313,     0.13413,     0.13514,     0.13614,     0.13714,     0.13814,     0.13914,     0.14014,     0.14114,     0.14214,     0.14314,\n",
              "           0.14414,     0.14515,     0.14615,     0.14715,     0.14815,     0.14915,     0.15015,     0.15115,     0.15215,     0.15315,     0.15415,     0.15516,     0.15616,     0.15716,     0.15816,     0.15916,     0.16016,     0.16116,     0.16216,     0.16316,     0.16416,     0.16517,     0.16617,     0.16717,\n",
              "           0.16817,     0.16917,     0.17017,     0.17117,     0.17217,     0.17317,     0.17417,     0.17518,     0.17618,     0.17718,     0.17818,     0.17918,     0.18018,     0.18118,     0.18218,     0.18318,     0.18418,     0.18519,     0.18619,     0.18719,     0.18819,     0.18919,     0.19019,     0.19119,\n",
              "           0.19219,     0.19319,     0.19419,      0.1952,      0.1962,      0.1972,      0.1982,      0.1992,      0.2002,      0.2012,      0.2022,      0.2032,      0.2042,     0.20521,     0.20621,     0.20721,     0.20821,     0.20921,     0.21021,     0.21121,     0.21221,     0.21321,     0.21421,     0.21522,\n",
              "           0.21622,     0.21722,     0.21822,     0.21922,     0.22022,     0.22122,     0.22222,     0.22322,     0.22422,     0.22523,     0.22623,     0.22723,     0.22823,     0.22923,     0.23023,     0.23123,     0.23223,     0.23323,     0.23423,     0.23524,     0.23624,     0.23724,     0.23824,     0.23924,\n",
              "           0.24024,     0.24124,     0.24224,     0.24324,     0.24424,     0.24525,     0.24625,     0.24725,     0.24825,     0.24925,     0.25025,     0.25125,     0.25225,     0.25325,     0.25425,     0.25526,     0.25626,     0.25726,     0.25826,     0.25926,     0.26026,     0.26126,     0.26226,     0.26326,\n",
              "           0.26426,     0.26527,     0.26627,     0.26727,     0.26827,     0.26927,     0.27027,     0.27127,     0.27227,     0.27327,     0.27427,     0.27528,     0.27628,     0.27728,     0.27828,     0.27928,     0.28028,     0.28128,     0.28228,     0.28328,     0.28428,     0.28529,     0.28629,     0.28729,\n",
              "           0.28829,     0.28929,     0.29029,     0.29129,     0.29229,     0.29329,     0.29429,      0.2953,      0.2963,      0.2973,      0.2983,      0.2993,      0.3003,      0.3013,      0.3023,      0.3033,      0.3043,     0.30531,     0.30631,     0.30731,     0.30831,     0.30931,     0.31031,     0.31131,\n",
              "           0.31231,     0.31331,     0.31431,     0.31532,     0.31632,     0.31732,     0.31832,     0.31932,     0.32032,     0.32132,     0.32232,     0.32332,     0.32432,     0.32533,     0.32633,     0.32733,     0.32833,     0.32933,     0.33033,     0.33133,     0.33233,     0.33333,     0.33433,     0.33534,\n",
              "           0.33634,     0.33734,     0.33834,     0.33934,     0.34034,     0.34134,     0.34234,     0.34334,     0.34434,     0.34535,     0.34635,     0.34735,     0.34835,     0.34935,     0.35035,     0.35135,     0.35235,     0.35335,     0.35435,     0.35536,     0.35636,     0.35736,     0.35836,     0.35936,\n",
              "           0.36036,     0.36136,     0.36236,     0.36336,     0.36436,     0.36537,     0.36637,     0.36737,     0.36837,     0.36937,     0.37037,     0.37137,     0.37237,     0.37337,     0.37437,     0.37538,     0.37638,     0.37738,     0.37838,     0.37938,     0.38038,     0.38138,     0.38238,     0.38338,\n",
              "           0.38438,     0.38539,     0.38639,     0.38739,     0.38839,     0.38939,     0.39039,     0.39139,     0.39239,     0.39339,     0.39439,      0.3954,      0.3964,      0.3974,      0.3984,      0.3994,      0.4004,      0.4014,      0.4024,      0.4034,      0.4044,     0.40541,     0.40641,     0.40741,\n",
              "           0.40841,     0.40941,     0.41041,     0.41141,     0.41241,     0.41341,     0.41441,     0.41542,     0.41642,     0.41742,     0.41842,     0.41942,     0.42042,     0.42142,     0.42242,     0.42342,     0.42442,     0.42543,     0.42643,     0.42743,     0.42843,     0.42943,     0.43043,     0.43143,\n",
              "           0.43243,     0.43343,     0.43443,     0.43544,     0.43644,     0.43744,     0.43844,     0.43944,     0.44044,     0.44144,     0.44244,     0.44344,     0.44444,     0.44545,     0.44645,     0.44745,     0.44845,     0.44945,     0.45045,     0.45145,     0.45245,     0.45345,     0.45445,     0.45546,\n",
              "           0.45646,     0.45746,     0.45846,     0.45946,     0.46046,     0.46146,     0.46246,     0.46346,     0.46446,     0.46547,     0.46647,     0.46747,     0.46847,     0.46947,     0.47047,     0.47147,     0.47247,     0.47347,     0.47447,     0.47548,     0.47648,     0.47748,     0.47848,     0.47948,\n",
              "           0.48048,     0.48148,     0.48248,     0.48348,     0.48448,     0.48549,     0.48649,     0.48749,     0.48849,     0.48949,     0.49049,     0.49149,     0.49249,     0.49349,     0.49449,      0.4955,      0.4965,      0.4975,      0.4985,      0.4995,      0.5005,      0.5015,      0.5025,      0.5035,\n",
              "            0.5045,     0.50551,     0.50651,     0.50751,     0.50851,     0.50951,     0.51051,     0.51151,     0.51251,     0.51351,     0.51451,     0.51552,     0.51652,     0.51752,     0.51852,     0.51952,     0.52052,     0.52152,     0.52252,     0.52352,     0.52452,     0.52553,     0.52653,     0.52753,\n",
              "           0.52853,     0.52953,     0.53053,     0.53153,     0.53253,     0.53353,     0.53453,     0.53554,     0.53654,     0.53754,     0.53854,     0.53954,     0.54054,     0.54154,     0.54254,     0.54354,     0.54454,     0.54555,     0.54655,     0.54755,     0.54855,     0.54955,     0.55055,     0.55155,\n",
              "           0.55255,     0.55355,     0.55455,     0.55556,     0.55656,     0.55756,     0.55856,     0.55956,     0.56056,     0.56156,     0.56256,     0.56356,     0.56456,     0.56557,     0.56657,     0.56757,     0.56857,     0.56957,     0.57057,     0.57157,     0.57257,     0.57357,     0.57457,     0.57558,\n",
              "           0.57658,     0.57758,     0.57858,     0.57958,     0.58058,     0.58158,     0.58258,     0.58358,     0.58458,     0.58559,     0.58659,     0.58759,     0.58859,     0.58959,     0.59059,     0.59159,     0.59259,     0.59359,     0.59459,      0.5956,      0.5966,      0.5976,      0.5986,      0.5996,\n",
              "            0.6006,      0.6016,      0.6026,      0.6036,      0.6046,     0.60561,     0.60661,     0.60761,     0.60861,     0.60961,     0.61061,     0.61161,     0.61261,     0.61361,     0.61461,     0.61562,     0.61662,     0.61762,     0.61862,     0.61962,     0.62062,     0.62162,     0.62262,     0.62362,\n",
              "           0.62462,     0.62563,     0.62663,     0.62763,     0.62863,     0.62963,     0.63063,     0.63163,     0.63263,     0.63363,     0.63463,     0.63564,     0.63664,     0.63764,     0.63864,     0.63964,     0.64064,     0.64164,     0.64264,     0.64364,     0.64464,     0.64565,     0.64665,     0.64765,\n",
              "           0.64865,     0.64965,     0.65065,     0.65165,     0.65265,     0.65365,     0.65465,     0.65566,     0.65666,     0.65766,     0.65866,     0.65966,     0.66066,     0.66166,     0.66266,     0.66366,     0.66466,     0.66567,     0.66667,     0.66767,     0.66867,     0.66967,     0.67067,     0.67167,\n",
              "           0.67267,     0.67367,     0.67467,     0.67568,     0.67668,     0.67768,     0.67868,     0.67968,     0.68068,     0.68168,     0.68268,     0.68368,     0.68468,     0.68569,     0.68669,     0.68769,     0.68869,     0.68969,     0.69069,     0.69169,     0.69269,     0.69369,     0.69469,      0.6957,\n",
              "            0.6967,      0.6977,      0.6987,      0.6997,      0.7007,      0.7017,      0.7027,      0.7037,      0.7047,     0.70571,     0.70671,     0.70771,     0.70871,     0.70971,     0.71071,     0.71171,     0.71271,     0.71371,     0.71471,     0.71572,     0.71672,     0.71772,     0.71872,     0.71972,\n",
              "           0.72072,     0.72172,     0.72272,     0.72372,     0.72472,     0.72573,     0.72673,     0.72773,     0.72873,     0.72973,     0.73073,     0.73173,     0.73273,     0.73373,     0.73473,     0.73574,     0.73674,     0.73774,     0.73874,     0.73974,     0.74074,     0.74174,     0.74274,     0.74374,\n",
              "           0.74474,     0.74575,     0.74675,     0.74775,     0.74875,     0.74975,     0.75075,     0.75175,     0.75275,     0.75375,     0.75475,     0.75576,     0.75676,     0.75776,     0.75876,     0.75976,     0.76076,     0.76176,     0.76276,     0.76376,     0.76476,     0.76577,     0.76677,     0.76777,\n",
              "           0.76877,     0.76977,     0.77077,     0.77177,     0.77277,     0.77377,     0.77477,     0.77578,     0.77678,     0.77778,     0.77878,     0.77978,     0.78078,     0.78178,     0.78278,     0.78378,     0.78478,     0.78579,     0.78679,     0.78779,     0.78879,     0.78979,     0.79079,     0.79179,\n",
              "           0.79279,     0.79379,     0.79479,      0.7958,      0.7968,      0.7978,      0.7988,      0.7998,      0.8008,      0.8018,      0.8028,      0.8038,      0.8048,     0.80581,     0.80681,     0.80781,     0.80881,     0.80981,     0.81081,     0.81181,     0.81281,     0.81381,     0.81481,     0.81582,\n",
              "           0.81682,     0.81782,     0.81882,     0.81982,     0.82082,     0.82182,     0.82282,     0.82382,     0.82482,     0.82583,     0.82683,     0.82783,     0.82883,     0.82983,     0.83083,     0.83183,     0.83283,     0.83383,     0.83483,     0.83584,     0.83684,     0.83784,     0.83884,     0.83984,\n",
              "           0.84084,     0.84184,     0.84284,     0.84384,     0.84484,     0.84585,     0.84685,     0.84785,     0.84885,     0.84985,     0.85085,     0.85185,     0.85285,     0.85385,     0.85485,     0.85586,     0.85686,     0.85786,     0.85886,     0.85986,     0.86086,     0.86186,     0.86286,     0.86386,\n",
              "           0.86486,     0.86587,     0.86687,     0.86787,     0.86887,     0.86987,     0.87087,     0.87187,     0.87287,     0.87387,     0.87487,     0.87588,     0.87688,     0.87788,     0.87888,     0.87988,     0.88088,     0.88188,     0.88288,     0.88388,     0.88488,     0.88589,     0.88689,     0.88789,\n",
              "           0.88889,     0.88989,     0.89089,     0.89189,     0.89289,     0.89389,     0.89489,      0.8959,      0.8969,      0.8979,      0.8989,      0.8999,      0.9009,      0.9019,      0.9029,      0.9039,      0.9049,     0.90591,     0.90691,     0.90791,     0.90891,     0.90991,     0.91091,     0.91191,\n",
              "           0.91291,     0.91391,     0.91491,     0.91592,     0.91692,     0.91792,     0.91892,     0.91992,     0.92092,     0.92192,     0.92292,     0.92392,     0.92492,     0.92593,     0.92693,     0.92793,     0.92893,     0.92993,     0.93093,     0.93193,     0.93293,     0.93393,     0.93493,     0.93594,\n",
              "           0.93694,     0.93794,     0.93894,     0.93994,     0.94094,     0.94194,     0.94294,     0.94394,     0.94494,     0.94595,     0.94695,     0.94795,     0.94895,     0.94995,     0.95095,     0.95195,     0.95295,     0.95395,     0.95495,     0.95596,     0.95696,     0.95796,     0.95896,     0.95996,\n",
              "           0.96096,     0.96196,     0.96296,     0.96396,     0.96496,     0.96597,     0.96697,     0.96797,     0.96897,     0.96997,     0.97097,     0.97197,     0.97297,     0.97397,     0.97497,     0.97598,     0.97698,     0.97798,     0.97898,     0.97998,     0.98098,     0.98198,     0.98298,     0.98398,\n",
              "           0.98498,     0.98599,     0.98699,     0.98799,     0.98899,     0.98999,     0.99099,     0.99199,     0.99299,     0.99399,     0.99499,       0.996,       0.997,       0.998,       0.999,           1]), array([[    0.27089,     0.27089,     0.35029, ...,           0,           0,           0],\n",
              "       [     0.2692,      0.2692,     0.35096, ...,           0,           0,           0],\n",
              "       [     0.2537,      0.2537,     0.32028, ...,           0,           0,           0]]), 'Confidence', 'F1'], [array([          0,    0.001001,    0.002002,    0.003003,    0.004004,    0.005005,    0.006006,    0.007007,    0.008008,    0.009009,     0.01001,    0.011011,    0.012012,    0.013013,    0.014014,    0.015015,    0.016016,    0.017017,    0.018018,    0.019019,     0.02002,    0.021021,    0.022022,    0.023023,\n",
              "          0.024024,    0.025025,    0.026026,    0.027027,    0.028028,    0.029029,     0.03003,    0.031031,    0.032032,    0.033033,    0.034034,    0.035035,    0.036036,    0.037037,    0.038038,    0.039039,     0.04004,    0.041041,    0.042042,    0.043043,    0.044044,    0.045045,    0.046046,    0.047047,\n",
              "          0.048048,    0.049049,     0.05005,    0.051051,    0.052052,    0.053053,    0.054054,    0.055055,    0.056056,    0.057057,    0.058058,    0.059059,     0.06006,    0.061061,    0.062062,    0.063063,    0.064064,    0.065065,    0.066066,    0.067067,    0.068068,    0.069069,     0.07007,    0.071071,\n",
              "          0.072072,    0.073073,    0.074074,    0.075075,    0.076076,    0.077077,    0.078078,    0.079079,     0.08008,    0.081081,    0.082082,    0.083083,    0.084084,    0.085085,    0.086086,    0.087087,    0.088088,    0.089089,     0.09009,    0.091091,    0.092092,    0.093093,    0.094094,    0.095095,\n",
              "          0.096096,    0.097097,    0.098098,    0.099099,      0.1001,      0.1011,      0.1021,      0.1031,      0.1041,     0.10511,     0.10611,     0.10711,     0.10811,     0.10911,     0.11011,     0.11111,     0.11211,     0.11311,     0.11411,     0.11512,     0.11612,     0.11712,     0.11812,     0.11912,\n",
              "           0.12012,     0.12112,     0.12212,     0.12312,     0.12412,     0.12513,     0.12613,     0.12713,     0.12813,     0.12913,     0.13013,     0.13113,     0.13213,     0.13313,     0.13413,     0.13514,     0.13614,     0.13714,     0.13814,     0.13914,     0.14014,     0.14114,     0.14214,     0.14314,\n",
              "           0.14414,     0.14515,     0.14615,     0.14715,     0.14815,     0.14915,     0.15015,     0.15115,     0.15215,     0.15315,     0.15415,     0.15516,     0.15616,     0.15716,     0.15816,     0.15916,     0.16016,     0.16116,     0.16216,     0.16316,     0.16416,     0.16517,     0.16617,     0.16717,\n",
              "           0.16817,     0.16917,     0.17017,     0.17117,     0.17217,     0.17317,     0.17417,     0.17518,     0.17618,     0.17718,     0.17818,     0.17918,     0.18018,     0.18118,     0.18218,     0.18318,     0.18418,     0.18519,     0.18619,     0.18719,     0.18819,     0.18919,     0.19019,     0.19119,\n",
              "           0.19219,     0.19319,     0.19419,      0.1952,      0.1962,      0.1972,      0.1982,      0.1992,      0.2002,      0.2012,      0.2022,      0.2032,      0.2042,     0.20521,     0.20621,     0.20721,     0.20821,     0.20921,     0.21021,     0.21121,     0.21221,     0.21321,     0.21421,     0.21522,\n",
              "           0.21622,     0.21722,     0.21822,     0.21922,     0.22022,     0.22122,     0.22222,     0.22322,     0.22422,     0.22523,     0.22623,     0.22723,     0.22823,     0.22923,     0.23023,     0.23123,     0.23223,     0.23323,     0.23423,     0.23524,     0.23624,     0.23724,     0.23824,     0.23924,\n",
              "           0.24024,     0.24124,     0.24224,     0.24324,     0.24424,     0.24525,     0.24625,     0.24725,     0.24825,     0.24925,     0.25025,     0.25125,     0.25225,     0.25325,     0.25425,     0.25526,     0.25626,     0.25726,     0.25826,     0.25926,     0.26026,     0.26126,     0.26226,     0.26326,\n",
              "           0.26426,     0.26527,     0.26627,     0.26727,     0.26827,     0.26927,     0.27027,     0.27127,     0.27227,     0.27327,     0.27427,     0.27528,     0.27628,     0.27728,     0.27828,     0.27928,     0.28028,     0.28128,     0.28228,     0.28328,     0.28428,     0.28529,     0.28629,     0.28729,\n",
              "           0.28829,     0.28929,     0.29029,     0.29129,     0.29229,     0.29329,     0.29429,      0.2953,      0.2963,      0.2973,      0.2983,      0.2993,      0.3003,      0.3013,      0.3023,      0.3033,      0.3043,     0.30531,     0.30631,     0.30731,     0.30831,     0.30931,     0.31031,     0.31131,\n",
              "           0.31231,     0.31331,     0.31431,     0.31532,     0.31632,     0.31732,     0.31832,     0.31932,     0.32032,     0.32132,     0.32232,     0.32332,     0.32432,     0.32533,     0.32633,     0.32733,     0.32833,     0.32933,     0.33033,     0.33133,     0.33233,     0.33333,     0.33433,     0.33534,\n",
              "           0.33634,     0.33734,     0.33834,     0.33934,     0.34034,     0.34134,     0.34234,     0.34334,     0.34434,     0.34535,     0.34635,     0.34735,     0.34835,     0.34935,     0.35035,     0.35135,     0.35235,     0.35335,     0.35435,     0.35536,     0.35636,     0.35736,     0.35836,     0.35936,\n",
              "           0.36036,     0.36136,     0.36236,     0.36336,     0.36436,     0.36537,     0.36637,     0.36737,     0.36837,     0.36937,     0.37037,     0.37137,     0.37237,     0.37337,     0.37437,     0.37538,     0.37638,     0.37738,     0.37838,     0.37938,     0.38038,     0.38138,     0.38238,     0.38338,\n",
              "           0.38438,     0.38539,     0.38639,     0.38739,     0.38839,     0.38939,     0.39039,     0.39139,     0.39239,     0.39339,     0.39439,      0.3954,      0.3964,      0.3974,      0.3984,      0.3994,      0.4004,      0.4014,      0.4024,      0.4034,      0.4044,     0.40541,     0.40641,     0.40741,\n",
              "           0.40841,     0.40941,     0.41041,     0.41141,     0.41241,     0.41341,     0.41441,     0.41542,     0.41642,     0.41742,     0.41842,     0.41942,     0.42042,     0.42142,     0.42242,     0.42342,     0.42442,     0.42543,     0.42643,     0.42743,     0.42843,     0.42943,     0.43043,     0.43143,\n",
              "           0.43243,     0.43343,     0.43443,     0.43544,     0.43644,     0.43744,     0.43844,     0.43944,     0.44044,     0.44144,     0.44244,     0.44344,     0.44444,     0.44545,     0.44645,     0.44745,     0.44845,     0.44945,     0.45045,     0.45145,     0.45245,     0.45345,     0.45445,     0.45546,\n",
              "           0.45646,     0.45746,     0.45846,     0.45946,     0.46046,     0.46146,     0.46246,     0.46346,     0.46446,     0.46547,     0.46647,     0.46747,     0.46847,     0.46947,     0.47047,     0.47147,     0.47247,     0.47347,     0.47447,     0.47548,     0.47648,     0.47748,     0.47848,     0.47948,\n",
              "           0.48048,     0.48148,     0.48248,     0.48348,     0.48448,     0.48549,     0.48649,     0.48749,     0.48849,     0.48949,     0.49049,     0.49149,     0.49249,     0.49349,     0.49449,      0.4955,      0.4965,      0.4975,      0.4985,      0.4995,      0.5005,      0.5015,      0.5025,      0.5035,\n",
              "            0.5045,     0.50551,     0.50651,     0.50751,     0.50851,     0.50951,     0.51051,     0.51151,     0.51251,     0.51351,     0.51451,     0.51552,     0.51652,     0.51752,     0.51852,     0.51952,     0.52052,     0.52152,     0.52252,     0.52352,     0.52452,     0.52553,     0.52653,     0.52753,\n",
              "           0.52853,     0.52953,     0.53053,     0.53153,     0.53253,     0.53353,     0.53453,     0.53554,     0.53654,     0.53754,     0.53854,     0.53954,     0.54054,     0.54154,     0.54254,     0.54354,     0.54454,     0.54555,     0.54655,     0.54755,     0.54855,     0.54955,     0.55055,     0.55155,\n",
              "           0.55255,     0.55355,     0.55455,     0.55556,     0.55656,     0.55756,     0.55856,     0.55956,     0.56056,     0.56156,     0.56256,     0.56356,     0.56456,     0.56557,     0.56657,     0.56757,     0.56857,     0.56957,     0.57057,     0.57157,     0.57257,     0.57357,     0.57457,     0.57558,\n",
              "           0.57658,     0.57758,     0.57858,     0.57958,     0.58058,     0.58158,     0.58258,     0.58358,     0.58458,     0.58559,     0.58659,     0.58759,     0.58859,     0.58959,     0.59059,     0.59159,     0.59259,     0.59359,     0.59459,      0.5956,      0.5966,      0.5976,      0.5986,      0.5996,\n",
              "            0.6006,      0.6016,      0.6026,      0.6036,      0.6046,     0.60561,     0.60661,     0.60761,     0.60861,     0.60961,     0.61061,     0.61161,     0.61261,     0.61361,     0.61461,     0.61562,     0.61662,     0.61762,     0.61862,     0.61962,     0.62062,     0.62162,     0.62262,     0.62362,\n",
              "           0.62462,     0.62563,     0.62663,     0.62763,     0.62863,     0.62963,     0.63063,     0.63163,     0.63263,     0.63363,     0.63463,     0.63564,     0.63664,     0.63764,     0.63864,     0.63964,     0.64064,     0.64164,     0.64264,     0.64364,     0.64464,     0.64565,     0.64665,     0.64765,\n",
              "           0.64865,     0.64965,     0.65065,     0.65165,     0.65265,     0.65365,     0.65465,     0.65566,     0.65666,     0.65766,     0.65866,     0.65966,     0.66066,     0.66166,     0.66266,     0.66366,     0.66466,     0.66567,     0.66667,     0.66767,     0.66867,     0.66967,     0.67067,     0.67167,\n",
              "           0.67267,     0.67367,     0.67467,     0.67568,     0.67668,     0.67768,     0.67868,     0.67968,     0.68068,     0.68168,     0.68268,     0.68368,     0.68468,     0.68569,     0.68669,     0.68769,     0.68869,     0.68969,     0.69069,     0.69169,     0.69269,     0.69369,     0.69469,      0.6957,\n",
              "            0.6967,      0.6977,      0.6987,      0.6997,      0.7007,      0.7017,      0.7027,      0.7037,      0.7047,     0.70571,     0.70671,     0.70771,     0.70871,     0.70971,     0.71071,     0.71171,     0.71271,     0.71371,     0.71471,     0.71572,     0.71672,     0.71772,     0.71872,     0.71972,\n",
              "           0.72072,     0.72172,     0.72272,     0.72372,     0.72472,     0.72573,     0.72673,     0.72773,     0.72873,     0.72973,     0.73073,     0.73173,     0.73273,     0.73373,     0.73473,     0.73574,     0.73674,     0.73774,     0.73874,     0.73974,     0.74074,     0.74174,     0.74274,     0.74374,\n",
              "           0.74474,     0.74575,     0.74675,     0.74775,     0.74875,     0.74975,     0.75075,     0.75175,     0.75275,     0.75375,     0.75475,     0.75576,     0.75676,     0.75776,     0.75876,     0.75976,     0.76076,     0.76176,     0.76276,     0.76376,     0.76476,     0.76577,     0.76677,     0.76777,\n",
              "           0.76877,     0.76977,     0.77077,     0.77177,     0.77277,     0.77377,     0.77477,     0.77578,     0.77678,     0.77778,     0.77878,     0.77978,     0.78078,     0.78178,     0.78278,     0.78378,     0.78478,     0.78579,     0.78679,     0.78779,     0.78879,     0.78979,     0.79079,     0.79179,\n",
              "           0.79279,     0.79379,     0.79479,      0.7958,      0.7968,      0.7978,      0.7988,      0.7998,      0.8008,      0.8018,      0.8028,      0.8038,      0.8048,     0.80581,     0.80681,     0.80781,     0.80881,     0.80981,     0.81081,     0.81181,     0.81281,     0.81381,     0.81481,     0.81582,\n",
              "           0.81682,     0.81782,     0.81882,     0.81982,     0.82082,     0.82182,     0.82282,     0.82382,     0.82482,     0.82583,     0.82683,     0.82783,     0.82883,     0.82983,     0.83083,     0.83183,     0.83283,     0.83383,     0.83483,     0.83584,     0.83684,     0.83784,     0.83884,     0.83984,\n",
              "           0.84084,     0.84184,     0.84284,     0.84384,     0.84484,     0.84585,     0.84685,     0.84785,     0.84885,     0.84985,     0.85085,     0.85185,     0.85285,     0.85385,     0.85485,     0.85586,     0.85686,     0.85786,     0.85886,     0.85986,     0.86086,     0.86186,     0.86286,     0.86386,\n",
              "           0.86486,     0.86587,     0.86687,     0.86787,     0.86887,     0.86987,     0.87087,     0.87187,     0.87287,     0.87387,     0.87487,     0.87588,     0.87688,     0.87788,     0.87888,     0.87988,     0.88088,     0.88188,     0.88288,     0.88388,     0.88488,     0.88589,     0.88689,     0.88789,\n",
              "           0.88889,     0.88989,     0.89089,     0.89189,     0.89289,     0.89389,     0.89489,      0.8959,      0.8969,      0.8979,      0.8989,      0.8999,      0.9009,      0.9019,      0.9029,      0.9039,      0.9049,     0.90591,     0.90691,     0.90791,     0.90891,     0.90991,     0.91091,     0.91191,\n",
              "           0.91291,     0.91391,     0.91491,     0.91592,     0.91692,     0.91792,     0.91892,     0.91992,     0.92092,     0.92192,     0.92292,     0.92392,     0.92492,     0.92593,     0.92693,     0.92793,     0.92893,     0.92993,     0.93093,     0.93193,     0.93293,     0.93393,     0.93493,     0.93594,\n",
              "           0.93694,     0.93794,     0.93894,     0.93994,     0.94094,     0.94194,     0.94294,     0.94394,     0.94494,     0.94595,     0.94695,     0.94795,     0.94895,     0.94995,     0.95095,     0.95195,     0.95295,     0.95395,     0.95495,     0.95596,     0.95696,     0.95796,     0.95896,     0.95996,\n",
              "           0.96096,     0.96196,     0.96296,     0.96396,     0.96496,     0.96597,     0.96697,     0.96797,     0.96897,     0.96997,     0.97097,     0.97197,     0.97297,     0.97397,     0.97497,     0.97598,     0.97698,     0.97798,     0.97898,     0.97998,     0.98098,     0.98198,     0.98298,     0.98398,\n",
              "           0.98498,     0.98599,     0.98699,     0.98799,     0.98899,     0.98999,     0.99099,     0.99199,     0.99299,     0.99399,     0.99499,       0.996,       0.997,       0.998,       0.999,           1]), array([[    0.15754,     0.15754,     0.21395, ...,           1,           1,           1],\n",
              "       [    0.15569,     0.15569,     0.21313, ...,           1,           1,           1],\n",
              "       [    0.14563,     0.14563,      0.1916, ...,           1,           1,           1]]), 'Confidence', 'Precision'], [array([          0,    0.001001,    0.002002,    0.003003,    0.004004,    0.005005,    0.006006,    0.007007,    0.008008,    0.009009,     0.01001,    0.011011,    0.012012,    0.013013,    0.014014,    0.015015,    0.016016,    0.017017,    0.018018,    0.019019,     0.02002,    0.021021,    0.022022,    0.023023,\n",
              "          0.024024,    0.025025,    0.026026,    0.027027,    0.028028,    0.029029,     0.03003,    0.031031,    0.032032,    0.033033,    0.034034,    0.035035,    0.036036,    0.037037,    0.038038,    0.039039,     0.04004,    0.041041,    0.042042,    0.043043,    0.044044,    0.045045,    0.046046,    0.047047,\n",
              "          0.048048,    0.049049,     0.05005,    0.051051,    0.052052,    0.053053,    0.054054,    0.055055,    0.056056,    0.057057,    0.058058,    0.059059,     0.06006,    0.061061,    0.062062,    0.063063,    0.064064,    0.065065,    0.066066,    0.067067,    0.068068,    0.069069,     0.07007,    0.071071,\n",
              "          0.072072,    0.073073,    0.074074,    0.075075,    0.076076,    0.077077,    0.078078,    0.079079,     0.08008,    0.081081,    0.082082,    0.083083,    0.084084,    0.085085,    0.086086,    0.087087,    0.088088,    0.089089,     0.09009,    0.091091,    0.092092,    0.093093,    0.094094,    0.095095,\n",
              "          0.096096,    0.097097,    0.098098,    0.099099,      0.1001,      0.1011,      0.1021,      0.1031,      0.1041,     0.10511,     0.10611,     0.10711,     0.10811,     0.10911,     0.11011,     0.11111,     0.11211,     0.11311,     0.11411,     0.11512,     0.11612,     0.11712,     0.11812,     0.11912,\n",
              "           0.12012,     0.12112,     0.12212,     0.12312,     0.12412,     0.12513,     0.12613,     0.12713,     0.12813,     0.12913,     0.13013,     0.13113,     0.13213,     0.13313,     0.13413,     0.13514,     0.13614,     0.13714,     0.13814,     0.13914,     0.14014,     0.14114,     0.14214,     0.14314,\n",
              "           0.14414,     0.14515,     0.14615,     0.14715,     0.14815,     0.14915,     0.15015,     0.15115,     0.15215,     0.15315,     0.15415,     0.15516,     0.15616,     0.15716,     0.15816,     0.15916,     0.16016,     0.16116,     0.16216,     0.16316,     0.16416,     0.16517,     0.16617,     0.16717,\n",
              "           0.16817,     0.16917,     0.17017,     0.17117,     0.17217,     0.17317,     0.17417,     0.17518,     0.17618,     0.17718,     0.17818,     0.17918,     0.18018,     0.18118,     0.18218,     0.18318,     0.18418,     0.18519,     0.18619,     0.18719,     0.18819,     0.18919,     0.19019,     0.19119,\n",
              "           0.19219,     0.19319,     0.19419,      0.1952,      0.1962,      0.1972,      0.1982,      0.1992,      0.2002,      0.2012,      0.2022,      0.2032,      0.2042,     0.20521,     0.20621,     0.20721,     0.20821,     0.20921,     0.21021,     0.21121,     0.21221,     0.21321,     0.21421,     0.21522,\n",
              "           0.21622,     0.21722,     0.21822,     0.21922,     0.22022,     0.22122,     0.22222,     0.22322,     0.22422,     0.22523,     0.22623,     0.22723,     0.22823,     0.22923,     0.23023,     0.23123,     0.23223,     0.23323,     0.23423,     0.23524,     0.23624,     0.23724,     0.23824,     0.23924,\n",
              "           0.24024,     0.24124,     0.24224,     0.24324,     0.24424,     0.24525,     0.24625,     0.24725,     0.24825,     0.24925,     0.25025,     0.25125,     0.25225,     0.25325,     0.25425,     0.25526,     0.25626,     0.25726,     0.25826,     0.25926,     0.26026,     0.26126,     0.26226,     0.26326,\n",
              "           0.26426,     0.26527,     0.26627,     0.26727,     0.26827,     0.26927,     0.27027,     0.27127,     0.27227,     0.27327,     0.27427,     0.27528,     0.27628,     0.27728,     0.27828,     0.27928,     0.28028,     0.28128,     0.28228,     0.28328,     0.28428,     0.28529,     0.28629,     0.28729,\n",
              "           0.28829,     0.28929,     0.29029,     0.29129,     0.29229,     0.29329,     0.29429,      0.2953,      0.2963,      0.2973,      0.2983,      0.2993,      0.3003,      0.3013,      0.3023,      0.3033,      0.3043,     0.30531,     0.30631,     0.30731,     0.30831,     0.30931,     0.31031,     0.31131,\n",
              "           0.31231,     0.31331,     0.31431,     0.31532,     0.31632,     0.31732,     0.31832,     0.31932,     0.32032,     0.32132,     0.32232,     0.32332,     0.32432,     0.32533,     0.32633,     0.32733,     0.32833,     0.32933,     0.33033,     0.33133,     0.33233,     0.33333,     0.33433,     0.33534,\n",
              "           0.33634,     0.33734,     0.33834,     0.33934,     0.34034,     0.34134,     0.34234,     0.34334,     0.34434,     0.34535,     0.34635,     0.34735,     0.34835,     0.34935,     0.35035,     0.35135,     0.35235,     0.35335,     0.35435,     0.35536,     0.35636,     0.35736,     0.35836,     0.35936,\n",
              "           0.36036,     0.36136,     0.36236,     0.36336,     0.36436,     0.36537,     0.36637,     0.36737,     0.36837,     0.36937,     0.37037,     0.37137,     0.37237,     0.37337,     0.37437,     0.37538,     0.37638,     0.37738,     0.37838,     0.37938,     0.38038,     0.38138,     0.38238,     0.38338,\n",
              "           0.38438,     0.38539,     0.38639,     0.38739,     0.38839,     0.38939,     0.39039,     0.39139,     0.39239,     0.39339,     0.39439,      0.3954,      0.3964,      0.3974,      0.3984,      0.3994,      0.4004,      0.4014,      0.4024,      0.4034,      0.4044,     0.40541,     0.40641,     0.40741,\n",
              "           0.40841,     0.40941,     0.41041,     0.41141,     0.41241,     0.41341,     0.41441,     0.41542,     0.41642,     0.41742,     0.41842,     0.41942,     0.42042,     0.42142,     0.42242,     0.42342,     0.42442,     0.42543,     0.42643,     0.42743,     0.42843,     0.42943,     0.43043,     0.43143,\n",
              "           0.43243,     0.43343,     0.43443,     0.43544,     0.43644,     0.43744,     0.43844,     0.43944,     0.44044,     0.44144,     0.44244,     0.44344,     0.44444,     0.44545,     0.44645,     0.44745,     0.44845,     0.44945,     0.45045,     0.45145,     0.45245,     0.45345,     0.45445,     0.45546,\n",
              "           0.45646,     0.45746,     0.45846,     0.45946,     0.46046,     0.46146,     0.46246,     0.46346,     0.46446,     0.46547,     0.46647,     0.46747,     0.46847,     0.46947,     0.47047,     0.47147,     0.47247,     0.47347,     0.47447,     0.47548,     0.47648,     0.47748,     0.47848,     0.47948,\n",
              "           0.48048,     0.48148,     0.48248,     0.48348,     0.48448,     0.48549,     0.48649,     0.48749,     0.48849,     0.48949,     0.49049,     0.49149,     0.49249,     0.49349,     0.49449,      0.4955,      0.4965,      0.4975,      0.4985,      0.4995,      0.5005,      0.5015,      0.5025,      0.5035,\n",
              "            0.5045,     0.50551,     0.50651,     0.50751,     0.50851,     0.50951,     0.51051,     0.51151,     0.51251,     0.51351,     0.51451,     0.51552,     0.51652,     0.51752,     0.51852,     0.51952,     0.52052,     0.52152,     0.52252,     0.52352,     0.52452,     0.52553,     0.52653,     0.52753,\n",
              "           0.52853,     0.52953,     0.53053,     0.53153,     0.53253,     0.53353,     0.53453,     0.53554,     0.53654,     0.53754,     0.53854,     0.53954,     0.54054,     0.54154,     0.54254,     0.54354,     0.54454,     0.54555,     0.54655,     0.54755,     0.54855,     0.54955,     0.55055,     0.55155,\n",
              "           0.55255,     0.55355,     0.55455,     0.55556,     0.55656,     0.55756,     0.55856,     0.55956,     0.56056,     0.56156,     0.56256,     0.56356,     0.56456,     0.56557,     0.56657,     0.56757,     0.56857,     0.56957,     0.57057,     0.57157,     0.57257,     0.57357,     0.57457,     0.57558,\n",
              "           0.57658,     0.57758,     0.57858,     0.57958,     0.58058,     0.58158,     0.58258,     0.58358,     0.58458,     0.58559,     0.58659,     0.58759,     0.58859,     0.58959,     0.59059,     0.59159,     0.59259,     0.59359,     0.59459,      0.5956,      0.5966,      0.5976,      0.5986,      0.5996,\n",
              "            0.6006,      0.6016,      0.6026,      0.6036,      0.6046,     0.60561,     0.60661,     0.60761,     0.60861,     0.60961,     0.61061,     0.61161,     0.61261,     0.61361,     0.61461,     0.61562,     0.61662,     0.61762,     0.61862,     0.61962,     0.62062,     0.62162,     0.62262,     0.62362,\n",
              "           0.62462,     0.62563,     0.62663,     0.62763,     0.62863,     0.62963,     0.63063,     0.63163,     0.63263,     0.63363,     0.63463,     0.63564,     0.63664,     0.63764,     0.63864,     0.63964,     0.64064,     0.64164,     0.64264,     0.64364,     0.64464,     0.64565,     0.64665,     0.64765,\n",
              "           0.64865,     0.64965,     0.65065,     0.65165,     0.65265,     0.65365,     0.65465,     0.65566,     0.65666,     0.65766,     0.65866,     0.65966,     0.66066,     0.66166,     0.66266,     0.66366,     0.66466,     0.66567,     0.66667,     0.66767,     0.66867,     0.66967,     0.67067,     0.67167,\n",
              "           0.67267,     0.67367,     0.67467,     0.67568,     0.67668,     0.67768,     0.67868,     0.67968,     0.68068,     0.68168,     0.68268,     0.68368,     0.68468,     0.68569,     0.68669,     0.68769,     0.68869,     0.68969,     0.69069,     0.69169,     0.69269,     0.69369,     0.69469,      0.6957,\n",
              "            0.6967,      0.6977,      0.6987,      0.6997,      0.7007,      0.7017,      0.7027,      0.7037,      0.7047,     0.70571,     0.70671,     0.70771,     0.70871,     0.70971,     0.71071,     0.71171,     0.71271,     0.71371,     0.71471,     0.71572,     0.71672,     0.71772,     0.71872,     0.71972,\n",
              "           0.72072,     0.72172,     0.72272,     0.72372,     0.72472,     0.72573,     0.72673,     0.72773,     0.72873,     0.72973,     0.73073,     0.73173,     0.73273,     0.73373,     0.73473,     0.73574,     0.73674,     0.73774,     0.73874,     0.73974,     0.74074,     0.74174,     0.74274,     0.74374,\n",
              "           0.74474,     0.74575,     0.74675,     0.74775,     0.74875,     0.74975,     0.75075,     0.75175,     0.75275,     0.75375,     0.75475,     0.75576,     0.75676,     0.75776,     0.75876,     0.75976,     0.76076,     0.76176,     0.76276,     0.76376,     0.76476,     0.76577,     0.76677,     0.76777,\n",
              "           0.76877,     0.76977,     0.77077,     0.77177,     0.77277,     0.77377,     0.77477,     0.77578,     0.77678,     0.77778,     0.77878,     0.77978,     0.78078,     0.78178,     0.78278,     0.78378,     0.78478,     0.78579,     0.78679,     0.78779,     0.78879,     0.78979,     0.79079,     0.79179,\n",
              "           0.79279,     0.79379,     0.79479,      0.7958,      0.7968,      0.7978,      0.7988,      0.7998,      0.8008,      0.8018,      0.8028,      0.8038,      0.8048,     0.80581,     0.80681,     0.80781,     0.80881,     0.80981,     0.81081,     0.81181,     0.81281,     0.81381,     0.81481,     0.81582,\n",
              "           0.81682,     0.81782,     0.81882,     0.81982,     0.82082,     0.82182,     0.82282,     0.82382,     0.82482,     0.82583,     0.82683,     0.82783,     0.82883,     0.82983,     0.83083,     0.83183,     0.83283,     0.83383,     0.83483,     0.83584,     0.83684,     0.83784,     0.83884,     0.83984,\n",
              "           0.84084,     0.84184,     0.84284,     0.84384,     0.84484,     0.84585,     0.84685,     0.84785,     0.84885,     0.84985,     0.85085,     0.85185,     0.85285,     0.85385,     0.85485,     0.85586,     0.85686,     0.85786,     0.85886,     0.85986,     0.86086,     0.86186,     0.86286,     0.86386,\n",
              "           0.86486,     0.86587,     0.86687,     0.86787,     0.86887,     0.86987,     0.87087,     0.87187,     0.87287,     0.87387,     0.87487,     0.87588,     0.87688,     0.87788,     0.87888,     0.87988,     0.88088,     0.88188,     0.88288,     0.88388,     0.88488,     0.88589,     0.88689,     0.88789,\n",
              "           0.88889,     0.88989,     0.89089,     0.89189,     0.89289,     0.89389,     0.89489,      0.8959,      0.8969,      0.8979,      0.8989,      0.8999,      0.9009,      0.9019,      0.9029,      0.9039,      0.9049,     0.90591,     0.90691,     0.90791,     0.90891,     0.90991,     0.91091,     0.91191,\n",
              "           0.91291,     0.91391,     0.91491,     0.91592,     0.91692,     0.91792,     0.91892,     0.91992,     0.92092,     0.92192,     0.92292,     0.92392,     0.92492,     0.92593,     0.92693,     0.92793,     0.92893,     0.92993,     0.93093,     0.93193,     0.93293,     0.93393,     0.93493,     0.93594,\n",
              "           0.93694,     0.93794,     0.93894,     0.93994,     0.94094,     0.94194,     0.94294,     0.94394,     0.94494,     0.94595,     0.94695,     0.94795,     0.94895,     0.94995,     0.95095,     0.95195,     0.95295,     0.95395,     0.95495,     0.95596,     0.95696,     0.95796,     0.95896,     0.95996,\n",
              "           0.96096,     0.96196,     0.96296,     0.96396,     0.96496,     0.96597,     0.96697,     0.96797,     0.96897,     0.96997,     0.97097,     0.97197,     0.97297,     0.97397,     0.97497,     0.97598,     0.97698,     0.97798,     0.97898,     0.97998,     0.98098,     0.98198,     0.98298,     0.98398,\n",
              "           0.98498,     0.98599,     0.98699,     0.98799,     0.98899,     0.98999,     0.99099,     0.99199,     0.99299,     0.99399,     0.99499,       0.996,       0.997,       0.998,       0.999,           1]), array([[    0.96575,     0.96575,     0.96575, ...,           0,           0,           0],\n",
              "       [    0.99333,     0.99333,     0.99333, ...,           0,           0,           0],\n",
              "       [    0.98361,     0.98361,     0.97541, ...,           0,           0,           0]]), 'Confidence', 'Recall']]\n",
              "fitness: np.float64(0.7822141432842277)\n",
              "keys: ['metrics/precision(B)', 'metrics/recall(B)', 'metrics/mAP50(B)', 'metrics/mAP50-95(B)']\n",
              "maps: array([    0.77151,     0.74123,     0.77756])\n",
              "names: {0: 'Paper', 1: 'Rock', 2: 'Scissors'}\n",
              "nt_per_class: array([146, 150, 122])\n",
              "nt_per_image: array([139, 128, 118])\n",
              "results_dict: {'metrics/precision(B)': np.float64(0.9555251496872349), 'metrics/recall(B)': np.float64(0.9072203701446666), 'metrics/mAP50(B)': np.float64(0.9512523350786495), 'metrics/mAP50-95(B)': np.float64(0.7634321219737363), 'fitness': np.float64(0.7822141432842277)}\n",
              "save_dir: PosixPath('runs/detect/train')\n",
              "speed: {'preprocess': 0.1577590314572479, 'inference': 2.0964194437083097, 'loss': 0.0004872450334770346, 'postprocess': 2.428064907285683}\n",
              "stats: {'tp': [], 'conf': [], 'pred_cls': [], 'target_cls': [], 'target_img': []}\n",
              "task: 'detect'"
            ]
          },
          "metadata": {},
          "execution_count": 3
        }
      ]
    },
    {
      "cell_type": "code",
      "source": [
        "results = model.predict(source=\"rock-paper-scissors-1/test/images\", save=True, conf=0.5)"
      ],
      "metadata": {
        "colab": {
          "base_uri": "https://localhost:8080/"
        },
        "id": "RpKVumej7tZ8",
        "outputId": "4757c75c-0201-4f27-8e79-7fd534bfc4de"
      },
      "execution_count": 4,
      "outputs": [
        {
          "output_type": "stream",
          "name": "stdout",
          "text": [
            "\n",
            "image 1/329 /content/rock-paper-scissors-1/test/images/10e0gvm_jpg.rf.1912b0f1bc510065432b2f7c8f80b8f2.jpg: 640x512 (no detections), 34.8ms\n",
            "image 2/329 /content/rock-paper-scissors-1/test/images/15208484cellblock_jpg.rf.c89230a344b397f1cacf5a3959a27147.jpg: 640x640 (no detections), 8.0ms\n",
            "image 3/329 /content/rock-paper-scissors-1/test/images/19171_298_298_1_0_jpg.rf.5a1a83c1755c85d52944d6d8f2baea93.jpg: 640x640 (no detections), 7.2ms\n",
            "image 4/329 /content/rock-paper-scissors-1/test/images/20061004021831_jpg.rf.f7b3a1278add8d87008453d5f1d239f7.jpg: 480x640 (no detections), 35.3ms\n",
            "image 5/329 /content/rock-paper-scissors-1/test/images/20220216_221550_jpg.rf.05e66a311af9aa51e4901e22e751d3dc.jpg: 384x640 (no detections), 36.1ms\n",
            "image 6/329 /content/rock-paper-scissors-1/test/images/20220216_221819_jpg.rf.04ebf1730bfa5cd712ec2ff823f2e578.jpg: 384x640 (no detections), 7.3ms\n",
            "image 7/329 /content/rock-paper-scissors-1/test/images/20220216_221856_jpg.rf.910d5f581613148ad97b399b3d1bf8e2.jpg: 384x640 (no detections), 9.8ms\n",
            "image 8/329 /content/rock-paper-scissors-1/test/images/20220216_222153_jpg.rf.6dfeabbe8ce0ab78042ef8cf7f741d82.jpg: 384x640 (no detections), 7.1ms\n",
            "image 9/329 /content/rock-paper-scissors-1/test/images/20220216_222607_jpg.rf.742696cd34b09a6805f6d03be968c3c3.jpg: 384x640 (no detections), 15.2ms\n",
            "image 10/329 /content/rock-paper-scissors-1/test/images/610x_jpg.rf.44cd69527e9db354f2064784ca447e42.jpg: 480x640 (no detections), 8.7ms\n",
            "image 11/329 /content/rock-paper-scissors-1/test/images/CARDS_LIVINGROOM_B_T_frame_0124_jpg.rf.5269db4a8f33b75f2ded3f4a32e48f79.jpg: 384x640 (no detections), 7.2ms\n",
            "image 12/329 /content/rock-paper-scissors-1/test/images/CARDS_OFFICE_S_B_frame_0057_jpg.rf.2619bfb0500eb8c0fdad8698067cb6c7.jpg: 384x640 (no detections), 6.6ms\n",
            "image 13/329 /content/rock-paper-scissors-1/test/images/CARDS_OFFICE_T_H_frame_0223_jpg.rf.01a624a17e813e52572333398069a83d.jpg: 384x640 (no detections), 6.9ms\n",
            "image 14/329 /content/rock-paper-scissors-1/test/images/CHESS_COURTYARD_B_T_frame_1110_jpg.rf.fffc1c82ff5720c3b54d64ae07b69a6b.jpg: 384x640 (no detections), 7.4ms\n",
            "image 15/329 /content/rock-paper-scissors-1/test/images/CHESS_OFFICE_S_B_frame_1971_jpg.rf.20b0bed2b33e9628d964c7c97fefbd7b.jpg: 384x640 (no detections), 6.6ms\n",
            "image 16/329 /content/rock-paper-scissors-1/test/images/ComfortSuites_MEETINGM_jpg.rf.4969fc15949c7b03da1047923d7aec07.jpg: 512x640 (no detections), 34.9ms\n",
            "image 17/329 /content/rock-paper-scissors-1/test/images/Cool-Video-of-Ocean-Fish-Swimming_mp4-16_jpg.rf.3541addcd329582512ddfda6998302cc.jpg: 384x640 (no detections), 7.1ms\n",
            "image 18/329 /content/rock-paper-scissors-1/test/images/Cool-Video-of-Ocean-Fish-Swimming_mp4-18_jpg.rf.fdaad0e00d711690f6b74e0dd4737158.jpg: 384x640 (no detections), 6.5ms\n",
            "image 19/329 /content/rock-paper-scissors-1/test/images/Cool-Video-of-Ocean-Fish-Swimming_mp4-4_jpg.rf.8e13a065a3e8ddec60b0a4a98e0ec668.jpg: 384x640 (no detections), 6.8ms\n",
            "image 20/329 /content/rock-paper-scissors-1/test/images/IMG-2728_JPG_jpg.rf.368bfcc397c72604f8cfae6a853bee85.jpg: 640x480 (no detections), 37.8ms\n",
            "image 21/329 /content/rock-paper-scissors-1/test/images/IMG_0350_jpg.rf.bae5414f4ff1eed2721d004550e7bb6c.jpg: 480x640 (no detections), 7.5ms\n",
            "image 22/329 /content/rock-paper-scissors-1/test/images/IMG_5567_mp4-108_jpg.rf.1e8c1b29cf3fd4a5b106714e44f01631.jpg: 640x384 1 Scissors, 34.3ms\n",
            "image 23/329 /content/rock-paper-scissors-1/test/images/IMG_5567_mp4-119_jpg.rf.7a66b891bc58ff47713d155eb0bee2de.jpg: 640x384 (no detections), 6.7ms\n",
            "image 24/329 /content/rock-paper-scissors-1/test/images/IMG_5567_mp4-122_jpg.rf.c46ebe1294e23bd0dd16836c88ec855d.jpg: 640x384 (no detections), 6.8ms\n",
            "image 25/329 /content/rock-paper-scissors-1/test/images/IMG_5567_mp4-134_jpg.rf.7bf99cf65ecfad4eb67abe1d2ce7be1c.jpg: 640x384 1 Rock, 6.3ms\n",
            "image 26/329 /content/rock-paper-scissors-1/test/images/IMG_5567_mp4-148_jpg.rf.6df4f4496599ae09361a192bb0c5de98.jpg: 640x384 1 Scissors, 7.3ms\n",
            "image 27/329 /content/rock-paper-scissors-1/test/images/IMG_5567_mp4-151_jpg.rf.a8014c99ca8aceaa95ebc04797adcedd.jpg: 640x384 1 Scissors, 7.3ms\n",
            "image 28/329 /content/rock-paper-scissors-1/test/images/IMG_5567_mp4-155_jpg.rf.232fda4a135aeb299ee3d5a1b53513b9.jpg: 640x384 (no detections), 7.2ms\n",
            "image 29/329 /content/rock-paper-scissors-1/test/images/IMG_5567_mp4-160_jpg.rf.d72528cd1523072ae196ad0a3028ec1e.jpg: 640x384 1 Paper, 6.3ms\n",
            "image 30/329 /content/rock-paper-scissors-1/test/images/IMG_5567_mp4-166_jpg.rf.886bbed7e4df3a8a9e34c395099cb825.jpg: 640x384 1 Paper, 6.3ms\n",
            "image 31/329 /content/rock-paper-scissors-1/test/images/IMG_5567_mp4-16_jpg.rf.d6e4fd288edd72e44612ec78bf18f9fb.jpg: 640x384 1 Scissors, 8.0ms\n",
            "image 32/329 /content/rock-paper-scissors-1/test/images/IMG_5567_mp4-171_jpg.rf.4f115ef711a2031ca789eca18eb7df3b.jpg: 640x384 1 Paper, 6.2ms\n",
            "image 33/329 /content/rock-paper-scissors-1/test/images/IMG_5567_mp4-183_jpg.rf.a90cf470233d0412d52843fda5815093.jpg: 640x384 (no detections), 8.6ms\n",
            "image 34/329 /content/rock-paper-scissors-1/test/images/IMG_5567_mp4-1_jpg.rf.cdd5c996127a808cf8979f37bfa32bc8.jpg: 640x384 (no detections), 6.5ms\n",
            "image 35/329 /content/rock-paper-scissors-1/test/images/IMG_5567_mp4-24_jpg.rf.6d7d72f2c7d0f96df29aa3b20cd81928.jpg: 640x384 (no detections), 6.3ms\n",
            "image 36/329 /content/rock-paper-scissors-1/test/images/IMG_5567_mp4-47_jpg.rf.ea382bdd551e6cc99c71788d0dabebc1.jpg: 640x384 (no detections), 6.5ms\n",
            "image 37/329 /content/rock-paper-scissors-1/test/images/IMG_5567_mp4-56_jpg.rf.25bac8e76d3961e144b4203fe51caab9.jpg: 640x384 1 Scissors, 6.3ms\n",
            "image 38/329 /content/rock-paper-scissors-1/test/images/IMG_5567_mp4-58_jpg.rf.4afd6b22ef19f64f220e1558ba44de33.jpg: 640x384 1 Scissors, 6.5ms\n",
            "image 39/329 /content/rock-paper-scissors-1/test/images/IMG_5567_mp4-64_jpg.rf.103099cb641903c4f563cde77e9a3123.jpg: 640x384 1 Scissors, 7.1ms\n",
            "image 40/329 /content/rock-paper-scissors-1/test/images/IMG_5567_mp4-78_jpg.rf.f1910c59c9d5eb475e18dab44afdbba7.jpg: 640x384 1 Paper, 6.2ms\n",
            "image 41/329 /content/rock-paper-scissors-1/test/images/IMG_5567_mp4-80_jpg.rf.2d0af11a93cf9e1711338079dc1e11d0.jpg: 640x384 1 Paper, 6.3ms\n",
            "image 42/329 /content/rock-paper-scissors-1/test/images/IMG_5567_mp4-98_jpg.rf.bcdce5ee9a937ac4046c7f6bd292acf9.jpg: 640x384 (no detections), 6.2ms\n",
            "image 43/329 /content/rock-paper-scissors-1/test/images/IMG_5636_MOV-17_jpg.rf.7f83a64cbaa9857c5471715170d9fe13.jpg: 640x384 1 Paper, 6.4ms\n",
            "image 44/329 /content/rock-paper-scissors-1/test/images/IMG_5636_MOV-31_jpg.rf.f93be11efbe75fc4e7ef22d8d5a969fe.jpg: 640x384 1 Rock, 6.9ms\n",
            "image 45/329 /content/rock-paper-scissors-1/test/images/IMG_5636_MOV-32_jpg.rf.88559fc7163f0e5ac26dae206ad68c77.jpg: 640x384 1 Rock, 12.1ms\n",
            "image 46/329 /content/rock-paper-scissors-1/test/images/IMG_5636_MOV-35_jpg.rf.7483a8203e297b24cf6b7f6d9a03067b.jpg: 640x384 1 Scissors, 6.6ms\n",
            "image 47/329 /content/rock-paper-scissors-1/test/images/IMG_5636_MOV-38_jpg.rf.e9fc484ccdbd07d6cf1ebd623ba31b2d.jpg: 640x384 1 Scissors, 6.5ms\n",
            "image 48/329 /content/rock-paper-scissors-1/test/images/IMG_5636_MOV-3_jpg.rf.8352cac432748dce61f6a90f11b0d2e2.jpg: 640x384 1 Rock, 6.7ms\n",
            "image 49/329 /content/rock-paper-scissors-1/test/images/IMG_5636_MOV-40_jpg.rf.eadd8a8627ed142b26b8632154f40d0b.jpg: 640x384 1 Scissors, 6.8ms\n",
            "image 50/329 /content/rock-paper-scissors-1/test/images/IMG_5636_MOV-55_jpg.rf.31738a3993ffe68768ca4c4f197422d0.jpg: 640x384 1 Rock, 6.5ms\n",
            "image 51/329 /content/rock-paper-scissors-1/test/images/IMG_5636_MOV-80_jpg.rf.df05ef75797b6b1c8fda68a46bb57f45.jpg: 640x384 (no detections), 8.0ms\n",
            "image 52/329 /content/rock-paper-scissors-1/test/images/IMG_7043_MOV-107_jpg.rf.4dd01102676dbd4ae508300d9010a559.jpg: 640x384 (no detections), 6.7ms\n",
            "image 53/329 /content/rock-paper-scissors-1/test/images/IMG_7043_MOV-112_jpg.rf.2b3cf1aef16d6b7f4119246ccf908efb.jpg: 640x384 1 Paper, 6.5ms\n",
            "image 54/329 /content/rock-paper-scissors-1/test/images/IMG_7043_MOV-139_jpg.rf.eda079b164ababda36adcba5850fa327.jpg: 640x384 1 Paper, 6.4ms\n",
            "image 55/329 /content/rock-paper-scissors-1/test/images/IMG_7043_MOV-13_jpg.rf.a869fe5dcbb2929aa6bef762f898ff95.jpg: 640x384 1 Scissors, 6.5ms\n",
            "image 56/329 /content/rock-paper-scissors-1/test/images/IMG_7043_MOV-144_jpg.rf.61212c0b693e69274c1d2907c87142cf.jpg: 640x384 (no detections), 7.0ms\n",
            "image 57/329 /content/rock-paper-scissors-1/test/images/IMG_7043_MOV-145_jpg.rf.073032ca5f14a71a496918f97752a9ac.jpg: 640x384 (no detections), 8.8ms\n",
            "image 58/329 /content/rock-paper-scissors-1/test/images/IMG_7043_MOV-157_jpg.rf.6ef00a86a9b75015e89302beaccf8a01.jpg: 640x384 1 Paper, 6.6ms\n",
            "image 59/329 /content/rock-paper-scissors-1/test/images/IMG_7043_MOV-15_jpg.rf.5ae2125fea845b72bcc712cc6fb70873.jpg: 640x384 1 Scissors, 6.7ms\n",
            "image 60/329 /content/rock-paper-scissors-1/test/images/IMG_7043_MOV-169_jpg.rf.314bbdf90d6d395c82f37d17617e1c9e.jpg: 640x384 (no detections), 6.6ms\n",
            "image 61/329 /content/rock-paper-scissors-1/test/images/IMG_7043_MOV-16_jpg.rf.a3d2edae3d98efa70b5c4434ddb68b90.jpg: 640x384 1 Scissors, 6.6ms\n",
            "image 62/329 /content/rock-paper-scissors-1/test/images/IMG_7043_MOV-177_jpg.rf.f96e6d13a0c145d78be35ac17fc43e8c.jpg: 640x384 1 Rock, 7.2ms\n",
            "image 63/329 /content/rock-paper-scissors-1/test/images/IMG_7043_MOV-17_jpg.rf.a7ced04c1ac8033886772d2d26eb4fe9.jpg: 640x384 1 Scissors, 6.7ms\n",
            "image 64/329 /content/rock-paper-scissors-1/test/images/IMG_7043_MOV-184_jpg.rf.6e6fd1e13c592783626a7850b9fa13ca.jpg: 640x384 1 Rock, 6.6ms\n",
            "image 65/329 /content/rock-paper-scissors-1/test/images/IMG_7043_MOV-18_jpg.rf.9ce46960a5acd0cf0a50194aac17752b.jpg: 640x384 1 Scissors, 6.6ms\n",
            "image 66/329 /content/rock-paper-scissors-1/test/images/IMG_7043_MOV-195_jpg.rf.3aa532c88705e3b5c1ef97a625f106e5.jpg: 640x384 1 Scissors, 6.6ms\n",
            "image 67/329 /content/rock-paper-scissors-1/test/images/IMG_7043_MOV-1_jpg.rf.150e6ee95daa2f28f1d84e49ab5396ee.jpg: 640x384 (no detections), 6.9ms\n",
            "image 68/329 /content/rock-paper-scissors-1/test/images/IMG_7043_MOV-26_jpg.rf.05e91134a7c2ada8652400e35b8c0270.jpg: 640x384 1 Scissors, 7.0ms\n",
            "image 69/329 /content/rock-paper-scissors-1/test/images/IMG_7043_MOV-61_jpg.rf.5cc38175d4983cbcdf8c2655269d2616.jpg: 640x384 (no detections), 6.6ms\n",
            "image 70/329 /content/rock-paper-scissors-1/test/images/IMG_7043_MOV-66_jpg.rf.41084351290bb46d0985c3b3aadf9dac.jpg: 640x384 (no detections), 9.0ms\n",
            "image 71/329 /content/rock-paper-scissors-1/test/images/IMG_7043_MOV-67_jpg.rf.8a9e3d90deb71f4f2be329a72a96ee31.jpg: 640x384 (no detections), 6.6ms\n",
            "image 72/329 /content/rock-paper-scissors-1/test/images/IMG_7043_MOV-84_jpg.rf.2458ed9e8c70749006c80f5cfada8b38.jpg: 640x384 1 Rock, 6.9ms\n",
            "image 73/329 /content/rock-paper-scissors-1/test/images/IMG_7043_MOV-96_jpg.rf.866ebe0947f4438737fe7f32097f864d.jpg: 640x384 1 Rock, 6.7ms\n",
            "image 74/329 /content/rock-paper-scissors-1/test/images/IMG_7077_MOV-106_jpg.rf.31a2436072f74d05daf61b9be3f8751a.jpg: 384x640 1 Rock, 1 Scissors, 7.4ms\n",
            "image 75/329 /content/rock-paper-scissors-1/test/images/IMG_7077_MOV-131_jpg.rf.c67a8e7b4a6c1469b93aaacdad6a2faa.jpg: 384x640 (no detections), 6.5ms\n",
            "image 76/329 /content/rock-paper-scissors-1/test/images/IMG_7077_MOV-132_jpg.rf.8520c6d2ec85fa71e5369e94e05423fc.jpg: 384x640 (no detections), 8.5ms\n",
            "image 77/329 /content/rock-paper-scissors-1/test/images/IMG_7077_MOV-140_jpg.rf.04274af8414ef52ad5a84418c8aefb7a.jpg: 384x640 (no detections), 6.6ms\n",
            "image 78/329 /content/rock-paper-scissors-1/test/images/IMG_7077_MOV-142_jpg.rf.c11d01c2123ea9c4be45e2e217092334.jpg: 384x640 (no detections), 6.9ms\n",
            "image 79/329 /content/rock-paper-scissors-1/test/images/IMG_7077_MOV-147_jpg.rf.a697cbf1fa93bc874bc1f67c3e93d4ce.jpg: 384x640 (no detections), 6.7ms\n",
            "image 80/329 /content/rock-paper-scissors-1/test/images/IMG_7077_MOV-19_jpg.rf.ecae3782cefaa7f5307a03de493a72e1.jpg: 384x640 1 Paper, 1 Rock, 11.3ms\n",
            "image 81/329 /content/rock-paper-scissors-1/test/images/IMG_7077_MOV-20_jpg.rf.71586d8841cdd1df67a940c2605919ae.jpg: 384x640 1 Paper, 1 Rock, 6.7ms\n",
            "image 82/329 /content/rock-paper-scissors-1/test/images/IMG_7077_MOV-32_jpg.rf.d5e5ab66c0ebfe7f3a67d5615b878dcf.jpg: 384x640 1 Paper, 1 Scissors, 6.4ms\n",
            "image 83/329 /content/rock-paper-scissors-1/test/images/IMG_7077_MOV-33_jpg.rf.8c84cdc89d9012a310adab590db5b762.jpg: 384x640 1 Paper, 1 Scissors, 6.5ms\n",
            "image 84/329 /content/rock-paper-scissors-1/test/images/IMG_7077_MOV-7_jpg.rf.ed1ca2dddad03d9c80529a73a46d4ad3.jpg: 384x640 2 Rocks, 6.4ms\n",
            "image 85/329 /content/rock-paper-scissors-1/test/images/IMG_7077_MOV-82_jpg.rf.161152e96ac01358bf3969436f358457.jpg: 384x640 2 Scissorss, 6.4ms\n",
            "image 86/329 /content/rock-paper-scissors-1/test/images/IMG_7079_MOV-122_jpg.rf.f92ee65423cc5b9cd76d98ffe5c85b0d.jpg: 640x384 1 Scissors, 7.3ms\n",
            "image 87/329 /content/rock-paper-scissors-1/test/images/IMG_7079_MOV-124_jpg.rf.0c25041b0ee2dfbb19c4a2b7bebfd803.jpg: 640x384 1 Scissors, 6.6ms\n",
            "image 88/329 /content/rock-paper-scissors-1/test/images/IMG_7079_MOV-137_jpg.rf.d6b533f511c4d73bda0d1decfe821ef1.jpg: 640x384 1 Scissors, 6.8ms\n",
            "image 89/329 /content/rock-paper-scissors-1/test/images/IMG_7079_MOV-149_jpg.rf.15fa979898a661156e9d521845767480.jpg: 640x384 1 Scissors, 6.2ms\n",
            "image 90/329 /content/rock-paper-scissors-1/test/images/IMG_7079_MOV-20_jpg.rf.7e3e5e3a9c4fd8f17e061cbf844bfbbf.jpg: 640x384 1 Rock, 6.5ms\n",
            "image 91/329 /content/rock-paper-scissors-1/test/images/IMG_7079_MOV-23_jpg.rf.039b3ea152aeb1c36f377e949f6d146b.jpg: 640x384 1 Rock, 6.3ms\n",
            "image 92/329 /content/rock-paper-scissors-1/test/images/IMG_7079_MOV-40_jpg.rf.211fe325a9486aa590d06a1ae6232676.jpg: 640x384 1 Paper, 6.4ms\n",
            "image 93/329 /content/rock-paper-scissors-1/test/images/IMG_7079_MOV-52_jpg.rf.99ca26249ea066c9b1fcac3ab47abca6.jpg: 640x384 1 Paper, 6.3ms\n",
            "image 94/329 /content/rock-paper-scissors-1/test/images/IMG_7079_MOV-55_jpg.rf.c7b92b7a67b5dde12dfc3a35e14e885f.jpg: 640x384 1 Paper, 6.2ms\n",
            "image 95/329 /content/rock-paper-scissors-1/test/images/IMG_7079_MOV-65_jpg.rf.678b74787d864cbddfd05e0f72b1d936.jpg: 640x384 1 Paper, 6.4ms\n",
            "image 96/329 /content/rock-paper-scissors-1/test/images/IMG_7079_MOV-8_jpg.rf.07e4aaf36f52d3ee5f8fd90f67707cc4.jpg: 640x384 1 Rock, 6.6ms\n",
            "image 97/329 /content/rock-paper-scissors-1/test/images/JENGA_COURTYARD_H_B_frame_0674_jpg.rf.ad33fb55429960f4626fcc03818a93fa.jpg: 384x640 (no detections), 7.2ms\n",
            "image 98/329 /content/rock-paper-scissors-1/test/images/JENGA_COURTYARD_S_T_frame_0229_jpg.rf.0dc3f38a63f324939a17b2262e232df1.jpg: 384x640 (no detections), 6.5ms\n",
            "image 99/329 /content/rock-paper-scissors-1/test/images/JENGA_OFFICE_B_S_frame_1353_jpg.rf.d1896b0eefcdb67b35428cf1787eb7dc.jpg: 384x640 (no detections), 6.3ms\n",
            "image 100/329 /content/rock-paper-scissors-1/test/images/JENGA_OFFICE_S_B_frame_1667_jpg.rf.eea9371d53777a900a149177c078f516.jpg: 384x640 (no detections), 6.4ms\n",
            "image 101/329 /content/rock-paper-scissors-1/test/images/JWitt-RCP_mp4-17_jpg.rf.b52ac63f550aa390165d207a4d0c012e.jpg: 640x384 1 Rock, 7.1ms\n",
            "image 102/329 /content/rock-paper-scissors-1/test/images/JWitt-RCP_mp4-18_jpg.rf.ee0f0666afa3b700808c50dd52fc9452.jpg: 640x384 1 Paper, 6.4ms\n",
            "image 103/329 /content/rock-paper-scissors-1/test/images/JWitt-RCP_mp4-24_jpg.rf.5b1ec3a1abc73064b9a56d3ae0a0733e.jpg: 640x384 (no detections), 6.5ms\n",
            "image 104/329 /content/rock-paper-scissors-1/test/images/JWitt-RCP_mp4-2_jpg.rf.6b2b8c2a927d3a7be2bba5f6e843b971.jpg: 640x384 (no detections), 6.4ms\n",
            "image 105/329 /content/rock-paper-scissors-1/test/images/JWitt-RCP_mp4-38_jpg.rf.76f954a1a926738e751a31d4c685b02d.jpg: 640x384 1 Scissors, 7.0ms\n",
            "image 106/329 /content/rock-paper-scissors-1/test/images/JWitt-RCP_mp4-41_jpg.rf.8bfbe5e7f7684f37444a95b153a8467c.jpg: 640x384 1 Scissors, 8.4ms\n",
            "image 107/329 /content/rock-paper-scissors-1/test/images/JWitt-RCP_mp4-60_jpg.rf.ef11b223e5a95c22f9e10dcad035cda0.jpg: 640x384 1 Scissors, 6.2ms\n",
            "image 108/329 /content/rock-paper-scissors-1/test/images/JWitt-RCP_mp4-64_jpg.rf.b497dc5a08caaeec5fc0989f74ad8eff.jpg: 640x384 1 Paper, 8.4ms\n",
            "image 109/329 /content/rock-paper-scissors-1/test/images/JWitt-RCP_mp4-70_jpg.rf.6b99ca0f0dffc82a58df7bc6fb93fd42.jpg: 640x384 1 Paper, 6.4ms\n",
            "image 110/329 /content/rock-paper-scissors-1/test/images/JWitt-RCP_mp4-72_jpg.rf.8de3b0bca69b1ac8165bf816594015e4.jpg: 640x384 1 Paper, 7.3ms\n",
            "image 111/329 /content/rock-paper-scissors-1/test/images/JWitt-RCP_mp4-92_jpg.rf.11b1aa6348b6d29a78c26ce880477203.jpg: 640x384 1 Scissors, 6.3ms\n",
            "image 112/329 /content/rock-paper-scissors-1/test/images/PUZZLE_LIVINGROOM_H_S_frame_0547_jpg.rf.2561ebd841aa44f1b560a9eb10f817ec.jpg: 384x640 (no detections), 7.0ms\n",
            "image 113/329 /content/rock-paper-scissors-1/test/images/PUZZLE_OFFICE_T_S_frame_2187_jpg.rf.cb63599f8aedd35b8ebce464038880b1.jpg: 384x640 (no detections), 6.6ms\n",
            "image 114/329 /content/rock-paper-scissors-1/test/images/Photo-on-2-16-22-at-10-19-AM-6_jpg.rf.3e9eba4aaa2673e0b5023588bf7f1ad5.jpg: 448x640 1 Rock, 36.1ms\n",
            "image 115/329 /content/rock-paper-scissors-1/test/images/Photo-on-2-16-22-at-10-20-AM-16_jpg.rf.9c4b9aeee77fdcb7409a51e97cee515b.jpg: 448x640 1 Paper, 7.4ms\n",
            "image 116/329 /content/rock-paper-scissors-1/test/images/Photo-on-2-16-22-at-10-20-AM-7_jpg.rf.04f6ee501d60f36f9331ea9182abe755.jpg: 448x640 1 Scissors, 6.9ms\n",
            "image 117/329 /content/rock-paper-scissors-1/test/images/Photo-on-2-16-22-at-10-20-AM-8_jpg.rf.df801924be20792a82698270455e9989.jpg: 448x640 1 Scissors, 6.8ms\n",
            "image 118/329 /content/rock-paper-scissors-1/test/images/Screen-Recording-2023-03-11-at-9_48_18-PM_mov-113_jpg.rf.ad08bf346ad2fa2f9b77aca888036b0d.jpg: 384x640 (no detections), 7.4ms\n",
            "image 119/329 /content/rock-paper-scissors-1/test/images/Screen-Recording-2023-03-11-at-9_48_18-PM_mov-117_jpg.rf.99ee6ce84e9580c50a4478d087bff68d.jpg: 384x640 (no detections), 6.9ms\n",
            "image 120/329 /content/rock-paper-scissors-1/test/images/Screen-Recording-2023-03-11-at-9_48_18-PM_mov-118_jpg.rf.e62eece66967e4835a1a09d3068372e2.jpg: 384x640 (no detections), 7.9ms\n",
            "image 121/329 /content/rock-paper-scissors-1/test/images/Screen-Recording-2023-03-11-at-9_48_18-PM_mov-144_jpg.rf.06cb9661ff927f1ccb784ee8d11099eb.jpg: 384x640 (no detections), 6.3ms\n",
            "image 122/329 /content/rock-paper-scissors-1/test/images/Screen-Recording-2023-03-11-at-9_48_18-PM_mov-147_jpg.rf.82eaefc195c19e40262de246c0187b87.jpg: 384x640 (no detections), 11.6ms\n",
            "image 123/329 /content/rock-paper-scissors-1/test/images/Screen-Recording-2023-03-11-at-9_48_18-PM_mov-157_jpg.rf.15a8b7d3a790cc1924f3c2bff1ddc27f.jpg: 384x640 1 Paper, 1 Scissors, 12.7ms\n",
            "image 124/329 /content/rock-paper-scissors-1/test/images/Screen-Recording-2023-03-11-at-9_48_18-PM_mov-163_jpg.rf.eb0a837539c7d95738aebad3bd2eb6ec.jpg: 384x640 (no detections), 6.7ms\n",
            "image 125/329 /content/rock-paper-scissors-1/test/images/Screen-Recording-2023-03-11-at-9_48_18-PM_mov-165_jpg.rf.598b3928d0daf440205c42752bcbbb15.jpg: 384x640 (no detections), 6.2ms\n",
            "image 126/329 /content/rock-paper-scissors-1/test/images/Screen-Recording-2023-03-11-at-9_48_18-PM_mov-186_jpg.rf.53f454a307154aeb7d04b79c8c2a7c50.jpg: 384x640 (no detections), 6.2ms\n",
            "image 127/329 /content/rock-paper-scissors-1/test/images/Screen-Recording-2023-03-11-at-9_48_18-PM_mov-201_jpg.rf.1ae2b5a78c729730413602c79474973d.jpg: 384x640 2 Rocks, 6.3ms\n",
            "image 128/329 /content/rock-paper-scissors-1/test/images/Screen-Recording-2023-03-11-at-9_48_18-PM_mov-245_jpg.rf.2ba0df99595a4d2273ac8044666f7793.jpg: 384x640 (no detections), 7.2ms\n",
            "image 129/329 /content/rock-paper-scissors-1/test/images/Screen-Recording-2023-03-11-at-9_48_18-PM_mov-248_jpg.rf.8c4ec76d3609a26885e4344818f5ed8a.jpg: 384x640 (no detections), 6.6ms\n",
            "image 130/329 /content/rock-paper-scissors-1/test/images/Screen-Recording-2023-03-11-at-9_48_18-PM_mov-249_jpg.rf.0149007a15a0b18db34fe0e9724ab974.jpg: 384x640 (no detections), 7.7ms\n",
            "image 131/329 /content/rock-paper-scissors-1/test/images/Screen-Recording-2023-03-11-at-9_48_18-PM_mov-250_jpg.rf.c69947ab71600c2aadb44bdb2a8a40cc.jpg: 384x640 (no detections), 6.2ms\n",
            "image 132/329 /content/rock-paper-scissors-1/test/images/Screen-Recording-2023-03-11-at-9_48_18-PM_mov-257_jpg.rf.7f100f53a4e4013b09a501222a24c747.jpg: 384x640 (no detections), 6.3ms\n",
            "image 133/329 /content/rock-paper-scissors-1/test/images/Screen-Recording-2023-03-11-at-9_48_18-PM_mov-258_jpg.rf.435845f09db55422cdd137cd8a505cc2.jpg: 384x640 (no detections), 6.3ms\n",
            "image 134/329 /content/rock-paper-scissors-1/test/images/Screen-Recording-2023-03-11-at-9_48_18-PM_mov-289_jpg.rf.abc0b3e9f4ce809d6f3214e42ee7450e.jpg: 384x640 2 Rocks, 6.3ms\n",
            "image 135/329 /content/rock-paper-scissors-1/test/images/Screen-Recording-2023-03-11-at-9_48_18-PM_mov-30_jpg.rf.c8b099031f2468d11e832518cb541a8c.jpg: 384x640 (no detections), 6.2ms\n",
            "image 136/329 /content/rock-paper-scissors-1/test/images/Screen-Recording-2023-03-11-at-9_48_18-PM_mov-50_jpg.rf.caa10daa111eb38bdf5dc9fbc20eecf5.jpg: 384x640 2 Rocks, 7.1ms\n",
            "image 137/329 /content/rock-paper-scissors-1/test/images/Screen-Recording-2023-03-11-at-9_48_18-PM_mov-55_jpg.rf.d7dbadf90dfd5dd26ac66c500b92bd68.jpg: 384x640 (no detections), 6.1ms\n",
            "image 138/329 /content/rock-paper-scissors-1/test/images/Screen-Recording-2023-03-11-at-9_48_18-PM_mov-62_jpg.rf.75442b7ebb2ce76d77fb45bcd82eab9c.jpg: 384x640 (no detections), 6.6ms\n",
            "image 139/329 /content/rock-paper-scissors-1/test/images/Screen-Recording-2023-03-11-at-9_48_18-PM_mov-6_jpg.rf.1fccc0eef16e3bfeb93448bd5976a811.jpg: 384x640 (no detections), 6.7ms\n",
            "image 140/329 /content/rock-paper-scissors-1/test/images/Screen-Recording-2023-03-11-at-9_48_18-PM_mov-71_jpg.rf.472951cad59fc063fe91bed5a6e3079e.jpg: 384x640 (no detections), 6.3ms\n",
            "image 141/329 /content/rock-paper-scissors-1/test/images/Screen-Recording-2023-03-11-at-9_48_18-PM_mov-77_jpg.rf.11e4d68a796f28731ddc58473bdb4322.jpg: 384x640 (no detections), 6.6ms\n",
            "image 142/329 /content/rock-paper-scissors-1/test/images/Screen-Recording-2023-03-11-at-9_48_18-PM_mov-7_jpg.rf.7e7b3bae69d5ebd34bb30bcca332f4de.jpg: 384x640 (no detections), 13.0ms\n",
            "image 143/329 /content/rock-paper-scissors-1/test/images/Screen-Recording-2023-03-11-at-9_48_18-PM_mov-80_jpg.rf.03353e09feb9f570719b70fabcaaada3.jpg: 384x640 (no detections), 6.3ms\n",
            "image 144/329 /content/rock-paper-scissors-1/test/images/Screen-Recording-2023-03-11-at-9_48_18-PM_mov-88_jpg.rf.ba143719b4af415f4544b94aeb689ef7.jpg: 384x640 (no detections), 6.5ms\n",
            "image 145/329 /content/rock-paper-scissors-1/test/images/Screen-Recording-2023-03-11-at-9_48_18-PM_mov-89_jpg.rf.7ddcf51cc70c5e482dbe60e6c393d167.jpg: 384x640 (no detections), 6.5ms\n",
            "image 146/329 /content/rock-paper-scissors-1/test/images/Screen-Recording-2023-03-11-at-9_48_18-PM_mov-8_jpg.rf.0205bd052330eb3a335094930b14666c.jpg: 384x640 (no detections), 6.6ms\n",
            "image 147/329 /content/rock-paper-scissors-1/test/images/Screen-Recording-2023-03-11-at-9_48_18-PM_mov-90_jpg.rf.8e76e5452bd1485160a0b7cf0cd90c24.jpg: 384x640 (no detections), 6.2ms\n",
            "image 148/329 /content/rock-paper-scissors-1/test/images/Screen-Recording-2023-03-11-at-9_48_18-PM_mov-91_jpg.rf.98351da058b9bd0fb17effae20cff281.jpg: 384x640 (no detections), 6.3ms\n",
            "image 149/329 /content/rock-paper-scissors-1/test/images/Screen-Recording-2023-03-11-at-9_48_18-PM_mov-94_jpg.rf.2e6fc9751c7592fd7669ebd7201b36d2.jpg: 384x640 (no detections), 6.8ms\n",
            "image 150/329 /content/rock-paper-scissors-1/test/images/Screen-Shot-2021-05-12-at-3-28-58-PM_png_jpg.rf.f9c8bfd55fd3c15526bbf6935ab2ace3.jpg: 640x640 1 Scissors, 8.0ms\n",
            "image 151/329 /content/rock-paper-scissors-1/test/images/Screen-Shot-2022-02-08-at-12-58-44-PM_png.rf.c041821831c364944c7f9e4143e471d1.jpg: 384x640 1 Paper, 7.7ms\n",
            "image 152/329 /content/rock-paper-scissors-1/test/images/Screen-Shot-2022-02-08-at-12-58-48-PM_png.rf.752ad73bc7a3737d97107accff6f6305.jpg: 352x640 (no detections), 36.0ms\n",
            "image 153/329 /content/rock-paper-scissors-1/test/images/Screen-Shot-2022-02-08-at-12-59-16-PM_png.rf.2325268cec1e45fd3f7d82819922dafd.jpg: 352x640 1 Scissors, 7.2ms\n",
            "image 154/329 /content/rock-paper-scissors-1/test/images/Screen-Shot-2022-02-08-at-12-59-31-PM_png.rf.4fa78ae6f545571eb6068f0d32449a58.jpg: 352x640 1 Scissors, 7.1ms\n",
            "image 155/329 /content/rock-paper-scissors-1/test/images/Screen-Shot-2022-02-14-at-1-09-28-PM_png.rf.9fb2c102bc5a8b9a62c3665e834dbd1f.jpg: 416x640 1 Paper, 39.4ms\n",
            "image 156/329 /content/rock-paper-scissors-1/test/images/Screen-Shot-2022-02-16-at-1-28-19-PM_png.rf.700bea0d3717f6433ad46df1d625687d.jpg: 416x640 (no detections), 6.8ms\n",
            "image 157/329 /content/rock-paper-scissors-1/test/images/Screen-Shot-2022-02-16-at-11-16-38-AM-2-_png.rf.c80fd7501a9cb917fd63c1fa4b0f1615.jpg: 384x640 (no detections), 7.4ms\n",
            "image 158/329 /content/rock-paper-scissors-1/test/images/Screen-Shot-2022-02-16-at-11-20-55-AM-2-_png.rf.13e7187406a8cb807d4597d44615b896.jpg: 384x640 1 Paper, 6.9ms\n",
            "image 159/329 /content/rock-paper-scissors-1/test/images/carcel_139_19_flickr_jpg.rf.896ad40cf55512c63fcc4823b34893df.jpg: 448x640 (no detections), 8.0ms\n",
            "image 160/329 /content/rock-paper-scissors-1/test/images/chambre_resto_1_jpg.rf.7fde5823d838968d123c06b8a14c6eed.jpg: 448x640 (no detections), 6.3ms\n",
            "image 161/329 /content/rock-paper-scissors-1/test/images/egohands-public-1620849847487_png_jpg.rf.4ff7f58a18db438fbf0b232db38ce366.jpg: 480x640 1 Scissors, 7.0ms\n",
            "image 162/329 /content/rock-paper-scissors-1/test/images/egohands-public-1620849869759_png_jpg.rf.8133522f41973ca13c97795ac4c5bf2c.jpg: 480x640 1 Rock, 6.4ms\n",
            "image 163/329 /content/rock-paper-scissors-1/test/images/egohands-public-1620849871605_png_jpg.rf.3bd38a8780bc506391a91c506a570ff5.jpg: 480x640 1 Paper, 6.3ms\n",
            "image 164/329 /content/rock-paper-scissors-1/test/images/egohands-public-1620849873632_png_jpg.rf.83896e8ef5eebff585945d02a9e029e2.jpg: 480x640 1 Paper, 6.3ms\n",
            "image 165/329 /content/rock-paper-scissors-1/test/images/egohands-public-1620850453735_png_jpg.rf.9aea4ddefb5e0397bcf436eff763f488.jpg: 480x640 1 Scissors, 7.6ms\n",
            "image 166/329 /content/rock-paper-scissors-1/test/images/egohands-public-1620852224787_png_jpg.rf.ad8d7229ce2950b923289fc822b278f4.jpg: 480x640 1 Rock, 6.5ms\n",
            "image 167/329 /content/rock-paper-scissors-1/test/images/egohands-public-1620852256502_png_jpg.rf.33108d0ef6bf08947e149ed7b4937213.jpg: 640x640 1 Paper, 8.1ms\n",
            "image 168/329 /content/rock-paper-scissors-1/test/images/egohands-public-1621214243875_png_jpg.rf.5ee26bbeb11d77cd8fae4ef7bbf182a7.jpg: 480x640 (no detections), 6.9ms\n",
            "image 169/329 /content/rock-paper-scissors-1/test/images/egohands-public-1621214254945_png_jpg.rf.96468c6fb20fbb78f3a592ec18885582.jpg: 480x640 1 Paper, 6.5ms\n",
            "image 170/329 /content/rock-paper-scissors-1/test/images/egohands-public-1621214710295_png_jpg.rf.1f038428aaa0b81049e27592111857c8.jpg: 480x640 1 Paper, 6.5ms\n",
            "image 171/329 /content/rock-paper-scissors-1/test/images/egohands-public-1621349890675_png_jpg.rf.fb8d0a93671d4dad15ff72d66bce422d.jpg: 480x640 1 Scissors, 6.4ms\n",
            "image 172/329 /content/rock-paper-scissors-1/test/images/egohands-public-1621349891794_png_jpg.rf.51468564e83f023f157fdb81b455c089.jpg: 480x640 1 Paper, 6.1ms\n",
            "image 173/329 /content/rock-paper-scissors-1/test/images/egohands-public-1621363183329_png_jpg.rf.5682c8fe6173fd39d8205d1aabe5dee9.jpg: 480x640 (no detections), 6.3ms\n",
            "image 174/329 /content/rock-paper-scissors-1/test/images/egohands-public-1621363433558_png_jpg.rf.002ad4524318d7641ba69569e8b14807.jpg: 480x640 (no detections), 6.2ms\n",
            "image 175/329 /content/rock-paper-scissors-1/test/images/egohands-public-1621363477842_png_jpg.rf.45975cbba85354bda86ccb05c3b74633.jpg: 480x640 (no detections), 6.2ms\n",
            "image 176/329 /content/rock-paper-scissors-1/test/images/egohands-public-1621519206541_png_jpg.rf.d2b06a4c149ed12b78faa923693a41b9.jpg: 480x640 (no detections), 6.4ms\n",
            "image 177/329 /content/rock-paper-scissors-1/test/images/egohands-public-1622124256821_png_jpg.rf.ed10e47d1e0df4d97c0b4c6b6c27e666.jpg: 480x640 (no detections), 7.2ms\n",
            "image 178/329 /content/rock-paper-scissors-1/test/images/egohands-public-1622127393755_png_jpg.rf.01e9a88be5d91fe748c4eb962e2128d9.jpg: 480x640 1 Paper, 6.5ms\n",
            "image 179/329 /content/rock-paper-scissors-1/test/images/egohands-public-1622730832103_png_jpg.rf.56710dd270beca80950e81a6beba4d1b.jpg: 480x640 1 Scissors, 7.5ms\n",
            "image 180/329 /content/rock-paper-scissors-1/test/images/egohands-public-1622746667780_png_jpg.rf.737ca2571b05a8cd56c70634773f5347.jpg: 640x640 1 Rock, 7.3ms\n",
            "image 181/329 /content/rock-paper-scissors-1/test/images/egohands-public-1622746679719_png_jpg.rf.f8179adac9d27f077115c1829178b23c.jpg: 480x640 1 Paper, 7.1ms\n",
            "image 182/329 /content/rock-paper-scissors-1/test/images/egohands-public-1622748405009_png_jpg.rf.fd307520faf2bfa9a2f0dd20bc0c7fc3.jpg: 480x640 1 Paper, 6.3ms\n",
            "image 183/329 /content/rock-paper-scissors-1/test/images/egohands-public-1623336382709_png_jpg.rf.e7e3acb0a4332b6e28d717fb01c297b0.jpg: 480x640 1 Paper, 6.7ms\n",
            "image 184/329 /content/rock-paper-scissors-1/test/images/egohands-public-1623336383872_png_jpg.rf.9b80453609478563ddabe18223b49d2f.jpg: 480x640 1 Paper, 6.3ms\n",
            "image 185/329 /content/rock-paper-scissors-1/test/images/egohands-public-1623336386373_png_jpg.rf.20fb891ae0b5a94498ccbba277afd11f.jpg: 480x640 1 Paper, 6.4ms\n",
            "image 186/329 /content/rock-paper-scissors-1/test/images/egohands-public-1623336387512_png_jpg.rf.b634d5f8a1c8325498a8740ec5604331.jpg: 480x640 1 Paper, 6.1ms\n",
            "image 187/329 /content/rock-paper-scissors-1/test/images/egohands-public-1623336393688_png_jpg.rf.943402d506e9aa106db07673a7055d43.jpg: 480x640 1 Rock, 6.4ms\n",
            "image 188/329 /content/rock-paper-scissors-1/test/images/egohands-public-1623358708554_png_jpg.rf.4ce24d162e0ca6f7c3ea15c364a94880.jpg: 480x640 1 Rock, 6.7ms\n",
            "image 189/329 /content/rock-paper-scissors-1/test/images/egohands-public-1623358709389_png_jpg.rf.09907ba31f3de7c877347b63bc62ba4f.jpg: 640x640 1 Rock, 7.2ms\n",
            "image 190/329 /content/rock-paper-scissors-1/test/images/egohands-public-1623358719559_png_jpg.rf.c1b282988ce7ddc5a13aa3c85c22935f.jpg: 480x640 (no detections), 6.9ms\n",
            "image 191/329 /content/rock-paper-scissors-1/test/images/egohands-public-1623712814722_png_jpg.rf.a10f4a0f8533c068a9f8785fd7dcd90e.jpg: 480x640 1 Rock, 6.3ms\n",
            "image 192/329 /content/rock-paper-scissors-1/test/images/egohands-public-1623712835471_png_jpg.rf.2065f3f944c7fb5b512b65f160872777.jpg: 480x640 (no detections), 6.3ms\n",
            "image 193/329 /content/rock-paper-scissors-1/test/images/egohands-public-1623712843454_png_jpg.rf.d9a1135e3cff380e40c5634d8449f3ac.jpg: 480x640 1 Paper, 6.7ms\n",
            "image 194/329 /content/rock-paper-scissors-1/test/images/egohands-public-1623712844639_png_jpg.rf.b9b5788e4c9bc4ee1c86114fce4e7fb6.jpg: 480x640 1 Paper, 6.3ms\n",
            "image 195/329 /content/rock-paper-scissors-1/test/images/egohands-public-1623873260110_png_jpg.rf.f2080a15b8ef9ed579e4e2bbd2ed4cd9.jpg: 480x640 1 Paper, 7.9ms\n",
            "image 196/329 /content/rock-paper-scissors-1/test/images/egohands-public-1623941906012_png_jpg.rf.fa35ecf5706b29a87df4782b9e33b8ca.jpg: 480x640 1 Rock, 8.0ms\n",
            "image 197/329 /content/rock-paper-scissors-1/test/images/egohands-public-1623941913075_png_jpg.rf.f3720edf2c58279cfe4022b43e13c089.jpg: 480x640 1 Paper, 6.3ms\n",
            "image 198/329 /content/rock-paper-scissors-1/test/images/egohands-public-1624053425083_png_jpg.rf.27ea40836b9f5c3dc9d0fb8f45204d54.jpg: 640x640 2 Papers, 6.7ms\n",
            "image 199/329 /content/rock-paper-scissors-1/test/images/egohands-public-1624053426194_png_jpg.rf.ad99f39df9c652becb8a69a81f1806b9.jpg: 480x640 1 Scissors, 6.8ms\n",
            "image 200/329 /content/rock-paper-scissors-1/test/images/egohands-public-1624053436504_png_jpg.rf.d47aea5cd6e78f8cb445b580dd8a1e12.jpg: 480x640 1 Paper, 6.3ms\n",
            "image 201/329 /content/rock-paper-scissors-1/test/images/egohands-public-1624298524238_png_jpg.rf.dc68b52fac72899ddd1873234d7320ad.jpg: 480x640 1 Rock, 6.3ms\n",
            "image 202/329 /content/rock-paper-scissors-1/test/images/egohands-public-1624298528652_png_jpg.rf.0e28cb5c6d05627fce03a01c14cd134d.jpg: 480x640 1 Paper, 6.2ms\n",
            "image 203/329 /content/rock-paper-scissors-1/test/images/egohands-public-1624298530518_png_jpg.rf.0159a98d4c607aedde23f5b3c180c87c.jpg: 640x640 1 Paper, 6.8ms\n",
            "image 204/329 /content/rock-paper-scissors-1/test/images/egohands-public-1624377520223_png_jpg.rf.313fa4864b5b4b5828132534a25f787a.jpg: 480x640 (no detections), 6.7ms\n",
            "image 205/329 /content/rock-paper-scissors-1/test/images/egohands-public-1624377532027_png_jpg.rf.6d1911a9b42461827c87fba154294d47.jpg: 480x640 1 Scissors, 6.3ms\n",
            "image 206/329 /content/rock-paper-scissors-1/test/images/egohands-public-1624377541413_png_jpg.rf.92bbf91816e2ce8f7730901e71054ee3.jpg: 480x640 (no detections), 6.0ms\n",
            "image 207/329 /content/rock-paper-scissors-1/test/images/egohands-public-1624465888641_png_jpg.rf.c8594056855ee5af20fbff80b133eb04.jpg: 480x640 1 Scissors, 8.6ms\n",
            "image 208/329 /content/rock-paper-scissors-1/test/images/egohands-public-1624465891194_png_jpg.rf.d1d94bb1d36197838fa7ce267e28e7ed.jpg: 480x640 (no detections), 6.2ms\n",
            "image 209/329 /content/rock-paper-scissors-1/test/images/egohands-public-1624465893587_png_jpg.rf.f00a330489a7612bed370b61de59f215.jpg: 480x640 1 Paper, 6.4ms\n",
            "image 210/329 /content/rock-paper-scissors-1/test/images/egohands-public-1624465898166_png_jpg.rf.a85bc6acba5df96e675acf01e32e4ac1.jpg: 480x640 (no detections), 6.4ms\n",
            "image 211/329 /content/rock-paper-scissors-1/test/images/egohands-public-1624546403485_png_jpg.rf.9e573742026edccb18dc4268d1da3d9a.jpg: 480x640 1 Paper, 6.5ms\n",
            "image 212/329 /content/rock-paper-scissors-1/test/images/egohands-public-1624550293327_png_jpg.rf.afb5a16458c75f04928b4238cf909957.jpg: 640x640 1 Scissors, 6.9ms\n",
            "image 213/329 /content/rock-paper-scissors-1/test/images/egohands-public-1624550304613_png_jpg.rf.c9914bc3473766e25b7288663fe4d76b.jpg: 480x640 1 Rock, 6.6ms\n",
            "image 214/329 /content/rock-paper-scissors-1/test/images/egohands-public-1624561277010_png_jpg.rf.527d52b0448549360a8ccb512ea6e851.jpg: 480x640 1 Paper, 7.1ms\n",
            "image 215/329 /content/rock-paper-scissors-1/test/images/egohands-public-1624563397953_png_jpg.rf.9695ef79b60052a1eea1b2defa3f899f.jpg: 480x640 (no detections), 6.4ms\n",
            "image 216/329 /content/rock-paper-scissors-1/test/images/egohands-public-1624563408999_png_jpg.rf.26bad5312b8175864cc46c5fa88c71ab.jpg: 640x640 1 Scissors, 7.0ms\n",
            "image 217/329 /content/rock-paper-scissors-1/test/images/egohands-public-1624563408999_png_jpg.rf.fe31031d87386f71e6bdf531a8bb1d87.jpg: 480x640 1 Scissors, 7.1ms\n",
            "image 218/329 /content/rock-paper-scissors-1/test/images/egohands-public-1624972107897_png_jpg.rf.3930c874f741761ae8f128b46f59c6aa.jpg: 480x640 1 Scissors, 6.2ms\n",
            "image 219/329 /content/rock-paper-scissors-1/test/images/egohands-public-1624972110245_png_jpg.rf.cedaaaa62ca6ee4004a18d6bf639345a.jpg: 480x640 1 Paper, 6.4ms\n",
            "image 220/329 /content/rock-paper-scissors-1/test/images/egohands-public-1624972111157_png_jpg.rf.a4c91c99e010a5528455163ff5a366dd.jpg: 480x640 1 Scissors, 6.2ms\n",
            "image 221/329 /content/rock-paper-scissors-1/test/images/egohands-public-1624972114651_png_jpg.rf.8e0f63fafd34c7154aea4494cd9d52e9.jpg: 480x640 (no detections), 8.2ms\n",
            "image 222/329 /content/rock-paper-scissors-1/test/images/egohands-public-1624972119689_png_jpg.rf.e66935c029b424e7d08361ef01b4346e.jpg: 480x640 1 Rock, 6.3ms\n",
            "image 223/329 /content/rock-paper-scissors-1/test/images/egohands-public-1625012658500_png_jpg.rf.3f25a5898446d67e2a451bcba3f3a845.jpg: 480x640 1 Rock, 9.1ms\n",
            "image 224/329 /content/rock-paper-scissors-1/test/images/egohands-public-1625012666756_png_jpg.rf.4c126911f9014c9a53ffabd2327625fd.jpg: 640x640 1 Scissors, 13.8ms\n",
            "image 225/329 /content/rock-paper-scissors-1/test/images/egohands-public-1625012668003_png_jpg.rf.5a286cf08ca76b4cc288d45f73cac888.jpg: 480x640 1 Scissors, 7.1ms\n",
            "image 226/329 /content/rock-paper-scissors-1/test/images/egohands-public-1625012671555_png_jpg.rf.1da8d12ef69affd3ce01e5b2054287d2.jpg: 480x640 (no detections), 7.0ms\n",
            "image 227/329 /content/rock-paper-scissors-1/test/images/egohands-public-1625070637052_png_jpg.rf.bd05a9bdd5d77dfc0df6da9ca01b6af8.jpg: 480x640 1 Scissors, 6.3ms\n",
            "image 228/329 /content/rock-paper-scissors-1/test/images/egohands-public-1625070644197_png_jpg.rf.61fe9c2a7e6e73688cdc667f79547468.jpg: 480x640 1 Scissors, 6.6ms\n",
            "image 229/329 /content/rock-paper-scissors-1/test/images/egohands-public-1625070651933_png_jpg.rf.74551d4ed08cf0aed8fab876df2c0506.jpg: 480x640 1 Rock, 6.5ms\n",
            "image 230/329 /content/rock-paper-scissors-1/test/images/egohands-public-1625151611781_png_jpg.rf.44bedc64abf4681a1c522940a12d2772.jpg: 480x640 1 Paper, 6.3ms\n",
            "image 231/329 /content/rock-paper-scissors-1/test/images/egohands-public-1625254249011_png_jpg.rf.46478b6236de8296230596d7198f8d62.jpg: 480x640 1 Paper, 6.2ms\n",
            "image 232/329 /content/rock-paper-scissors-1/test/images/egohands-public-1625679159400_png_jpg.rf.0d7fe349ad8e32809099d96e578fc525.jpg: 480x640 (no detections), 7.0ms\n",
            "image 233/329 /content/rock-paper-scissors-1/test/images/egohands-public-1625756311389_png_jpg.rf.01a917b747279ef4586bc5260dd0aa00.jpg: 480x640 1 Paper, 6.4ms\n",
            "image 234/329 /content/rock-paper-scissors-1/test/images/egohands-public-1625756317309_png_jpg.rf.e4e01bb26d5c4fb5e2f7aea44cc881d0.jpg: 480x640 1 Rock, 6.2ms\n",
            "image 235/329 /content/rock-paper-scissors-1/test/images/egohands-public-1625860387830_png_jpg.rf.fe590a5a0901ee2ddb50a4d4461d5acf.jpg: 480x640 1 Rock, 6.3ms\n",
            "image 236/329 /content/rock-paper-scissors-1/test/images/egohands-public-1625860388598_png_jpg.rf.a4681ee3fcd5323563ec92207236f306.jpg: 480x640 1 Rock, 6.3ms\n",
            "image 237/329 /content/rock-paper-scissors-1/test/images/egohands-public-1625860395055_png_jpg.rf.0cc9feb53cd68750b6c52d9d7e88ce03.jpg: 480x640 1 Paper, 6.0ms\n",
            "image 238/329 /content/rock-paper-scissors-1/test/images/egohands-public-1626201612073_png_jpg.rf.54160b6f43978fbcff10801297fc51da.jpg: 480x640 1 Rock, 6.0ms\n",
            "image 239/329 /content/rock-paper-scissors-1/test/images/egohands-public-1626201614270_png_jpg.rf.a780ddf7d466103d22102fc96bb0f8b2.jpg: 480x640 1 Rock, 7.8ms\n",
            "image 240/329 /content/rock-paper-scissors-1/test/images/egohands-public-1626355936259_png_jpg.rf.5b2f3a30ac78eb7aed952f595e05078d.jpg: 480x640 1 Scissors, 8.0ms\n",
            "image 241/329 /content/rock-paper-scissors-1/test/images/egohands-public-1626386619095_png_jpg.rf.203549f76138103448e87d8094b46010.jpg: 480x640 1 Paper, 6.5ms\n",
            "image 242/329 /content/rock-paper-scissors-1/test/images/egohands-public-1626460203729_png_jpg.rf.fdb39c14264c92ecbb9dd5af872d173d.jpg: 480x640 (no detections), 6.6ms\n",
            "image 243/329 /content/rock-paper-scissors-1/test/images/egohands-public-1626460207007_png_jpg.rf.4a543b66615c88685acb6cb7fd74a139.jpg: 480x640 (no detections), 6.5ms\n",
            "image 244/329 /content/rock-paper-scissors-1/test/images/egohands-public-1626460211490_png_jpg.rf.e740d06d074b64a8e81bde0f69ce6e8e.jpg: 480x640 1 Rock, 6.6ms\n",
            "image 245/329 /content/rock-paper-scissors-1/test/images/egohands-public-1626460213979_png_jpg.rf.0484cda7a40dfea8e85af61858149d3d.jpg: 640x640 1 Scissors, 6.9ms\n",
            "image 246/329 /content/rock-paper-scissors-1/test/images/egohands-public-1626966059622_png_jpg.rf.a7e0b394c168a8a75d8bc61dc6888cba.jpg: 480x640 (no detections), 6.8ms\n",
            "image 247/329 /content/rock-paper-scissors-1/test/images/egohands-public-1626966060817_png_jpg.rf.8bb923ddcef6c2ef0c643602665320ab.jpg: 480x640 (no detections), 7.4ms\n",
            "image 248/329 /content/rock-paper-scissors-1/test/images/egohands-public-1626966067167_png_jpg.rf.743d7760d839e86af1a2c967b8f65e2a.jpg: 480x640 1 Rock, 6.1ms\n",
            "image 249/329 /content/rock-paper-scissors-1/test/images/egohands-public-1627056101745_png_jpg.rf.4cad8163407ba1fa93b95c951aeec073.jpg: 480x640 1 Scissors, 6.3ms\n",
            "image 250/329 /content/rock-paper-scissors-1/test/images/egohands-public-1627056109772_png_jpg.rf.a41b403b238514eaf9dbe96a29fba40a.jpg: 480x640 1 Paper, 6.4ms\n",
            "image 251/329 /content/rock-paper-scissors-1/test/images/egohands-public-1628705398306_png_jpg.rf.467c2c8dd37ce58f03656078ccb73a5b.jpg: 640x640 1 Rock, 7.5ms\n",
            "image 252/329 /content/rock-paper-scissors-1/test/images/egohands-public-1628705401923_png_jpg.rf.95a5355faf48da559c5f07c891f66b80.jpg: 480x640 1 Scissors, 8.9ms\n",
            "image 253/329 /content/rock-paper-scissors-1/test/images/jail02_jpg.rf.07be91ca8a2ab9fe0eae509441fef0b1.jpg: 640x640 (no detections), 7.1ms\n",
            "image 254/329 /content/rock-paper-scissors-1/test/images/piscina_cubierta_05_06_altavista_jpg.rf.dd7ccc827c0c4bd83934de2ddf0b5676.jpg: 448x640 (no detections), 7.1ms\n",
            "image 255/329 /content/rock-paper-scissors-1/test/images/piscina_nott1_jpg.rf.a3cc7e13938dbeb87298d020e631d07b.jpg: 448x640 (no detections), 6.4ms\n",
            "image 256/329 /content/rock-paper-scissors-1/test/images/prison_cell_03_11_altavista_jpg.rf.15666179a7ffa1da2ce985ae3e3580aa.jpg: 480x640 (no detections), 7.1ms\n",
            "image 257/329 /content/rock-paper-scissors-1/test/images/restaurant_01_09_altavista_jpg.rf.7b515df54d39ef44152cd9296cc11c38.jpg: 480x640 (no detections), 6.5ms\n",
            "image 258/329 /content/rock-paper-scissors-1/test/images/restaurant_06_10_altavista_jpg.rf.59913154231d72800fc25c50c6b5806a.jpg: 480x640 (no detections), 6.4ms\n",
            "image 259/329 /content/rock-paper-scissors-1/test/images/restaurant_08_15_altavista_jpg.rf.183e19559efc98923d9c647a42354fd6.jpg: 512x640 (no detections), 7.2ms\n",
            "image 260/329 /content/rock-paper-scissors-1/test/images/restaurant_08_20_altavista_jpg.rf.d12f26aca38dd5994aca7485f3510427.jpg: 544x640 (no detections), 35.5ms\n",
            "image 261/329 /content/rock-paper-scissors-1/test/images/restaurant_11_10_altavista_jpg.rf.a07a92f9c1c5a0a05cf7a4c8cab7452a.jpg: 640x608 (no detections), 34.8ms\n",
            "image 262/329 /content/rock-paper-scissors-1/test/images/restaurant_26_14_altavista_jpg.rf.182a6293a6483b415ed84953af06586c.jpg: 480x640 (no detections), 7.2ms\n",
            "image 263/329 /content/rock-paper-scissors-1/test/images/schwimmen03_g_jpg.rf.6549b5b9b63b6be725529fa4cbfc4760.jpg: 512x640 (no detections), 6.9ms\n",
            "image 264/329 /content/rock-paper-scissors-1/test/images/youtube-0_jpg.rf.e402c60e2c944347f701946d959a861a.jpg: 384x640 (no detections), 7.0ms\n",
            "image 265/329 /content/rock-paper-scissors-1/test/images/youtube-114_jpg.rf.6464c423c9cb81f74cde9252b25528ad.jpg: 384x640 1 Paper, 1 Scissors, 9.0ms\n",
            "image 266/329 /content/rock-paper-scissors-1/test/images/youtube-115_jpg.rf.60c14446d365d638fac8e053572dc85b.jpg: 384x640 1 Paper, 1 Scissors, 6.9ms\n",
            "image 267/329 /content/rock-paper-scissors-1/test/images/youtube-117_jpg.rf.88eb3a26b749e4761b243d415caa5c87.jpg: 384x640 2 Rocks, 6.7ms\n",
            "image 268/329 /content/rock-paper-scissors-1/test/images/youtube-119_jpg.rf.25664e63a1e8a20a1893bd702d33910c.jpg: 384x640 2 Rocks, 6.9ms\n",
            "image 269/329 /content/rock-paper-scissors-1/test/images/youtube-11_jpg.rf.ad644098d063b6618e5e1a7346ae2e88.jpg: 384x640 2 Rocks, 7.0ms\n",
            "image 270/329 /content/rock-paper-scissors-1/test/images/youtube-124_jpg.rf.72d17819016c86eaa12773c14a39e710.jpg: 384x640 2 Scissorss, 7.1ms\n",
            "image 271/329 /content/rock-paper-scissors-1/test/images/youtube-124_jpg.rf.752380ba55b630ce4ee350079b62d3bb.jpg: 384x640 2 Rocks, 6.5ms\n",
            "image 272/329 /content/rock-paper-scissors-1/test/images/youtube-127_jpg.rf.6566b9ec0359dc85c42c48ae6d4c6ded.jpg: 384x640 1 Rock, 1 Scissors, 6.6ms\n",
            "image 273/329 /content/rock-paper-scissors-1/test/images/youtube-133_jpg.rf.8560d62269116c2e4e2d865ad480deff.jpg: 384x640 (no detections), 6.8ms\n",
            "image 274/329 /content/rock-paper-scissors-1/test/images/youtube-137_jpg.rf.181752bdc05e422f7f5373c46f47fca4.jpg: 384x640 (no detections), 6.6ms\n",
            "image 275/329 /content/rock-paper-scissors-1/test/images/youtube-139_jpg.rf.9430d232388ae2babfec2c1945faed2c.jpg: 384x640 (no detections), 6.8ms\n",
            "image 276/329 /content/rock-paper-scissors-1/test/images/youtube-140_jpg.rf.38d1722c81d21f30c6df9332fcc60fcb.jpg: 384x640 (no detections), 7.0ms\n",
            "image 277/329 /content/rock-paper-scissors-1/test/images/youtube-20_jpg.rf.428457e1c2261822a3d7e748ff1d5667.jpg: 384x640 (no detections), 7.3ms\n",
            "image 278/329 /content/rock-paper-scissors-1/test/images/youtube-25_jpg.rf.890d988e18f05cab1b13bdcb8c5aed27.jpg: 384x640 1 Rock, 7.1ms\n",
            "image 279/329 /content/rock-paper-scissors-1/test/images/youtube-29_jpg.rf.277d762954ca1895b7a6cfdb37d9f70b.jpg: 384x640 1 Rock, 6.6ms\n",
            "image 280/329 /content/rock-paper-scissors-1/test/images/youtube-2_jpg.rf.73c95ba891617b0574c6740f40102e97.jpg: 384x640 2 Rocks, 6.6ms\n",
            "image 281/329 /content/rock-paper-scissors-1/test/images/youtube-34_jpg.rf.06036abaa441bb588d9bca85df71f745.jpg: 384x640 1 Scissors, 9.5ms\n",
            "image 282/329 /content/rock-paper-scissors-1/test/images/youtube-37_jpg.rf.8fa50a66264e0e8d7a90d603e6041461.jpg: 384x640 1 Paper, 6.7ms\n",
            "image 283/329 /content/rock-paper-scissors-1/test/images/youtube-39_jpg.rf.dc9d33d2733f231e125fd8172432919c.jpg: 384x640 1 Scissors, 6.5ms\n",
            "image 284/329 /content/rock-paper-scissors-1/test/images/youtube-3_jpg.rf.ab57d5afcf30752388d7dc78f7aa31ff.jpg: 384x640 (no detections), 6.6ms\n",
            "image 285/329 /content/rock-paper-scissors-1/test/images/youtube-40_jpg.rf.fa129b9f452b382c901f402cd72afda6.jpg: 384x640 1 Scissors, 6.4ms\n",
            "image 286/329 /content/rock-paper-scissors-1/test/images/youtube-46_jpg.rf.c0a10431b7db5f5a0c6a6762cca933c1.jpg: 384x640 (no detections), 6.4ms\n",
            "image 287/329 /content/rock-paper-scissors-1/test/images/youtube-50_jpg.rf.0f9d92e61f00230352c6e578d3c4f1ae.jpg: 384x640 (no detections), 6.5ms\n",
            "image 288/329 /content/rock-paper-scissors-1/test/images/youtube-51_jpg.rf.da3c89d910e8bebd186493ca510b4b45.jpg: 384x640 (no detections), 8.6ms\n",
            "image 289/329 /content/rock-paper-scissors-1/test/images/youtube-56_jpg.rf.52f1bcc814bcd454b6fba1e2cd522d1a.jpg: 384x640 2 Scissorss, 6.6ms\n",
            "image 290/329 /content/rock-paper-scissors-1/test/images/youtube-58_jpg.rf.a4dfc66eb826f7024daf0c77149b0c04.jpg: 384x640 1 Rock, 6.8ms\n",
            "image 291/329 /content/rock-paper-scissors-1/test/images/youtube-59_jpg.rf.24beb7ce3cc125542dc951d4834e37a0.jpg: 384x640 1 Rock, 11.9ms\n",
            "image 292/329 /content/rock-paper-scissors-1/test/images/youtube-63_jpg.rf.42785cf104cfb98f77f367519e6cd435.jpg: 384x640 1 Paper, 1 Rock, 12.4ms\n",
            "image 293/329 /content/rock-paper-scissors-1/test/images/youtube-69_jpg.rf.c3cbd0be693cbce37d2cf6aa0b51f513.jpg: 384x640 (no detections), 10.2ms\n",
            "image 294/329 /content/rock-paper-scissors-1/test/images/youtube-70_jpg.rf.833cea0075e4e33173ed60b5d121c356.jpg: 384x640 (no detections), 9.3ms\n",
            "image 295/329 /content/rock-paper-scissors-1/test/images/youtube-84_jpg.rf.9b85065126b3f783926f073ce39913ef.jpg: 384x640 1 Rock, 13.0ms\n",
            "image 296/329 /content/rock-paper-scissors-1/test/images/youtube-93_jpg.rf.0e22a54d144f0903db8ebf498cb858e5.jpg: 384x640 1 Scissors, 19.6ms\n",
            "image 297/329 /content/rock-paper-scissors-1/test/images/zoom_tests_RockPaperScissors-mohamed_mp4-104_jpg.rf.9928b85ea404b2eba1b50982422a1b42.jpg: 384x640 (no detections), 12.0ms\n",
            "image 298/329 /content/rock-paper-scissors-1/test/images/zoom_tests_RockPaperScissors-mohamed_mp4-107_jpg.rf.574fd31acc1c7521c91e0532b065bdc9.jpg: 384x640 1 Paper, 11.4ms\n",
            "image 299/329 /content/rock-paper-scissors-1/test/images/zoom_tests_RockPaperScissors-mohamed_mp4-108_jpg.rf.751db854ff652464e28388aecf2d7225.jpg: 384x640 1 Paper, 8.5ms\n",
            "image 300/329 /content/rock-paper-scissors-1/test/images/zoom_tests_RockPaperScissors-mohamed_mp4-110_jpg.rf.b6d85a8eaf2e3b74bdc97dee96f5803c.jpg: 384x640 1 Paper, 8.7ms\n",
            "image 301/329 /content/rock-paper-scissors-1/test/images/zoom_tests_RockPaperScissors-mohamed_mp4-114_jpg.rf.94d4a73766001b7460029a03e220eefa.jpg: 384x640 1 Paper, 12.5ms\n",
            "image 302/329 /content/rock-paper-scissors-1/test/images/zoom_tests_RockPaperScissors-mohamed_mp4-12_jpg.rf.8f648f623262b90470d1ac7648328ae2.jpg: 384x640 (no detections), 11.1ms\n",
            "image 303/329 /content/rock-paper-scissors-1/test/images/zoom_tests_RockPaperScissors-mohamed_mp4-137_jpg.rf.e373b1e19564eda9f60d954948fe2612.jpg: 384x640 1 Paper, 7.9ms\n",
            "image 304/329 /content/rock-paper-scissors-1/test/images/zoom_tests_RockPaperScissors-mohamed_mp4-143_jpg.rf.0fa02f375d473328731e874aaab64b95.jpg: 384x640 1 Paper, 8.1ms\n",
            "image 305/329 /content/rock-paper-scissors-1/test/images/zoom_tests_RockPaperScissors-mohamed_mp4-147_jpg.rf.9f9b7f6ff2e28fee0448a9d396d3e563.jpg: 384x640 1 Paper, 11.0ms\n",
            "image 306/329 /content/rock-paper-scissors-1/test/images/zoom_tests_RockPaperScissors-mohamed_mp4-157_jpg.rf.f624fe50f049b9cf6c79c71078ebe70f.jpg: 384x640 (no detections), 9.0ms\n",
            "image 307/329 /content/rock-paper-scissors-1/test/images/zoom_tests_RockPaperScissors-mohamed_mp4-164_jpg.rf.a272ac4b74ded9df69b759ed5304230f.jpg: 384x640 1 Paper, 12.2ms\n",
            "image 308/329 /content/rock-paper-scissors-1/test/images/zoom_tests_RockPaperScissors-mohamed_mp4-178_jpg.rf.ad45b2ecbeb1f0b06b17a1abd4af0c32.jpg: 384x640 1 Scissors, 8.6ms\n",
            "image 309/329 /content/rock-paper-scissors-1/test/images/zoom_tests_RockPaperScissors-mohamed_mp4-187_jpg.rf.084728d9add7b3f81611348d3fab86f1.jpg: 384x640 1 Scissors, 9.0ms\n",
            "image 310/329 /content/rock-paper-scissors-1/test/images/zoom_tests_RockPaperScissors-mohamed_mp4-199_jpg.rf.0ad2e3804bd096997143cae904b27ebd.jpg: 384x640 1 Scissors, 8.1ms\n",
            "image 311/329 /content/rock-paper-scissors-1/test/images/zoom_tests_RockPaperScissors-mohamed_mp4-209_jpg.rf.906e9ee7a33273757f0ae7a336db9724.jpg: 384x640 1 Scissors, 9.9ms\n",
            "image 312/329 /content/rock-paper-scissors-1/test/images/zoom_tests_RockPaperScissors-mohamed_mp4-216_jpg.rf.fc631b7541fa45f06d9165969d4ac719.jpg: 384x640 1 Scissors, 8.7ms\n",
            "image 313/329 /content/rock-paper-scissors-1/test/images/zoom_tests_RockPaperScissors-mohamed_mp4-238_jpg.rf.bafceac669070a715d8e29de7141ba46.jpg: 384x640 (no detections), 8.5ms\n",
            "image 314/329 /content/rock-paper-scissors-1/test/images/zoom_tests_RockPaperScissors-mohamed_mp4-243_jpg.rf.f6653f9aad0320972921d28b8625f636.jpg: 384x640 (no detections), 8.1ms\n",
            "image 315/329 /content/rock-paper-scissors-1/test/images/zoom_tests_RockPaperScissors-mohamed_mp4-254_jpg.rf.8a827a8954d39d64a79a7f3e37b001e0.jpg: 384x640 (no detections), 8.3ms\n",
            "image 316/329 /content/rock-paper-scissors-1/test/images/zoom_tests_RockPaperScissors-mohamed_mp4-256_jpg.rf.8739221852df24f1abd7c38c75808dd8.jpg: 384x640 (no detections), 8.1ms\n",
            "image 317/329 /content/rock-paper-scissors-1/test/images/zoom_tests_RockPaperScissors-mohamed_mp4-27_jpg.rf.221becb40410861555a1bacac359cac1.jpg: 384x640 (no detections), 8.0ms\n",
            "image 318/329 /content/rock-paper-scissors-1/test/images/zoom_tests_RockPaperScissors-mohamed_mp4-285_jpg.rf.e841e1b4b26c26049b559dff56dfe57a.jpg: 384x640 (no detections), 8.0ms\n",
            "image 319/329 /content/rock-paper-scissors-1/test/images/zoom_tests_RockPaperScissors-mohamed_mp4-291_jpg.rf.8b81fdf2fb775797f5426ebe2d94050e.jpg: 384x640 (no detections), 8.2ms\n",
            "image 320/329 /content/rock-paper-scissors-1/test/images/zoom_tests_RockPaperScissors-mohamed_mp4-324_jpg.rf.c60ee68e149581d52b40309a55e63c55.jpg: 384x640 (no detections), 8.4ms\n",
            "image 321/329 /content/rock-paper-scissors-1/test/images/zoom_tests_RockPaperScissors-mohamed_mp4-37_jpg.rf.9c69cff35c2325e159ebeeab50709540.jpg: 384x640 1 Rock, 8.3ms\n",
            "image 322/329 /content/rock-paper-scissors-1/test/images/zoom_tests_RockPaperScissors-mohamed_mp4-3_jpg.rf.63e39a3dfa13c684bb0912bde13d56ec.jpg: 384x640 (no detections), 8.2ms\n",
            "image 323/329 /content/rock-paper-scissors-1/test/images/zoom_tests_RockPaperScissors-mohamed_mp4-42_jpg.rf.33efe701c9a960fbec81c4376e1a5fbd.jpg: 384x640 (no detections), 8.2ms\n",
            "image 324/329 /content/rock-paper-scissors-1/test/images/zoom_tests_RockPaperScissors-mohamed_mp4-58_jpg.rf.feeacafd61a9896a6009c2a3e1317609.jpg: 384x640 1 Rock, 11.3ms\n",
            "image 325/329 /content/rock-paper-scissors-1/test/images/zoom_tests_RockPaperScissors-mohamed_mp4-72_jpg.rf.964c3aeb177312359f4913027f5d6ea9.jpg: 384x640 1 Rock, 8.2ms\n",
            "image 326/329 /content/rock-paper-scissors-1/test/images/zoom_tests_RockPaperScissors-mohamed_mp4-74_jpg.rf.21233c76898d2484afc3590796629ae5.jpg: 384x640 1 Rock, 8.7ms\n",
            "image 327/329 /content/rock-paper-scissors-1/test/images/zoom_tests_RockPaperScissors-mohamed_mp4-79_jpg.rf.ce5991e7a9e9fe9adaae1b19ddf0eca1.jpg: 384x640 1 Rock, 7.6ms\n",
            "image 328/329 /content/rock-paper-scissors-1/test/images/zoom_tests_RockPaperScissors-mohamed_mp4-87_jpg.rf.c4088d5a10c8eba89b6f2138ace7f494.jpg: 384x640 1 Rock, 7.5ms\n",
            "image 329/329 /content/rock-paper-scissors-1/test/images/zoom_tests_RockPaperScissors-mohamed_mp4-99_jpg.rf.fd6bf5f0b4e4a7ed35b7984be7f9a217.jpg: 384x640 1 Rock, 7.6ms\n",
            "Speed: 1.9ms preprocess, 8.3ms inference, 1.2ms postprocess per image at shape (1, 3, 384, 640)\n",
            "Results saved to \u001b[1mruns/detect/train2\u001b[0m\n"
          ]
        }
      ]
    },
    {
      "cell_type": "code",
      "source": [
        "metrics = model.val()\n",
        "\n",
        "print(\"\\nOverall precision:\", metrics.box.p.mean())\n",
        "print(\"Overall recall:\", metrics.box.r.mean())\n",
        "print(\"Overall mAP50:\", metrics.box.map50.mean())\n",
        "print(\"Overall mAP50-95:\", metrics.box.map.mean())"
      ],
      "metadata": {
        "colab": {
          "base_uri": "https://localhost:8080/"
        },
        "id": "jEPuDhWn7xqE",
        "outputId": "1fc6c05b-1d72-4346-dee2-535a314395db"
      },
      "execution_count": 5,
      "outputs": [
        {
          "output_type": "stream",
          "name": "stdout",
          "text": [
            "Ultralytics 8.3.167 🚀 Python-3.11.13 torch-2.6.0+cu124 CUDA:0 (Tesla T4, 15095MiB)\n",
            "\u001b[34m\u001b[1mval: \u001b[0mFast image access ✅ (ping: 0.0±0.0 ms, read: 1459.2±581.1 MB/s, size: 66.1 KB)\n"
          ]
        },
        {
          "output_type": "stream",
          "name": "stderr",
          "text": [
            "\u001b[34m\u001b[1mval: \u001b[0mScanning /content/rock-paper-scissors-1/valid/labels.cache... 604 images, 251 backgrounds, 0 corrupt: 100%|██████████| 604/604 [00:00<?, ?it/s]\n",
            "                 Class     Images  Instances      Box(P          R      mAP50  mAP50-95): 100%|██████████| 38/38 [00:06<00:00,  5.65it/s]\n"
          ]
        },
        {
          "output_type": "stream",
          "name": "stdout",
          "text": [
            "                   all        604        418      0.956      0.907      0.951      0.762\n",
            "                 Paper        139        146      0.955      0.904      0.951      0.771\n",
            "                  Rock        128        150      0.949      0.907       0.95      0.739\n",
            "              Scissors        118        122      0.965      0.909      0.953      0.775\n",
            "Speed: 0.5ms preprocess, 3.2ms inference, 0.0ms loss, 1.8ms postprocess per image\n",
            "Results saved to \u001b[1mruns/detect/train3\u001b[0m\n",
            "\n",
            "Overall precision: 0.9561360916141753\n",
            "Overall recall: 0.9065291820824771\n",
            "Overall mAP50: 0.9513630559890097\n",
            "Overall mAP50-95: 0.7617538351354263\n"
          ]
        }
      ]
    }
  ]
}